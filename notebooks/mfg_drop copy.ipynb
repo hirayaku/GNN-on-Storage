{
 "cells": [
  {
   "attachments": {},
   "cell_type": "markdown",
   "metadata": {},
   "source": [
    "## Accuracy Study of Lossy MFG\n",
    "\n",
    "We select some non-training nodes in MFG and drop their incoming edges to simulate the effects of node partitioning.\n",
    "\n",
    "There may be several strategies for choosing those nodes:\n",
    "* random\n",
    "* random but excluding important (i.e. high-degree) nodes\n",
    "* based on the influence score\n"
   ]
  },
  {
   "cell_type": "code",
   "execution_count": 1,
   "metadata": {},
   "outputs": [
    {
     "name": "stdout",
     "output_type": "stream",
     "text": [
      "PyTorch: 2.0.1+cu117 /home/tianhaoh/.local/lib/python3.9/site-packages/torch\n",
      "PyG: 2.3.1 /home/tianhaoh/.local/lib/python3.9/site-packages/torch_geometric\n",
      "CPU parallelism: 12\n"
     ]
    }
   ],
   "source": [
    "import sys\n",
    "sys.path.append(\"..\")\n",
    "import torch, torch_geometric as pyg\n",
    "import models.pyg as pyg_models\n",
    "\n",
    "print(\"PyTorch:\", torch.__version__, *torch.__path__)\n",
    "print(\"PyG:\", pyg.__version__, *pyg.__path__)\n",
    "print(\"CPU parallelism:\", torch.get_num_threads())"
   ]
  },
  {
   "cell_type": "code",
   "execution_count": 49,
   "metadata": {},
   "outputs": [
    {
     "name": "stdout",
     "output_type": "stream",
     "text": [
      "Data(x=[13752, 767], y=[13752], adj_t=[13752, 13752, nnz=491722], NID=[13752])\n",
      "train: 3438, val: 6876, test: 3438\n"
     ]
    }
   ],
   "source": [
    "import os\n",
    "from pathlib import Path\n",
    "from ogb.nodeproppred import PygNodePropPredDataset\n",
    "import torch_geometric.transforms as T\n",
    "from torch_geometric.datasets.amazon import Amazon\n",
    "from torch_geometric.utils import mask_to_index\n",
    "from torch_geometric.loader import NeighborLoader, NeighborSampler\n",
    "from logger import Logger\n",
    "import pickle\n",
    "\n",
    "path = Path('/mnt/md0/datasets/')\n",
    "# name = 'arxiv'\n",
    "# dataset = PygNodePropPredDataset(\n",
    "#     root=path, name='ogbn-arxiv',\n",
    "#     pre_transform=T.ToUndirected(),\n",
    "#     transform=T.ToSparseTensor()\n",
    "# )\n",
    "# data = dataset[0]\n",
    "# data.NID = torch.arange(0, data.num_nodes, dtype=torch.int32)\n",
    "# num_classes = dataset.num_classes\n",
    "# print(data)\n",
    "\n",
    "name = 'amazon'\n",
    "dataset = Amazon(path / name, \"Computers\", pre_transform=T.ToUndirected(), transform=T.ToSparseTensor())\n",
    "if not hasattr(dataset, name):\n",
    "    dataset.name = name\n",
    "data = dataset[0]\n",
    "data.NID = torch.arange(0, data.num_nodes, dtype=torch.int32)\n",
    "num_classes = dataset.num_classes\n",
    "print(data)\n",
    "# train_nid, val_nid, test_nid = [\n",
    "#     mask_to_index(mask) for mask in (data.train_mask, data.val_mask, data.test_mask)\n",
    "# ]\n",
    "if os.path.exists(f'rand_split_{name}.pt'):\n",
    "    perm = torch.load(f'rand_split_{name}.pt')\n",
    "else:\n",
    "    perm = torch.randperm(data.num_nodes)\n",
    "    torch.save(perm, f'rand_split_{name}.pt')\n",
    "train_nid = perm[:data.num_nodes//4]\n",
    "val_nid = perm[data.num_nodes//2:]\n",
    "test_nid = perm[data.num_nodes//4:data.num_nodes//2]\n",
    "print(f\"train: {len(train_nid)}, val: {len(val_nid)}, test: {len(test_nid)}\")\n",
    "device = torch.device('cuda') if torch.cuda.is_available() else torch.device('cpu')\n",
    "\n",
    "num_layers = 3\n",
    "num_hidden = 128\n",
    "fanout = [-1] * num_layers\n",
    "eval_fanout = [-1] * num_layers\n",
    "batch_size = 256\n",
    "n_epochs = 50\n",
    "n_runs = 5\n",
    "\n",
    "def get_info():\n",
    "    return {\n",
    "        'dataset': dataset.name,\n",
    "        'num_layers': num_layers, 'num_hidden': num_hidden,\n",
    "        'fanout': fanout, 'batch_size': batch_size,\n",
    "        'n_epochs': n_epochs, 'n_runs': n_runs\n",
    "    }\n"
   ]
  },
  {
   "cell_type": "code",
   "execution_count": 5,
   "metadata": {},
   "outputs": [
    {
     "name": "stderr",
     "output_type": "stream",
     "text": [
      "100%|██████████| 3438/3438 [00:02<00:00, 1313.25it/s]\n"
     ]
    }
   ],
   "source": [
    "from graphutils.rw import lazy_rw\n",
    "\n",
    "def influential(data, nids, k=3, topk=100):\n",
    "    init_score = torch.zeros((data.num_nodes,), device=nids.device)\n",
    "    init_score[nids] = 1 / nids.size(0)\n",
    "    final_score = lazy_rw(data.adj_t, init_score, k=k)\n",
    "    topk = final_score.cpu().topk(topk)\n",
    "    # print(\"score sum:\", final_score.sum(), \"topk sum:\", topk.values.sum())\n",
    "    return topk.indices, topk.values\n",
    "\n",
    "def importance(data, nids, k=3, topk=100):\n",
    "    init_score = torch.zeros((data.num_nodes,), device=nids.device)\n",
    "    init_score[nids] = 1 / nids.size(0)\n",
    "    final_score = torch.zeros_like(init_score)\n",
    "    score = init_score\n",
    "    for _ in range(k):\n",
    "        score = lazy_rw(data.adj_t, score, k=1)\n",
    "        final_score += score\n",
    "    topk = (final_score/k).cpu().topk(topk)\n",
    "    # print(\"score sum:\", final_score.sum(), \"topk sum:\", topk.values.sum())\n",
    "    return topk.indices, topk.values\n",
    "\n",
    "data_cuda = data.cuda()\n",
    "train_cuda = train_nid.cuda()\n",
    "train_topk = torch.empty((data.num_nodes, 100), dtype=torch.long)\n",
    "train_topk_scores = torch.empty((data.num_nodes, 100), dtype=torch.float)\n",
    "from tqdm import tqdm\n",
    "for t in tqdm(train_cuda.tolist()):\n",
    "    t_topk = importance(data_cuda, torch.tensor([t], device='cuda'), k=num_layers, topk=100)\n",
    "    train_topk[t][:] = t_topk[0]\n",
    "    train_topk_scores[t][:] = t_topk[1]\n",
    "\n",
    "train_topk, train_topk_scores = train_topk.cuda(), train_topk_scores.cuda()"
   ]
  },
  {
   "cell_type": "code",
   "execution_count": 8,
   "metadata": {},
   "outputs": [
    {
     "data": {
      "text/plain": [
       "tensor(0.9296, device='cuda:0')"
      ]
     },
     "execution_count": 8,
     "metadata": {},
     "output_type": "execute_result"
    }
   ],
   "source": [
    "train_topk_scores[train_nid[1]].sum()"
   ]
  },
  {
   "cell_type": "code",
   "execution_count": 9,
   "metadata": {},
   "outputs": [],
   "source": [
    "import tqdm\n",
    "from pyinstrument import Profiler\n",
    "import torch.nn.functional as F\n",
    "\n",
    "# val_dataloader = NeighborLoader(\n",
    "#     data, num_neighbors=fanout, shuffle=False,\n",
    "#     input_nodes=val_nid, batch_size=batch_size,\n",
    "# )\n",
    "# test_dataloader = NeighborLoader(\n",
    "#     data, num_neighbors=fanout, shuffle=False,\n",
    "#     input_nodes=test_nid, batch_size=batch_size,\n",
    "# )\n",
    "\n",
    "def train(model, optimizer, dataloader, description='train'):\n",
    "    model.train()\n",
    "    # minibatches = tqdm.tqdm(dataloader)\n",
    "    # minibatches.set_description(description)\n",
    "    total_loss = total_correct = total_examples = 0\n",
    "    mfg_sizes = num_nodes = alive_nodes = batch_score = 0\n",
    "    for batch in dataloader:\n",
    "        bsize = batch.batch_size\n",
    "        dev_attrs = [key for key in batch.keys if not key.endswith('_mask')]\n",
    "        batch = batch.to(device, *dev_attrs, non_blocking=True)\n",
    "        optimizer.zero_grad()\n",
    "        y = batch.y[:bsize].long().view(-1)\n",
    "        y_hat = model(batch.x, batch.adj_t)[:bsize]\n",
    "        loss = F.nll_loss(y_hat, y)\n",
    "        loss.backward()\n",
    "        optimizer.step()\n",
    "        # collect stats\n",
    "        total_loss += float(loss) * bsize\n",
    "        batch_correct = int((y_hat.argmax(dim=-1) == y).sum())\n",
    "        total_correct += batch_correct\n",
    "        total_examples += bsize\n",
    "        mfg_sizes += batch.adj_t.nnz()\n",
    "        num_nodes += batch.num_nodes\n",
    "        alive_nodes += batch.alive_nodes\n",
    "        batch_score += batch.score\n",
    "    train_acc = total_correct / total_examples\n",
    "    num_iters = len(dataloader)\n",
    "    # loss, acc, batch_nodes, rem_nodes, rem_edges, batch_score\n",
    "    return total_loss / total_examples, train_acc, \\\n",
    "        num_nodes/num_iters, alive_nodes / num_iters, \\\n",
    "        mfg_sizes / num_iters, batch_score / total_examples\n",
    "\n",
    "@torch.no_grad()\n",
    "def eval_batch(model, dataloader, description='eval'):\n",
    "    model.eval()\n",
    "    minibatches = tqdm.tqdm(dataloader)\n",
    "    total_loss = total_correct = total_examples = 0\n",
    "    for batch in minibatches:\n",
    "        bsize = batch.batch_size\n",
    "        dev_attrs = [key for key in batch.keys if not key.endswith('_mask')]\n",
    "        batch = batch.to(device, *dev_attrs, non_blocking=True)\n",
    "        y = batch.y[:bsize].long().view(-1)\n",
    "        y_hat = model(batch.x, batch.adj_t)[:bsize]\n",
    "        loss = F.nll_loss(y_hat, y)\n",
    "        # collect stats\n",
    "        total_loss += float(loss) * bsize\n",
    "        batch_correct = int((y_hat.argmax(dim=-1) == y).sum())\n",
    "        total_correct += batch_correct\n",
    "        total_examples += bsize\n",
    "    train_acc = total_correct / total_examples\n",
    "    return total_loss / total_examples, train_acc\n",
    "\n",
    "@torch.no_grad()\n",
    "def eval_full(model, data, masks, description='eval'):\n",
    "    model.eval()\n",
    "    y_hat = model(data.x.cuda(), data.adj_t.cuda())\n",
    "    out = []\n",
    "    for mask in masks:\n",
    "        y = data.y[mask].long().view(-1)\n",
    "        loss = float(F.nll_loss(y_hat[mask], y))\n",
    "        acc = int((y_hat[mask].argmax(dim=-1) == y).sum()) / y.shape[0]\n",
    "        out.append((loss, acc))\n",
    "    return out\n"
   ]
  },
  {
   "cell_type": "code",
   "execution_count": 10,
   "metadata": {},
   "outputs": [],
   "source": [
    "import numpy as np\n",
    "from torch_sparse import SparseTensor\n",
    "from torch_geometric.data import Data\n",
    "\n",
    "# dropping strategies\n",
    "\n",
    "# random drop node with prob roughly p\n",
    "def drop_random(batch, p: float) -> Data:\n",
    "    bn = batch.adj_t.sizes()[0]\n",
    "    device = batch.adj_t.device()\n",
    "    node_mask = torch.ones((bn,), dtype=torch.bool, device=device)\n",
    "    n_drop = int((bn - batch.batch_size) * p)\n",
    "    if p < 0.25:\n",
    "        dropped = torch.randint(batch.batch_size, bn, size=(n_drop,), device=device)\n",
    "    else:\n",
    "        dropped = torch.randperm(bn-batch.batch_size)[:n_drop] + batch.batch_size\n",
    "    node_mask[dropped] = False\n",
    "\n",
    "    n = data.num_nodes\n",
    "    n_score: torch.Tensor = torch.zeros(n, device=device)\n",
    "    target_id = batch.n_id[:batch.batch_size]\n",
    "    topk_nids = train_topk[target_id].view(-1)\n",
    "    topk_scores = train_topk_scores[target_id].view(-1)\n",
    "    n_score.scatter_add_(dim=0, index=topk_nids, src=topk_scores)\n",
    "    n_score = n_score[batch.n_id]\n",
    "    batch.n_score = n_score\n",
    "\n",
    "    src, dst, _ = batch.adj_t.coo()\n",
    "    mask = node_mask[src]\n",
    "    mask &= node_mask[dst]\n",
    "    batch.adj_t = SparseTensor(\n",
    "        row=src[mask], col=dst[mask],\n",
    "        sparse_sizes=batch.adj_t.sizes(),\n",
    "        is_sorted=True,\n",
    "    )\n",
    "    batch.node_mask = node_mask\n",
    "    return batch\n",
    "\n",
    "# drop based on train_topk, train_topk_scores\n",
    "def drop_by_influence(batch, p: float):\n",
    "    bn = batch.adj_t.sizes()[0]\n",
    "    device = batch.adj_t.device()\n",
    "    node_mask = torch.zeros((bn,), dtype=torch.bool, device=device) \n",
    "    n_drop = int((bn - batch.batch_size) * p)\n",
    "\n",
    "    # select top-k nodes in batch by score\n",
    "    n = data.num_nodes\n",
    "    n_score: torch.Tensor = torch.zeros(n, device=device)\n",
    "    target_id = batch.n_id[:batch.batch_size]\n",
    "    topk_nids = train_topk[target_id].view(-1)\n",
    "    topk_scores = train_topk_scores[target_id].view(-1)\n",
    "    n_score.scatter_add_(dim=0, index=topk_nids, src=topk_scores)\n",
    "    n_score = n_score[batch.n_id]\n",
    "    batch.n_score = n_score\n",
    "    node_mask[n_score.topk(bn-n_drop).indices] = True\n",
    "\n",
    "    src, dst, _ = batch.adj_t.coo()\n",
    "    mask = node_mask[dst]\n",
    "    mask &= node_mask[src]\n",
    "    batch.adj_t = SparseTensor(\n",
    "        row=src[mask], col=dst[mask],\n",
    "        sparse_sizes=batch.adj_t.sizes(),\n",
    "        is_sorted=True,\n",
    "    )\n",
    "    batch.node_mask = node_mask\n",
    "    return batch\n",
    "\n",
    "def drop_hop(batch, p: float, hop=1) -> Data:\n",
    "    '''\n",
    "    only drop nodes that are not immediate neighbors of target nodes in the mfg\n",
    "    '''\n",
    "    def hop_bound(hop_num):\n",
    "        src, dst, _ = batch.adj_t.coo()\n",
    "        hop_i = 0\n",
    "        node_bound = batch.batch_size\n",
    "        while hop_i < hop_num:\n",
    "            edge_bound = (src < node_bound).sum().item()\n",
    "            node_bound = dst[:edge_bound].max().item() + 1\n",
    "            hop_i += 1\n",
    "        return node_bound\n",
    "\n",
    "    bn = batch.adj_t.sizes()[0]\n",
    "    device = batch.adj_t.device()\n",
    "    node_mask = torch.ones((bn,), dtype=torch.bool, device=device) \n",
    "    n_drop = int((bn - batch.batch_size) * p)\n",
    "\n",
    "    n_close = hop_bound(hop)\n",
    "    if n_drop < bn - n_close:\n",
    "        dropped = torch.randperm(bn-n_close)[:n_drop] + n_close\n",
    "        node_mask[dropped] = False\n",
    "    else:\n",
    "        node_mask[torch.arange(n_close, bn)] = False\n",
    "        drop_more = n_drop - (bn - n_close)\n",
    "        dropped = torch.randperm(n_close - batch.batch_size)[:drop_more] + batch.batch_size\n",
    "        node_mask[dropped] = False\n",
    "\n",
    "    # select top-k nodes in batch by score\n",
    "    n = data.num_nodes\n",
    "    n_score: torch.Tensor = torch.zeros(n, device=device)\n",
    "    target_id = batch.n_id[:batch.batch_size]\n",
    "    topk_nids = train_topk[target_id].view(-1)\n",
    "    topk_scores = train_topk_scores[target_id].view(-1)\n",
    "    n_score.scatter_add_(dim=0, index=topk_nids, src=topk_scores)\n",
    "    n_score = n_score[batch.n_id]\n",
    "    batch.n_score = n_score\n",
    "\n",
    "    src, dst, _ = batch.adj_t.coo()\n",
    "    mask = node_mask[dst]\n",
    "    mask &= node_mask[src]\n",
    "    batch.adj_t = SparseTensor(\n",
    "        row=src[mask], col=dst[mask],\n",
    "        sparse_sizes=batch.adj_t.sizes(),\n",
    "        is_sorted=True,\n",
    "    )\n",
    "    batch.node_mask = node_mask\n",
    "    return batch\n",
    "\n",
    "def transform_fn(batch, drop_fn, k=3):\n",
    "    batch = drop_fn(batch)\n",
    "    batch.score = batch.n_score[batch.node_mask].sum().item()\n",
    "    batch.alive_nodes = int(batch.node_mask.sum())\n",
    "    return batch\n"
   ]
  },
  {
   "cell_type": "code",
   "execution_count": 11,
   "metadata": {},
   "outputs": [],
   "source": [
    "# from torch_geometric.utils import degree\n",
    "# from functools import lru_cache\n",
    "\n",
    "# data_degrees = degree(data.adj_t.coo()[0], data.num_nodes, dtype=torch.int32)\n",
    "# @lru_cache\n",
    "# def topk_degree(topk):\n",
    "#     return torch.topk(data_degrees, int(topk * data.num_nodes)).values[-1]\n",
    "# def drop_minor(batch, p: float, topk=0.01) -> Data:\n",
    "#     '''\n",
    "#     only drop nodes that are not important, i.e. of low degree\n",
    "#     '''\n",
    "#     if p == 0:\n",
    "#         batch.drop_nodes = 0\n",
    "#         return batch\n",
    "#     num_nodes = batch.adj_t.sizes()[0]\n",
    "#     node_mask = torch.ones((num_nodes,), dtype=torch.bool)\n",
    "#     drop_nodes = torch.from_numpy(np.random.choice(\n",
    "#         torch.arange(batch.batch_size, num_nodes).numpy(),\n",
    "#         size=int((num_nodes - batch.batch_size) * p),\n",
    "#         replace=False\n",
    "#     ))\n",
    "#     node_mask[drop_nodes] = False\n",
    "#     topk_cutout = topk_degree(topk)\n",
    "#     node_mask |= (data_degrees[batch.NID.long()] >= topk_cutout)\n",
    "#     src, dst, _ = batch.adj_t.coo()\n",
    "#     mask = torch.gather(input=node_mask, dim=0, index=src)\n",
    "#     mask = mask & torch.gather(input=node_mask, dim=0, index=dst)\n",
    "#     batch.adj_t = SparseTensor(\n",
    "#         row=src[mask], col=dst[mask],\n",
    "#         sparse_sizes=batch.adj_t.sizes(),\n",
    "#         is_sorted=True\n",
    "#     )\n",
    "#     batch.node_mask = node_mask\n",
    "#     return batch\n",
    "\n",
    "# def compute_score(batch):\n",
    "#     '''\n",
    "#     compute the importance score of each node in the current batch\n",
    "#     '''\n",
    "#     num_nodes = batch.num_nodes\n",
    "#     e_t = torch.zeros((num_nodes,), dtype=torch.float)\n",
    "#     e_t[:batch.batch_size] = 1\n",
    "#     deg = degree(batch.adj_t.coo()[0], batch.num_nodes)\n",
    "#     deg[deg==0] = 1\n",
    "#     adj = batch.adj_t.t()\n",
    "#     scores = [e_t]\n",
    "#     for _ in range(3):\n",
    "#         pi = scores[-1] / deg\n",
    "#         scores.append(adj.spmm(pi.view(num_nodes, 1)).view(-1))\n",
    "#     per_node = sum(scores[1:])\n",
    "#     return per_node / per_node.sum()\n",
    "\n",
    "# def transform_fn(batch, drop_fn):\n",
    "#     score = compute_score(batch)\n",
    "#     batch = drop_fn(batch)\n",
    "#     batch.quality_score = score[batch.node_mask].sum().item()\n",
    "#     batch.alive_nodes = int(batch.node_mask.sum())\n",
    "#     return batch"
   ]
  },
  {
   "cell_type": "code",
   "execution_count": 12,
   "metadata": {},
   "outputs": [],
   "source": [
    "def train_with_drop(data, drop_p, fn=drop_random, print_once=False):\n",
    "    model = pyg_models.SAGE(data.x.shape[1], num_hidden, num_classes, num_layers)\n",
    "    model = model.to(device)\n",
    "    optimizer = torch.optim.Adam(model.parameters(), lr=1e-3)\n",
    "    drop_fn = lambda batch: fn(batch, drop_p)\n",
    "    transform = lambda batch: transform_fn(batch, drop_fn)\n",
    "    dataloader = NeighborLoader(\n",
    "        data, num_neighbors=fanout, shuffle=True,\n",
    "        input_nodes=train_nid, batch_size=batch_size,\n",
    "        transform=transform,\n",
    "        # num_workers=torch.get_num_threads()-2,\n",
    "        # persistent_workers=True\n",
    "    )\n",
    "\n",
    "    logger = Logger(get_info() | {'drop_p': drop_p, \"method\": fn.__name__})\n",
    "    print(logger.info)\n",
    "    for run in range(n_runs):\n",
    "        logger.set_run(run)\n",
    "        model.reset_parameters()\n",
    "        best_val = final_test = 0\n",
    "        best_epoch = 0\n",
    "        pbar = tqdm.tqdm(range(n_epochs))\n",
    "        description = '{:.4f}|{:.4f}|{:.4f}'\n",
    "        pbar.set_description(f\"Run {run}\")\n",
    "        pbar.set_postfix({'acc': description.format(0, best_val, 0)})\n",
    "        for epoch in pbar:\n",
    "            # if epoch < 2:\n",
    "            #     profiler = Profiler()\n",
    "            #     profiler.start()\n",
    "            train_loss, train_acc, *info = train(model, optimizer, dataloader, description=f\"Epoch {epoch}\")\n",
    "            if print_once:\n",
    "                # batch_nodes, rem_nodes, rem_edges, batch_score\n",
    "                print(info)\n",
    "                print_once = False\n",
    "            logger.add(epoch, data={'train': {'acc': train_acc, 'loss': train_loss, 'extra': info}})\n",
    "            val, test = eval_full(model, data, [val_nid, test_nid])\n",
    "            logger.add(epoch, data={\n",
    "                'val': {'loss': val[0], 'acc': val[1]},\n",
    "                'test': {'loss': test[0], 'acc': test[1]},\n",
    "            })\n",
    "            if val[1] > best_val:\n",
    "                best_val, final_test = val[1], test[1]\n",
    "                best_epoch = epoch\n",
    "            pbar.set_postfix({'acc': description.format(train_acc, best_val, final_test)})\n",
    "            # if epoch < 2:\n",
    "            #     profiler.stop()\n",
    "            #     profiler.print()\n",
    "        pbar.close()\n",
    "        logger.add(epoch, data={'best-epoch': best_epoch})\n",
    "    # explicitly shutdown workers when persistent_workers is True\n",
    "    del dataloader._iterator\n",
    "    return logger"
   ]
  },
  {
   "cell_type": "code",
   "execution_count": 13,
   "metadata": {},
   "outputs": [
    {
     "name": "stdout",
     "output_type": "stream",
     "text": [
      "{'dataset': 'amazon', 'num_layers': 3, 'num_hidden': 128, 'fanout': [-1, -1, -1], 'batch_size': 256, 'n_epochs': 50, 'n_runs': 5, 'drop_p': 0.98, 'method': 'drop_random'}\n"
     ]
    },
    {
     "name": "stderr",
     "output_type": "stream",
     "text": [
      "Run 0:   2%|▏         | 1/50 [00:00<00:46,  1.04it/s, acc=0.3083|0.3851|0.3909]"
     ]
    },
    {
     "name": "stdout",
     "output_type": "stream",
     "text": [
      "[13333.642857142857, 507.64285714285717, 647.0, 0.3216679713419525]\n"
     ]
    },
    {
     "name": "stderr",
     "output_type": "stream",
     "text": [
      "Run 0: 100%|██████████| 50/50 [00:12<00:00,  4.15it/s, acc=0.9412|0.8860|0.8761]\n",
      "Run 1: 100%|██████████| 50/50 [00:11<00:00,  4.43it/s, acc=0.9151|0.8790|0.8647]\n",
      "Run 2: 100%|██████████| 50/50 [00:11<00:00,  4.44it/s, acc=0.9180|0.8810|0.8697]\n",
      "Run 3: 100%|██████████| 50/50 [00:11<00:00,  4.42it/s, acc=0.9162|0.8771|0.8665]\n",
      "Run 4: 100%|██████████| 50/50 [00:11<00:00,  4.41it/s, acc=0.9110|0.8807|0.8729]\n"
     ]
    },
    {
     "name": "stdout",
     "output_type": "stream",
     "text": [
      "{'dataset': 'amazon', 'num_layers': 3, 'num_hidden': 128, 'fanout': [-1, -1, -1], 'batch_size': 256, 'n_epochs': 50, 'n_runs': 5, 'drop_p': 0.95, 'method': 'drop_random'}\n"
     ]
    },
    {
     "name": "stderr",
     "output_type": "stream",
     "text": [
      "Run 0:   2%|▏         | 1/50 [00:00<00:10,  4.59it/s, acc=0.3016|0.3986|0.4072]"
     ]
    },
    {
     "name": "stdout",
     "output_type": "stream",
     "text": [
      "[13330.142857142857, 900.1428571428571, 2134.8571428571427, 0.3389543829580044]\n"
     ]
    },
    {
     "name": "stderr",
     "output_type": "stream",
     "text": [
      "Run 0: 100%|██████████| 50/50 [00:11<00:00,  4.38it/s, acc=0.9378|0.8931|0.8822]\n",
      "Run 1: 100%|██████████| 50/50 [00:11<00:00,  4.40it/s, acc=0.9212|0.8924|0.8813]\n",
      "Run 2: 100%|██████████| 50/50 [00:11<00:00,  4.41it/s, acc=0.9311|0.8903|0.8778]\n",
      "Run 3: 100%|██████████| 50/50 [00:11<00:00,  4.39it/s, acc=0.9226|0.8841|0.8723]\n",
      "Run 4: 100%|██████████| 50/50 [00:11<00:00,  4.37it/s, acc=0.9113|0.8908|0.8802]\n"
     ]
    },
    {
     "name": "stdout",
     "output_type": "stream",
     "text": [
      "{'dataset': 'amazon', 'num_layers': 3, 'num_hidden': 128, 'fanout': [-1, -1, -1], 'batch_size': 256, 'n_epochs': 50, 'n_runs': 5, 'drop_p': 0.9, 'method': 'drop_random'}\n"
     ]
    },
    {
     "name": "stderr",
     "output_type": "stream",
     "text": [
      "Run 0:   2%|▏         | 1/50 [00:00<00:11,  4.30it/s, acc=0.3278|0.4079|0.4098]"
     ]
    },
    {
     "name": "stdout",
     "output_type": "stream",
     "text": [
      "[13334.857142857143, 1554.9285714285713, 6548.357142857143, 0.36791283505957373]\n"
     ]
    },
    {
     "name": "stderr",
     "output_type": "stream",
     "text": [
      "Run 0: 100%|██████████| 50/50 [00:11<00:00,  4.40it/s, acc=0.9319|0.8966|0.8895]\n",
      "Run 1: 100%|██████████| 50/50 [00:11<00:00,  4.37it/s, acc=0.9241|0.8957|0.8866]\n",
      "Run 2: 100%|██████████| 50/50 [00:11<00:00,  4.36it/s, acc=0.9328|0.8986|0.8866]\n",
      "Run 3: 100%|██████████| 50/50 [00:11<00:00,  4.37it/s, acc=0.9284|0.8950|0.8866]\n",
      "Run 4: 100%|██████████| 50/50 [00:11<00:00,  4.40it/s, acc=0.9232|0.8931|0.8802]\n"
     ]
    },
    {
     "name": "stdout",
     "output_type": "stream",
     "text": [
      "{'dataset': 'amazon', 'num_layers': 3, 'num_hidden': 128, 'fanout': [-1, -1, -1], 'batch_size': 256, 'n_epochs': 50, 'n_runs': 5, 'drop_p': 0.8, 'method': 'drop_random'}\n"
     ]
    },
    {
     "name": "stderr",
     "output_type": "stream",
     "text": [
      "Run 0:   2%|▏         | 1/50 [00:00<00:10,  4.76it/s, acc=0.3223|0.3935|0.3976]"
     ]
    },
    {
     "name": "stdout",
     "output_type": "stream",
     "text": [
      "[13331.57142857143, 2863.1428571428573, 22671.64285714286, 0.4245138895102474]\n"
     ]
    },
    {
     "name": "stderr",
     "output_type": "stream",
     "text": [
      "Run 0: 100%|██████████| 50/50 [00:11<00:00,  4.36it/s, acc=0.9398|0.9002|0.8918]\n",
      "Run 1: 100%|██████████| 50/50 [00:11<00:00,  4.36it/s, acc=0.9346|0.9023|0.9008]\n",
      "Run 2: 100%|██████████| 50/50 [00:11<00:00,  4.38it/s, acc=0.9375|0.8979|0.8857]\n",
      "Run 3: 100%|██████████| 50/50 [00:11<00:00,  4.40it/s, acc=0.9267|0.9001|0.8935]\n",
      "Run 4: 100%|██████████| 50/50 [00:11<00:00,  4.43it/s, acc=0.9421|0.9001|0.8935]\n"
     ]
    },
    {
     "name": "stdout",
     "output_type": "stream",
     "text": [
      "{'dataset': 'amazon', 'num_layers': 3, 'num_hidden': 128, 'fanout': [-1, -1, -1], 'batch_size': 256, 'n_epochs': 50, 'n_runs': 5, 'drop_p': 0.7, 'method': 'drop_random'}\n"
     ]
    },
    {
     "name": "stderr",
     "output_type": "stream",
     "text": [
      "Run 0:   2%|▏         | 1/50 [00:00<00:10,  4.68it/s, acc=0.3482|0.4407|0.4351]"
     ]
    },
    {
     "name": "stdout",
     "output_type": "stream",
     "text": [
      "[13332.357142857143, 4172.071428571428, 48131.57142857143, 0.48124999733703505]\n"
     ]
    },
    {
     "name": "stderr",
     "output_type": "stream",
     "text": [
      "Run 0: 100%|██████████| 50/50 [00:11<00:00,  4.38it/s, acc=0.9494|0.9026|0.8970]\n",
      "Run 1: 100%|██████████| 50/50 [00:11<00:00,  4.39it/s, acc=0.9436|0.9071|0.8999]\n",
      "Run 2: 100%|██████████| 50/50 [00:11<00:00,  4.33it/s, acc=0.9412|0.9029|0.8962]\n",
      "Run 3: 100%|██████████| 50/50 [00:11<00:00,  4.37it/s, acc=0.9308|0.9031|0.8918]\n",
      "Run 4: 100%|██████████| 50/50 [00:11<00:00,  4.36it/s, acc=0.9404|0.9042|0.8953]\n"
     ]
    },
    {
     "name": "stdout",
     "output_type": "stream",
     "text": [
      "{'dataset': 'amazon', 'num_layers': 3, 'num_hidden': 128, 'fanout': [-1, -1, -1], 'batch_size': 256, 'n_epochs': 50, 'n_runs': 5, 'drop_p': 0.5, 'method': 'drop_random'}\n"
     ]
    },
    {
     "name": "stderr",
     "output_type": "stream",
     "text": [
      "Run 0:   2%|▏         | 1/50 [00:00<00:11,  4.10it/s, acc=0.3389|0.3781|0.3807]"
     ]
    },
    {
     "name": "stdout",
     "output_type": "stream",
     "text": [
      "[13334.214285714286, 6790.071428571428, 127310.78571428571, 0.5917069322498404]\n"
     ]
    },
    {
     "name": "stderr",
     "output_type": "stream",
     "text": [
      "Run 0: 100%|██████████| 50/50 [00:11<00:00,  4.36it/s, acc=0.9500|0.9047|0.9005]\n",
      "Run 1: 100%|██████████| 50/50 [00:11<00:00,  4.34it/s, acc=0.9442|0.9034|0.8973]\n",
      "Run 2: 100%|██████████| 50/50 [00:11<00:00,  4.29it/s, acc=0.9520|0.9071|0.9017]\n",
      "Run 3: 100%|██████████| 50/50 [00:11<00:00,  4.41it/s, acc=0.9535|0.9061|0.9014]\n",
      "Run 4: 100%|██████████| 50/50 [00:11<00:00,  4.40it/s, acc=0.9485|0.9018|0.8915]\n"
     ]
    },
    {
     "name": "stdout",
     "output_type": "stream",
     "text": [
      "{'dataset': 'amazon', 'num_layers': 3, 'num_hidden': 128, 'fanout': [-1, -1, -1], 'batch_size': 256, 'n_epochs': 50, 'n_runs': 5, 'drop_p': 0, 'method': 'drop_random'}\n"
     ]
    },
    {
     "name": "stderr",
     "output_type": "stream",
     "text": [
      "Run 0:   2%|▏         | 1/50 [00:00<00:11,  4.35it/s, acc=0.3589|0.4731|0.4674]"
     ]
    },
    {
     "name": "stdout",
     "output_type": "stream",
     "text": [
      "[13329.92857142857, 13329.92857142857, 487937.14285714284, 0.8724755957904703]\n"
     ]
    },
    {
     "name": "stderr",
     "output_type": "stream",
     "text": [
      "Run 0: 100%|██████████| 50/50 [00:11<00:00,  4.48it/s, acc=0.9590|0.9049|0.9005]\n",
      "Run 1: 100%|██████████| 50/50 [00:11<00:00,  4.44it/s, acc=0.9523|0.9046|0.9055]\n",
      "Run 2: 100%|██████████| 50/50 [00:11<00:00,  4.46it/s, acc=0.9657|0.9078|0.9002]\n",
      "Run 3: 100%|██████████| 50/50 [00:11<00:00,  4.49it/s, acc=0.9558|0.9074|0.9049]\n",
      "Run 4: 100%|██████████| 50/50 [00:11<00:00,  4.44it/s, acc=0.9689|0.9065|0.8985]\n"
     ]
    }
   ],
   "source": [
    "ps = [0.98, 0.95, 0.9, 0.8, 0.7, 0.5, 0]\n",
    "n_runs = 5\n",
    "n_epochs = 50\n",
    "loggers = [train_with_drop(data, drop_p=p, fn=drop_random, print_once=True) for p in ps]\n",
    "with open(f\"{name}_r_drop_random.pkl\", \"wb\") as fp:\n",
    "    pickle.dump(loggers, fp)"
   ]
  },
  {
   "cell_type": "code",
   "execution_count": 20,
   "metadata": {},
   "outputs": [
    {
     "name": "stdout",
     "output_type": "stream",
     "text": [
      "{'dataset': 'amazon', 'num_layers': 3, 'num_hidden': 128, 'fanout': [-1, -1, -1], 'batch_size': 256, 'n_epochs': 50, 'n_runs': 5, 'drop_p': 0.98, 'method': 'drop_by_influence'}\n"
     ]
    },
    {
     "name": "stderr",
     "output_type": "stream",
     "text": [
      "Run 0:   2%|▏         | 1/50 [00:00<00:12,  4.00it/s, acc=0.3432|0.3677|0.3720]"
     ]
    },
    {
     "name": "stdout",
     "output_type": "stream",
     "text": [
      "[13333.357142857143, 507.7142857142857, 6011.0, 0.4753721313742859]\n"
     ]
    },
    {
     "name": "stderr",
     "output_type": "stream",
     "text": [
      "Run 0: 100%|██████████| 50/50 [00:11<00:00,  4.47it/s, acc=0.9061|0.8909|0.8781]\n",
      "Run 1: 100%|██████████| 50/50 [00:11<00:00,  4.43it/s, acc=0.9124|0.8924|0.8839]\n",
      "Run 2: 100%|██████████| 50/50 [00:11<00:00,  4.43it/s, acc=0.9034|0.8903|0.8816]\n",
      "Run 3: 100%|██████████| 50/50 [00:11<00:00,  4.46it/s, acc=0.9087|0.8922|0.8781]\n",
      "Run 4: 100%|██████████| 50/50 [00:11<00:00,  4.41it/s, acc=0.9049|0.8867|0.8720]\n"
     ]
    },
    {
     "name": "stdout",
     "output_type": "stream",
     "text": [
      "{'dataset': 'amazon', 'num_layers': 3, 'num_hidden': 128, 'fanout': [-1, -1, -1], 'batch_size': 256, 'n_epochs': 50, 'n_runs': 5, 'drop_p': 0.95, 'method': 'drop_by_influence'}\n"
     ]
    },
    {
     "name": "stderr",
     "output_type": "stream",
     "text": [
      "Run 0:   2%|▏         | 1/50 [00:00<00:11,  4.44it/s, acc=0.3293|0.3741|0.3773]"
     ]
    },
    {
     "name": "stdout",
     "output_type": "stream",
     "text": [
      "[13333.5, 900.4285714285714, 16096.42857142857, 0.571155337277646]\n"
     ]
    },
    {
     "name": "stderr",
     "output_type": "stream",
     "text": [
      "Run 0: 100%|██████████| 50/50 [00:11<00:00,  4.45it/s, acc=0.9241|0.9007|0.8871]\n",
      "Run 1: 100%|██████████| 50/50 [00:11<00:00,  4.45it/s, acc=0.9183|0.8979|0.8839]\n",
      "Run 2: 100%|██████████| 50/50 [00:11<00:00,  4.41it/s, acc=0.9279|0.8965|0.8854]\n",
      "Run 3: 100%|██████████| 50/50 [00:11<00:00,  4.40it/s, acc=0.9261|0.8960|0.8842]\n",
      "Run 4: 100%|██████████| 50/50 [00:11<00:00,  4.42it/s, acc=0.9252|0.8981|0.8857]\n"
     ]
    },
    {
     "name": "stdout",
     "output_type": "stream",
     "text": [
      "{'dataset': 'amazon', 'num_layers': 3, 'num_hidden': 128, 'fanout': [-1, -1, -1], 'batch_size': 256, 'n_epochs': 50, 'n_runs': 5, 'drop_p': 0.9, 'method': 'drop_by_influence'}\n"
     ]
    },
    {
     "name": "stderr",
     "output_type": "stream",
     "text": [
      "Run 0:   2%|▏         | 1/50 [00:00<00:10,  4.64it/s, acc=0.3415|0.4132|0.4130]"
     ]
    },
    {
     "name": "stdout",
     "output_type": "stream",
     "text": [
      "[13333.285714285714, 1554.857142857143, 36674.0, 0.6688408887684518]\n"
     ]
    },
    {
     "name": "stderr",
     "output_type": "stream",
     "text": [
      "Run 0: 100%|██████████| 50/50 [00:11<00:00,  4.38it/s, acc=0.9474|0.9011|0.8967]\n",
      "Run 1: 100%|██████████| 50/50 [00:11<00:00,  4.42it/s, acc=0.9392|0.9037|0.9011]\n",
      "Run 2: 100%|██████████| 50/50 [00:11<00:00,  4.36it/s, acc=0.9442|0.9036|0.8973]\n",
      "Run 3: 100%|██████████| 50/50 [00:11<00:00,  4.39it/s, acc=0.9491|0.9005|0.8938]\n",
      "Run 4: 100%|██████████| 50/50 [00:11<00:00,  4.42it/s, acc=0.9488|0.9046|0.8950]\n"
     ]
    },
    {
     "name": "stdout",
     "output_type": "stream",
     "text": [
      "{'dataset': 'amazon', 'num_layers': 3, 'num_hidden': 128, 'fanout': [-1, -1, -1], 'batch_size': 256, 'n_epochs': 50, 'n_runs': 5, 'drop_p': 0.8, 'method': 'drop_by_influence'}\n"
     ]
    },
    {
     "name": "stderr",
     "output_type": "stream",
     "text": [
      "Run 0:   2%|▏         | 1/50 [00:00<00:11,  4.40it/s, acc=0.3304|0.3684|0.3703]"
     ]
    },
    {
     "name": "stdout",
     "output_type": "stream",
     "text": [
      "[13332.214285714286, 2863.285714285714, 89069.42857142857, 0.777982908185656]\n"
     ]
    },
    {
     "name": "stderr",
     "output_type": "stream",
     "text": [
      "Run 0: 100%|██████████| 50/50 [00:11<00:00,  4.39it/s, acc=0.9584|0.9056|0.9017]\n",
      "Run 1: 100%|██████████| 50/50 [00:11<00:00,  4.41it/s, acc=0.9482|0.9058|0.9005]\n",
      "Run 2: 100%|██████████| 50/50 [00:11<00:00,  4.41it/s, acc=0.9526|0.9047|0.8994]\n",
      "Run 3: 100%|██████████| 50/50 [00:11<00:00,  4.43it/s, acc=0.9476|0.9069|0.9008]\n",
      "Run 4: 100%|██████████| 50/50 [00:11<00:00,  4.34it/s, acc=0.9558|0.9046|0.8962]\n"
     ]
    },
    {
     "name": "stdout",
     "output_type": "stream",
     "text": [
      "{'dataset': 'amazon', 'num_layers': 3, 'num_hidden': 128, 'fanout': [-1, -1, -1], 'batch_size': 256, 'n_epochs': 50, 'n_runs': 5, 'drop_p': 0.7, 'method': 'drop_by_influence'}\n"
     ]
    },
    {
     "name": "stderr",
     "output_type": "stream",
     "text": [
      "Run 0:   2%|▏         | 1/50 [00:00<00:11,  4.14it/s, acc=0.3281|0.3853|0.3860]"
     ]
    },
    {
     "name": "stdout",
     "output_type": "stream",
     "text": [
      "[13332.785714285714, 4172.142857142857, 154004.2857142857, 0.8332407109747105]\n"
     ]
    },
    {
     "name": "stderr",
     "output_type": "stream",
     "text": [
      "Run 0: 100%|██████████| 50/50 [00:11<00:00,  4.39it/s, acc=0.9561|0.9062|0.8991]\n",
      "Run 1: 100%|██████████| 50/50 [00:11<00:00,  4.38it/s, acc=0.9572|0.9081|0.9005]\n",
      "Run 2: 100%|██████████| 50/50 [00:11<00:00,  4.39it/s, acc=0.9570|0.9071|0.9020]\n",
      "Run 3: 100%|██████████| 50/50 [00:11<00:00,  4.39it/s, acc=0.9628|0.9084|0.9020]\n",
      "Run 4: 100%|██████████| 50/50 [00:11<00:00,  4.38it/s, acc=0.9578|0.9076|0.8997]\n"
     ]
    },
    {
     "name": "stdout",
     "output_type": "stream",
     "text": [
      "{'dataset': 'amazon', 'num_layers': 3, 'num_hidden': 128, 'fanout': [-1, -1, -1], 'batch_size': 256, 'n_epochs': 50, 'n_runs': 5, 'drop_p': 0.5, 'method': 'drop_by_influence'}\n"
     ]
    },
    {
     "name": "stderr",
     "output_type": "stream",
     "text": [
      "Run 0:   2%|▏         | 1/50 [00:00<00:10,  4.47it/s, acc=0.3226|0.3659|0.3697]"
     ]
    },
    {
     "name": "stdout",
     "output_type": "stream",
     "text": [
      "[13331.92857142857, 6788.928571428572, 273763.0, 0.8677739936158434]\n"
     ]
    },
    {
     "name": "stderr",
     "output_type": "stream",
     "text": [
      "Run 0: 100%|██████████| 50/50 [00:11<00:00,  4.32it/s, acc=0.9561|0.9039|0.8994]\n",
      "Run 1: 100%|██████████| 50/50 [00:11<00:00,  4.36it/s, acc=0.9558|0.9071|0.9031]\n",
      "Run 2: 100%|██████████| 50/50 [00:11<00:00,  4.34it/s, acc=0.9590|0.9053|0.9029]\n",
      "Run 3: 100%|██████████| 50/50 [00:11<00:00,  4.32it/s, acc=0.9657|0.9063|0.9031]\n",
      "Run 4: 100%|██████████| 50/50 [00:11<00:00,  4.35it/s, acc=0.9602|0.9090|0.9029]\n"
     ]
    },
    {
     "name": "stdout",
     "output_type": "stream",
     "text": [
      "{'dataset': 'amazon', 'num_layers': 3, 'num_hidden': 128, 'fanout': [-1, -1, -1], 'batch_size': 256, 'n_epochs': 50, 'n_runs': 5, 'drop_p': 0, 'method': 'drop_by_influence'}\n"
     ]
    },
    {
     "name": "stderr",
     "output_type": "stream",
     "text": [
      "Run 0:   2%|▏         | 1/50 [00:00<00:11,  4.10it/s, acc=0.3487|0.4162|0.4191]"
     ]
    },
    {
     "name": "stdout",
     "output_type": "stream",
     "text": [
      "[13331.0, 13331.0, 488708.4285714286, 0.8724756157627073]\n"
     ]
    },
    {
     "name": "stderr",
     "output_type": "stream",
     "text": [
      "Run 0: 100%|██████████| 50/50 [00:11<00:00,  4.34it/s, acc=0.9587|0.9059|0.9058]\n",
      "Run 1: 100%|██████████| 50/50 [00:11<00:00,  4.27it/s, acc=0.9613|0.9068|0.9008]\n",
      "Run 2: 100%|██████████| 50/50 [00:11<00:00,  4.35it/s, acc=0.9578|0.9090|0.9037]\n",
      "Run 3: 100%|██████████| 50/50 [00:11<00:00,  4.32it/s, acc=0.9549|0.9079|0.8985]\n",
      "Run 4: 100%|██████████| 50/50 [00:11<00:00,  4.33it/s, acc=0.9631|0.9090|0.9026]\n"
     ]
    }
   ],
   "source": [
    "ps = [0.98, 0.95, 0.9, 0.8, 0.7, 0.5, 0]\n",
    "n_runs = 5\n",
    "n_epochs = 50\n",
    "loggers = [train_with_drop(data, drop_p=p, fn=drop_by_influence, print_once=True) for p in ps]\n",
    "with open(f\"{name}_r_drop_infl.pkl\", \"wb\") as fp:\n",
    "    pickle.dump(loggers, fp)"
   ]
  },
  {
   "cell_type": "code",
   "execution_count": 15,
   "metadata": {},
   "outputs": [
    {
     "name": "stdout",
     "output_type": "stream",
     "text": [
      "{'dataset': 'amazon', 'num_layers': 3, 'num_hidden': 128, 'fanout': [-1, -1, -1], 'batch_size': 256, 'n_epochs': 50, 'n_runs': 5, 'drop_p': 0.98, 'method': 'drop_hop'}\n"
     ]
    },
    {
     "name": "stderr",
     "output_type": "stream",
     "text": [
      "Run 0:   2%|▏         | 1/50 [00:00<00:11,  4.38it/s, acc=0.3188|0.3775|0.3822]"
     ]
    },
    {
     "name": "stdout",
     "output_type": "stream",
     "text": [
      "[13333.42857142857, 507.7142857142857, 1592.4285714285713, 0.339331843812775]\n"
     ]
    },
    {
     "name": "stderr",
     "output_type": "stream",
     "text": [
      "Run 0: 100%|██████████| 50/50 [00:11<00:00,  4.36it/s, acc=0.9299|0.8963|0.8863]\n",
      "Run 1: 100%|██████████| 50/50 [00:11<00:00,  4.40it/s, acc=0.9206|0.8877|0.8767]\n",
      "Run 2: 100%|██████████| 50/50 [00:11<00:00,  4.39it/s, acc=0.9247|0.8909|0.8810]\n",
      "Run 3: 100%|██████████| 50/50 [00:11<00:00,  4.35it/s, acc=0.9273|0.8915|0.8831]\n",
      "Run 4: 100%|██████████| 50/50 [00:11<00:00,  4.41it/s, acc=0.9299|0.8922|0.8778]\n"
     ]
    },
    {
     "name": "stdout",
     "output_type": "stream",
     "text": [
      "{'dataset': 'amazon', 'num_layers': 3, 'num_hidden': 128, 'fanout': [-1, -1, -1], 'batch_size': 256, 'n_epochs': 50, 'n_runs': 5, 'drop_p': 0.95, 'method': 'drop_hop'}\n"
     ]
    },
    {
     "name": "stderr",
     "output_type": "stream",
     "text": [
      "Run 0:   2%|▏         | 1/50 [00:00<00:13,  3.73it/s, acc=0.3357|0.3835|0.3857]"
     ]
    },
    {
     "name": "stdout",
     "output_type": "stream",
     "text": [
      "[13329.714285714286, 900.2142857142857, 6356.714285714285, 0.3827978004335733]\n"
     ]
    },
    {
     "name": "stderr",
     "output_type": "stream",
     "text": [
      "Run 0: 100%|██████████| 50/50 [00:11<00:00,  4.38it/s, acc=0.9337|0.9010|0.8921]\n",
      "Run 1: 100%|██████████| 50/50 [00:11<00:00,  4.37it/s, acc=0.9267|0.8982|0.8915]\n",
      "Run 2: 100%|██████████| 50/50 [00:11<00:00,  4.43it/s, acc=0.9264|0.8967|0.8848]\n",
      "Run 3: 100%|██████████| 50/50 [00:11<00:00,  4.37it/s, acc=0.9343|0.8953|0.8898]\n",
      "Run 4: 100%|██████████| 50/50 [00:11<00:00,  4.37it/s, acc=0.9258|0.8951|0.8825]\n"
     ]
    },
    {
     "name": "stdout",
     "output_type": "stream",
     "text": [
      "{'dataset': 'amazon', 'num_layers': 3, 'num_hidden': 128, 'fanout': [-1, -1, -1], 'batch_size': 256, 'n_epochs': 50, 'n_runs': 5, 'drop_p': 0.9, 'method': 'drop_hop'}\n"
     ]
    },
    {
     "name": "stderr",
     "output_type": "stream",
     "text": [
      "Run 0:   2%|▏         | 1/50 [00:00<00:11,  4.30it/s, acc=0.3322|0.5350|0.5366]"
     ]
    },
    {
     "name": "stdout",
     "output_type": "stream",
     "text": [
      "[13333.214285714286, 1554.857142857143, 20313.428571428572, 0.4565845198794948]\n"
     ]
    },
    {
     "name": "stderr",
     "output_type": "stream",
     "text": [
      "Run 0: 100%|██████████| 50/50 [00:11<00:00,  4.31it/s, acc=0.9375|0.9034|0.8927]\n",
      "Run 1: 100%|██████████| 50/50 [00:11<00:00,  4.25it/s, acc=0.9337|0.9004|0.8938]\n",
      "Run 2: 100%|██████████| 50/50 [00:11<00:00,  4.36it/s, acc=0.9354|0.9015|0.8938]\n",
      "Run 3: 100%|██████████| 50/50 [00:11<00:00,  4.42it/s, acc=0.9378|0.9013|0.8944]\n",
      "Run 4: 100%|██████████| 50/50 [00:11<00:00,  4.37it/s, acc=0.9378|0.9018|0.8956]\n"
     ]
    },
    {
     "name": "stdout",
     "output_type": "stream",
     "text": [
      "{'dataset': 'amazon', 'num_layers': 3, 'num_hidden': 128, 'fanout': [-1, -1, -1], 'batch_size': 256, 'n_epochs': 50, 'n_runs': 5, 'drop_p': 0.8, 'method': 'drop_hop'}\n"
     ]
    },
    {
     "name": "stderr",
     "output_type": "stream",
     "text": [
      "Run 0:   2%|▏         | 1/50 [00:00<00:12,  3.80it/s, acc=0.3307|0.4434|0.4418]"
     ]
    },
    {
     "name": "stdout",
     "output_type": "stream",
     "text": [
      "[13333.714285714286, 2863.6428571428573, 72151.57142857143, 0.5997941625749322]\n"
     ]
    },
    {
     "name": "stderr",
     "output_type": "stream",
     "text": [
      "Run 0: 100%|██████████| 50/50 [00:11<00:00,  4.36it/s, acc=0.9520|0.9049|0.8938]\n",
      "Run 1: 100%|██████████| 50/50 [00:11<00:00,  4.34it/s, acc=0.9462|0.9062|0.8994]\n",
      "Run 2: 100%|██████████| 50/50 [00:11<00:00,  4.24it/s, acc=0.9523|0.9068|0.9014]\n",
      "Run 3: 100%|██████████| 50/50 [00:11<00:00,  4.30it/s, acc=0.9497|0.9039|0.9002]\n",
      "Run 4: 100%|██████████| 50/50 [00:11<00:00,  4.33it/s, acc=0.9474|0.9056|0.8973]\n"
     ]
    },
    {
     "name": "stdout",
     "output_type": "stream",
     "text": [
      "{'dataset': 'amazon', 'num_layers': 3, 'num_hidden': 128, 'fanout': [-1, -1, -1], 'batch_size': 256, 'n_epochs': 50, 'n_runs': 5, 'drop_p': 0.7, 'method': 'drop_hop'}\n"
     ]
    },
    {
     "name": "stderr",
     "output_type": "stream",
     "text": [
      "Run 0:   2%|▏         | 1/50 [00:00<00:11,  4.30it/s, acc=0.3377|0.4609|0.4639]"
     ]
    },
    {
     "name": "stdout",
     "output_type": "stream",
     "text": [
      "[13330.214285714286, 4171.357142857143, 148437.07142857142, 0.7384728592034341]\n"
     ]
    },
    {
     "name": "stderr",
     "output_type": "stream",
     "text": [
      "Run 0: 100%|██████████| 50/50 [00:11<00:00,  4.32it/s, acc=0.9581|0.9081|0.9020]\n",
      "Run 1: 100%|██████████| 50/50 [00:11<00:00,  4.33it/s, acc=0.9535|0.9062|0.8999]\n",
      "Run 2: 100%|██████████| 50/50 [00:11<00:00,  4.29it/s, acc=0.9622|0.9034|0.8979]\n",
      "Run 3: 100%|██████████| 50/50 [00:11<00:00,  4.37it/s, acc=0.9628|0.9039|0.8982]\n",
      "Run 4: 100%|██████████| 50/50 [00:11<00:00,  4.34it/s, acc=0.9613|0.9050|0.8994]\n"
     ]
    },
    {
     "name": "stdout",
     "output_type": "stream",
     "text": [
      "{'dataset': 'amazon', 'num_layers': 3, 'num_hidden': 128, 'fanout': [-1, -1, -1], 'batch_size': 256, 'n_epochs': 50, 'n_runs': 5, 'drop_p': 0.5, 'method': 'drop_hop'}\n"
     ]
    },
    {
     "name": "stderr",
     "output_type": "stream",
     "text": [
      "Run 0:   2%|▏         | 1/50 [00:00<00:11,  4.37it/s, acc=0.3566|0.4583|0.4535]"
     ]
    },
    {
     "name": "stdout",
     "output_type": "stream",
     "text": [
      "[13332.07142857143, 6789.071428571428, 260773.92857142858, 0.8427244278495571]\n"
     ]
    },
    {
     "name": "stderr",
     "output_type": "stream",
     "text": [
      "Run 0: 100%|██████████| 50/50 [00:11<00:00,  4.31it/s, acc=0.9628|0.9042|0.8985]\n",
      "Run 1: 100%|██████████| 50/50 [00:11<00:00,  4.30it/s, acc=0.9613|0.9063|0.9023]\n",
      "Run 2: 100%|██████████| 50/50 [00:11<00:00,  4.35it/s, acc=0.9572|0.9078|0.9069]\n",
      "Run 3: 100%|██████████| 50/50 [00:11<00:00,  4.32it/s, acc=0.9587|0.9078|0.9026]\n",
      "Run 4: 100%|██████████| 50/50 [00:11<00:00,  4.30it/s, acc=0.9593|0.9026|0.9026]\n"
     ]
    },
    {
     "name": "stdout",
     "output_type": "stream",
     "text": [
      "{'dataset': 'amazon', 'num_layers': 3, 'num_hidden': 128, 'fanout': [-1, -1, -1], 'batch_size': 256, 'n_epochs': 50, 'n_runs': 5, 'drop_p': 0, 'method': 'drop_hop'}\n"
     ]
    },
    {
     "name": "stderr",
     "output_type": "stream",
     "text": [
      "Run 0:   2%|▏         | 1/50 [00:00<00:11,  4.25it/s, acc=0.3287|0.3729|0.3805]"
     ]
    },
    {
     "name": "stdout",
     "output_type": "stream",
     "text": [
      "[13328.0, 13328.0, 488089.71428571426, 0.8724756113244324]\n"
     ]
    },
    {
     "name": "stderr",
     "output_type": "stream",
     "text": [
      "Run 0: 100%|██████████| 50/50 [00:11<00:00,  4.35it/s, acc=0.9508|0.9031|0.8982]\n",
      "Run 1: 100%|██████████| 50/50 [00:11<00:00,  4.29it/s, acc=0.9584|0.9076|0.8999]\n",
      "Run 2: 100%|██████████| 50/50 [00:11<00:00,  4.30it/s, acc=0.9636|0.9079|0.9075]\n",
      "Run 3: 100%|██████████| 50/50 [00:11<00:00,  4.27it/s, acc=0.9607|0.9058|0.9058]\n",
      "Run 4: 100%|██████████| 50/50 [00:11<00:00,  4.25it/s, acc=0.9636|0.9059|0.9011]\n"
     ]
    }
   ],
   "source": [
    "ps = [0.98, 0.95, 0.9, 0.8, 0.7, 0.5, 0]\n",
    "n_runs = 5\n",
    "n_epochs = 50\n",
    "loggers = [train_with_drop(data, drop_p=p, fn=drop_hop, print_once=True) for p in ps]\n",
    "with open(f\"{name}_r_drop_hop.pkl\", \"wb\") as fp:\n",
    "    pickle.dump(loggers, fp)"
   ]
  },
  {
   "cell_type": "code",
   "execution_count": 11,
   "metadata": {},
   "outputs": [
    {
     "name": "stdout",
     "output_type": "stream",
     "text": [
      "{'dataset': 'amazon', 'num_layers': 3, 'num_hidden': 128, 'fanout': [-1, -1, -1], 'batch_size': 256, 'n_epochs': 50, 'n_runs': 1, 'drop_p': 0.9, 'method': 'drop_random'}\n"
     ]
    },
    {
     "name": "stderr",
     "output_type": "stream",
     "text": [
      "Run 0:   2%|▏         | 1/50 [00:00<00:13,  3.70it/s, acc=0.3057|0.3743|0.3813]"
     ]
    },
    {
     "name": "stdout",
     "output_type": "stream",
     "text": [
      "[13331.785714285714, 1554.5714285714287, 6347.142857142857, 0.2118589995973952]\n"
     ]
    },
    {
     "name": "stderr",
     "output_type": "stream",
     "text": [
      "Run 0: 100%|██████████| 50/50 [00:11<00:00,  4.36it/s, acc=0.9209|0.8946|0.8863]\n"
     ]
    },
    {
     "name": "stdout",
     "output_type": "stream",
     "text": [
      "{'dataset': 'amazon', 'num_layers': 3, 'num_hidden': 128, 'fanout': [-1, -1, -1], 'batch_size': 256, 'n_epochs': 50, 'n_runs': 1, 'drop_p': 0, 'method': 'drop_random'}\n"
     ]
    },
    {
     "name": "stderr",
     "output_type": "stream",
     "text": [
      "Run 0:   2%|▏         | 1/50 [00:00<00:10,  4.48it/s, acc=0.3476|0.4853|0.4791]"
     ]
    },
    {
     "name": "stdout",
     "output_type": "stream",
     "text": [
      "[13330.857142857143, 13330.857142857143, 488500.5, 0.7559828189585777]\n"
     ]
    },
    {
     "name": "stderr",
     "output_type": "stream",
     "text": [
      "Run 0: 100%|██████████| 50/50 [00:11<00:00,  4.44it/s, acc=0.9642|0.9062|0.9029]\n"
     ]
    }
   ],
   "source": [
    "ps = [0.9, 0]\n",
    "n_runs = 1\n",
    "n_epochs = 50\n",
    "loggers = [train_with_drop(data, drop_p=p, fn=drop_random, print_once=True) for p in ps]"
   ]
  },
  {
   "cell_type": "code",
   "execution_count": 69,
   "metadata": {},
   "outputs": [],
   "source": [
    "def stdmean(logger: Logger, *labels, summarize=None):\n",
    "    '''\n",
    "    compute the stdmean of logged data with the given labels across all runs\n",
    "    customized by the `summarize` fn\n",
    "    '''\n",
    "    if summarize is None:\n",
    "        summarize = lambda x: x\n",
    "    series_dict = {}\n",
    "    for run in logger:\n",
    "        run_dict = logger.get_data(run, *labels)\n",
    "        summary_dict = summarize(run_dict)\n",
    "        for new_label in summary_dict:\n",
    "            if new_label not in series_dict:\n",
    "                series_dict[new_label] = []\n",
    "            series_dict[new_label].append(summary_dict[new_label])\n",
    "    stdmean_dict = {}\n",
    "    for label in series_dict:\n",
    "        t = torch.tensor(series_dict[label])\n",
    "        stdmean_dict[label] = [t.mean().item(), t.std().item()]\n",
    "    return stdmean_dict\n",
    "\n",
    "def stdmean_acc(logger: Logger):\n",
    "    def get_acc(val_test):\n",
    "        val_acc = 100 * torch.tensor(val_test['val/acc'])\n",
    "        valid = val_acc.max().item()\n",
    "        test = 100 * val_test['test/acc'][val_acc.argmax()]\n",
    "        return {'val/acc' : valid, 'test/acc': test}\n",
    "    return stdmean(logger, 'val/acc', 'test/acc', summarize=get_acc)\n",
    "\n",
    "import pickle\n",
    "loggers = {}\n",
    "name = 'amazon'\n",
    "with open(f'{name}_r_drop_random.pkl', 'rb') as fp:\n",
    "    loggers['random'] = pickle.load(fp)\n",
    "with open(f'{name}_r_drop_infl.pkl', 'rb') as fp:\n",
    "    loggers['influence'] = pickle.load(fp)\n",
    "with open(f'{name}_r_drop_hop.pkl', 'rb') as fp:\n",
    "    loggers['neighbor'] = pickle.load(fp)\n",
    "\n",
    "\n",
    "def extract_train_info(train_extra):\n",
    "    ext_list = list(zip(*train_extra['train/extra']))\n",
    "    # batch_nodes, rem_nodes, rem_edges, batch_score\n",
    "    return {\n",
    "        # 'batch_nodes': ext_list[0],\n",
    "        'rem_nodes': ext_list[1],\n",
    "        'rem_edges': ext_list[2],\n",
    "        'coverage': ext_list[3],\n",
    "    }\n",
    "\n",
    "proc_data = {}\n",
    "for method, loggers in loggers.items():\n",
    "    proc_data[method] = {\n",
    "        k: [] for k in\n",
    "        ('p', 'train/acc', 'val/acc', 'test/acc', 'rem_nodes', 'rem_edges', 'coverage')\n",
    "    }\n",
    "    m_data = proc_data[method]\n",
    "    for logger in loggers:\n",
    "        info = logger.info.copy()\n",
    "        m_data['p'].append(info['drop_p'])\n",
    "        acc = stdmean_acc(logger)\n",
    "        for k in acc:\n",
    "            m_data[k].append(acc[k])\n",
    "        train_acc = stdmean(logger, 'train/acc',\n",
    "            summarize=lambda x: {k: 100*max(v) for k, v in x.items()})\n",
    "        for k in train_acc:\n",
    "            m_data[k].append(train_acc[k])\n",
    "        train_stat = stdmean(logger, 'train/extra', summarize=extract_train_info)\n",
    "        for k in train_stat:\n",
    "            m_data[k].append(train_stat[k])\n"
   ]
  },
  {
   "cell_type": "code",
   "execution_count": 17,
   "metadata": {},
   "outputs": [
    {
     "data": {
      "image/png": "[encoded data removed]",
      "text/plain": [
       "<Figure size 1296x360 with 3 Axes>"
      ]
     },
     "metadata": {
      "needs_background": "light"
     },
     "output_type": "display_data"
    },
    {
     "data": {
      "image/png": "[encoded data removed]",
      "text/plain": [
       "<Figure size 1296x360 with 3 Axes>"
      ]
     },
     "metadata": {
      "needs_background": "light"
     },
     "output_type": "display_data"
    },
    {
     "data": {
      "image/png": "[encoded data removed]",
      "text/plain": [
       "<Figure size 1296x360 with 3 Axes>"
      ]
     },
     "metadata": {
      "needs_background": "light"
     },
     "output_type": "display_data"
    }
   ],
   "source": [
    "import matplotlib.pyplot as plt\n",
    "\n",
    "for _, method in enumerate(proc_data):\n",
    "    m_data = proc_data[method]\n",
    "    fig, axs = plt.subplots(1, 3, figsize=(18, 5), sharey=True)\n",
    "    plt.suptitle(f\"Dropping nodes by {method.upper()}\")\n",
    "    # plt.ylim([55, 75])\n",
    "    for i, xlabel in enumerate(['p', 'rem_nodes', 'coverage']):\n",
    "        for k in ('train/acc', 'val/acc', 'test/acc'):\n",
    "            if isinstance(m_data[xlabel][0], list) or isinstance(m_data[xlabel][0], list):\n",
    "                xs = list(zip(*m_data[xlabel]))[0]\n",
    "            else:\n",
    "                xs = m_data[xlabel]\n",
    "            mean, std = [torch.tensor(a) for a in zip(*m_data[k])]\n",
    "            axs[i].plot(xs, mean, marker='o', label=k.split('/')[0])\n",
    "            axs[i].fill_between(xs, mean-std, mean+std, alpha=0.1, interpolate=True)\n",
    "            axs[i].legend()\n",
    "plt.show()"
   ]
  },
  {
   "cell_type": "code",
   "execution_count": 72,
   "metadata": {},
   "outputs": [
    {
     "data": {
      "image/png": "[encoded data removed]",
      "text/plain": [
       "<Figure size 432x360 with 1 Axes>"
      ]
     },
     "metadata": {
      "needs_background": "light"
     },
     "output_type": "display_data"
    },
    {
     "data": {
      "image/png": "[encoded data removed]",
      "text/plain": [
       "<Figure size 432x360 with 1 Axes>"
      ]
     },
     "metadata": {
      "needs_background": "light"
     },
     "output_type": "display_data"
    }
   ],
   "source": [
    "for metric, ylim in (('val/acc', None), ('test/acc', None)):\n",
    "    # data = proc_data[method]\n",
    "    fig, ax = plt.subplots(1, 1, figsize=(6, 5))\n",
    "    axs = [ax]\n",
    "    plt.suptitle(f\"{name}-random\", fontsize=24)\n",
    "    if ylim is not None:\n",
    "        plt.ylim(ylim)\n",
    "    for i, xlabel in enumerate(['rem_nodes']): # , 'coverage']):\n",
    "        # for k in ('train/acc', 'val/acc', 'test/acc'):\n",
    "        for k in proc_data:\n",
    "            k_data = proc_data[k]\n",
    "            if isinstance(k_data[xlabel][0], list) or isinstance(k_data[xlabel][0], list):\n",
    "                xs = list(zip(*k_data[xlabel]))[0]\n",
    "            else:\n",
    "                xs = k_data[xlabel]\n",
    "            mean, std = [torch.tensor(a) for a in zip(*k_data[metric])]\n",
    "\n",
    "            if xs[0] > xs[1]:\n",
    "                xs = list(reversed(xs))\n",
    "                mean = reversed(mean)\n",
    "                std = reversed(std)\n",
    "            # xs, mean, std = xs[1:], mean[1:], std[1:]\n",
    "\n",
    "            axs[i].plot(xs, mean, marker='o', label=k.split('/')[0])\n",
    "            axs[i].fill_between(xs, mean-std, mean+std, alpha=0.1, interpolate=True)\n",
    "            axs[i].autoscale(enable=True, axis='x', tight=True)\n",
    "            axs[i].set_xlabel('number of nodes' if xlabel == 'rem_nodes' else xlabel, fontsize=20)\n",
    "            xticks = axs[i].get_xticks()\n",
    "            if xlabel == 'rem_nodes':\n",
    "                steps = len(xticks) // 4\n",
    "                xticks = xticks[::steps]\n",
    "                axs[i].set_xticks(xticks)\n",
    "                axs[i].set_xticklabels([f\"{int(tick/1000)}k\" for tick in xticks])\n",
    "            yticks = axs[i].get_yticks()\n",
    "            new_yticks = []\n",
    "            for ytick in yticks:\n",
    "                if int(ytick) == ytick:\n",
    "                    new_yticks.append(int(ytick))\n",
    "            axs[i].set_yticks(new_yticks)\n",
    "            axs[i].tick_params(axis='y', which='major', labelsize=18)\n",
    "            axs[i].tick_params(axis='x', which='major', labelsize=18)\n",
    "            if i == 0:\n",
    "                axs[i].set_ylabel('validation accuracy', fontsize=20)\n",
    "    axs[i].legend(fontsize=20, loc='lower right')\n",
    "    \n",
    "    if 'train' not in metric:\n",
    "        plt.savefig(f\"{name}_r_drop_{metric.replace('/', '_')}.pdf\", dpi=160, bbox_inches='tight')\n",
    "plt.show()"
   ]
  },
  {
   "cell_type": "code",
   "execution_count": 7,
   "metadata": {},
   "outputs": [],
   "source": [
    "iterator = iter(NeighborLoader(\n",
    "    data, num_neighbors=[-1]*3, shuffle=False,\n",
    "    input_nodes=train_nid, batch_size=batch_size,\n",
    "    num_workers=0\n",
    "))\n",
    "batch = next(iterator)"
   ]
  },
  {
   "cell_type": "code",
   "execution_count": 31,
   "metadata": {},
   "outputs": [
    {
     "name": "stdout",
     "output_type": "stream",
     "text": [
      "Data(num_nodes=144436, x=[144436, 128], node_year=[144436, 1], y=[144436, 1], adj_t=[144436, 144436, nnz=2047267], NID=[144436], input_id=[1024], batch_size=1024)\n",
      "num_layers=2\n",
      "3417/4096=83.42%; 1101/1863\n",
      "num_layers=3\n",
      "3423/4096=83.57%; 1502/2865\n",
      "num_layers=4\n",
      "3218/4096=78.56%; 1732/3688\n",
      "num_layers=5\n",
      "3185/4096=77.76%; 2008/4512\n",
      "num_layers=6\n",
      "3103/4096=75.76%; 2205/5226\n",
      "num_layers=7\n",
      "3066/4096=74.85%; 2420/5922\n"
     ]
    }
   ],
   "source": [
    "num_nodes = batch.num_nodes\n",
    "e_t = torch.zeros((num_nodes,), dtype=torch.float)\n",
    "e_t[:batch.batch_size] = 1\n",
    "print(batch)\n",
    "deg = degree(batch.adj_t.coo()[0], batch.num_nodes)\n",
    "deg[deg==0] = 1\n",
    "adj = batch.adj_t.t()\n",
    "\n",
    "for num_layers in range(2, 8):\n",
    "    scores = [e_t]\n",
    "    for k in range(num_layers):\n",
    "        pi = scores[-1] / deg\n",
    "        scores.append(adj.spmm(pi.view(num_nodes, 1)).view(-1))\n",
    "\n",
    "    per_node = sum(scores[1:])\n",
    "    per_node[:batch.batch_size] = 0\n",
    "    topk = torch.topk(per_node, k=batch.batch_size*4)\n",
    "    nid = torch.sort(topk.indices).values\n",
    "    topk_sum = topk.values.sum().item()\n",
    "    all_sum = per_node.sum().item()\n",
    "\n",
    "    src, dst, _ = batch.adj_t.coo()\n",
    "    hop1 = dst[src<batch.batch_size]\n",
    "    hop1_max = dst[src==batch.batch_size-1].max().item()\n",
    "    assert hop1.max().item() == hop1_max\n",
    "    topk = nid.shape[0]\n",
    "    in_hop1 = (nid <= hop1_max).sum().item()\n",
    "    print(f\"num_layers={num_layers}\")\n",
    "    print(f\"{in_hop1}/{topk}={in_hop1/topk*100:.2f}%; {topk_sum:.0f}/{all_sum:.0f}\")"
   ]
  },
  {
   "cell_type": "code",
   "execution_count": 47,
   "metadata": {},
   "outputs": [],
   "source": [
    "dataloader = iter(NeighborLoader(\n",
    "    data, num_neighbors=[-1,-1], shuffle=False,\n",
    "    input_nodes=train_nid, batch_size=batch_size,\n",
    "    num_workers=0\n",
    "))\n",
    "# next(dataloader)\n",
    "batch = next(dataloader)"
   ]
  },
  {
   "cell_type": "code",
   "execution_count": 21,
   "metadata": {},
   "outputs": [
    {
     "data": {
      "text/plain": [
       "'drop_random'"
      ]
     },
     "execution_count": 21,
     "metadata": {},
     "output_type": "execute_result"
    }
   ],
   "source": [
    "drop_random.__name__"
   ]
  }
 ],
 "metadata": {
  "kernelspec": {
   "display_name": "Python 3 (ipykernel)",
   "language": "python",
   "name": "python3"
  },
  "language_info": {
   "codemirror_mode": {
    "name": "ipython",
    "version": 3
   },
   "file_extension": ".py",
   "mimetype": "text/x-python",
   "name": "python",
   "nbconvert_exporter": "python",
   "pygments_lexer": "ipython3",
   "version": "3.9.2"
  },
  "varInspector": {
   "cols": {
    "lenName": 16,
    "lenType": 16,
    "lenVar": 40
   },
   "kernels_config": {
    "python": {
     "delete_cmd_postfix": "",
     "delete_cmd_prefix": "del ",
     "library": "var_list.py",
     "varRefreshCmd": "print(var_dic_list())"
    },
    "r": {
     "delete_cmd_postfix": ") ",
     "delete_cmd_prefix": "rm(",
     "library": "var_list.r",
     "varRefreshCmd": "cat(var_dic_list()) "
    }
   },
   "types_to_exclude": [
    "module",
    "function",
    "builtin_function_or_method",
    "instance",
    "_Feature"
   ],
   "window_display": false
  },
  "vscode": {
   "interpreter": {
    "hash": "916dbcbb3f70747c44a77c7bcd40155683ae19c65e1c03b4aa3499c5328201f1"
   }
  }
 },
 "nbformat": 4,
 "nbformat_minor": 4
}
