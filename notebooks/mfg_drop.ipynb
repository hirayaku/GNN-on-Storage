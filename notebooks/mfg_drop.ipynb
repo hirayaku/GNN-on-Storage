{
 "cells": [
  {
   "attachments": {},
   "cell_type": "markdown",
   "metadata": {},
   "source": [
    "## Accuracy Study of Lossy MFG\n",
    "\n",
    "We select some non-training nodes in MFG and drop their incoming edges to simulate the effects of node partitioning.\n",
    "\n",
    "There may be several strategies for choosing those nodes:\n",
    "* random\n",
    "* random but excluding important (i.e. high-degree) nodes\n",
    "* based on the influence score\n"
   ]
  },
  {
   "cell_type": "code",
   "execution_count": 1,
   "metadata": {},
   "outputs": [
    {
     "name": "stdout",
     "output_type": "stream",
     "text": [
      "PyTorch: 2.0.1+cu117 /home/tianhaoh/.local/lib/python3.9/site-packages/torch\n",
      "PyG: 2.3.1 /home/tianhaoh/.local/lib/python3.9/site-packages/torch_geometric\n",
      "CPU parallelism: 12\n"
     ]
    }
   ],
   "source": [
    "import sys\n",
    "sys.path.append(\"..\")\n",
    "import torch, torch_geometric as pyg\n",
    "import models.pyg as pyg_models\n",
    "\n",
    "print(\"PyTorch:\", torch.__version__, *torch.__path__)\n",
    "print(\"PyG:\", pyg.__version__, *pyg.__path__)\n",
    "print(\"CPU parallelism:\", torch.get_num_threads())"
   ]
  },
  {
   "cell_type": "code",
   "execution_count": 2,
   "metadata": {},
   "outputs": [
    {
     "name": "stdout",
     "output_type": "stream",
     "text": [
      "Data(x=[232965, 602], y=[232965], train_mask=[232965], val_mask=[232965], test_mask=[232965], adj_t=[232965, 232965, nnz=114848857], NID=[232965])\n",
      "train: 23296, val: 116483, test: 93186\n"
     ]
    }
   ],
   "source": [
    "import os\n",
    "from pathlib import Path\n",
    "from ogb.nodeproppred import PygNodePropPredDataset\n",
    "import torch_geometric.transforms as T\n",
    "from torch_geometric.datasets.reddit import Reddit\n",
    "from torch_geometric.utils import mask_to_index\n",
    "from torch_geometric.loader import NeighborLoader, NeighborSampler\n",
    "from logger import Logger\n",
    "import pickle\n",
    "\n",
    "path = Path('/mnt/md0/datasets/')\n",
    "\n",
    "# name = 'arxiv'\n",
    "# dataset = PygNodePropPredDataset(\n",
    "#     root=path, name='ogbn-arxiv',\n",
    "#     pre_transform=T.ToUndirected(),\n",
    "#     transform=T.ToSparseTensor()\n",
    "# )\n",
    "# data = dataset[0]\n",
    "# data.NID = torch.arange(0, data.num_nodes, dtype=torch.int32)\n",
    "# num_classes = dataset.num_classes\n",
    "# print(data)\n",
    "# split = dataset.get_idx_split()\n",
    "# train_nid, val_nid, test_nid = split['train'], split['valid'], split['test']\n",
    "\n",
    "name = 'reddit'\n",
    "dataset = Reddit(path / name, pre_transform=T.AddSelfLoops(), transform=T.ToSparseTensor())\n",
    "data = dataset[0]\n",
    "data.NID = torch.arange(0, data.num_nodes, dtype=torch.int32)\n",
    "num_classes = dataset.num_classes\n",
    "print(data)\n",
    "if os.path.exists(f'{name}_rand_split.pt'):\n",
    "    perm = torch.load(f'{name}_rand_split.pt')\n",
    "else:\n",
    "    perm = torch.randperm(data.num_nodes)\n",
    "    torch.save(perm, f'{name}_rand_split.pt')\n",
    "train_nid = perm[:data.num_nodes//10]\n",
    "val_nid = perm[data.num_nodes//2:]\n",
    "test_nid = perm[data.num_nodes//10:data.num_nodes//2]\n",
    "\n",
    "print(f\"train: {len(train_nid)}, val: {len(val_nid)}, test: {len(test_nid)}\")\n",
    "device = torch.device('cuda') if torch.cuda.is_available() else torch.device('cpu')\n",
    "\n",
    "num_layers = 3\n",
    "num_hidden = 128\n",
    "fanout = [-1] * num_layers\n",
    "eval_fanout = [-1] * num_layers\n",
    "batch_size = 4096\n",
    "n_epochs = 50\n",
    "n_runs = 5\n",
    "\n",
    "def get_info():\n",
    "    return {\n",
    "        'dataset': dataset.name,\n",
    "        'num_layers': num_layers, 'num_hidden': num_hidden,\n",
    "        'fanout': fanout, 'batch_size': batch_size,\n",
    "        'n_epochs': n_epochs, 'n_runs': n_runs\n",
    "    }\n"
   ]
  },
  {
   "cell_type": "code",
   "execution_count": 5,
   "metadata": {},
   "outputs": [
    {
     "name": "stderr",
     "output_type": "stream",
     "text": [
      "100%|██████████| 23296/23296 [05:30<00:00, 70.50it/s]\n"
     ]
    }
   ],
   "source": [
    "from graphutils.rw import lazy_rw\n",
    "\n",
    "def influential(data, nids, k=3, topk=100):\n",
    "    init_score = torch.zeros((data.num_nodes,), device=nids.device)\n",
    "    init_score[nids] = 1 / nids.size(0)\n",
    "    final_score = lazy_rw(data.adj_t, init_score, k=k)\n",
    "    topk = final_score.cpu().topk(topk)\n",
    "    # print(\"score sum:\", final_score.sum(), \"topk sum:\", topk.values.sum())\n",
    "    return topk.indices, topk.values\n",
    "\n",
    "def importance(data, nids, k=3, topk=100):\n",
    "    init_score = torch.zeros((data.num_nodes,), device=nids.device)\n",
    "    init_score[nids] = 1 / nids.size(0)\n",
    "    final_score = torch.zeros_like(init_score)\n",
    "    score = init_score\n",
    "    for _ in range(k):\n",
    "        score = lazy_rw(data.adj_t, score, k=1)\n",
    "        final_score += score\n",
    "    topk = (final_score/k).cpu().topk(topk)\n",
    "    # print(\"score sum:\", final_score.sum(), \"topk sum:\", topk.values.sum())\n",
    "    return topk.indices, topk.values\n",
    "\n",
    "data_cuda = data.cuda()\n",
    "train_cuda = train_nid.cuda()\n",
    "pt_name = f'train_topk_infl_{name}.pt'\n",
    "if os.path.exists(pt_name):\n",
    "    train_topk, train_topk_scores = torch.load(pt_name)\n",
    "else:\n",
    "    train_topk = torch.empty((data.num_nodes, 100), dtype=torch.long)\n",
    "    train_topk_scores = torch.empty((data.num_nodes, 100), dtype=torch.float)\n",
    "    from tqdm import tqdm\n",
    "    for t in tqdm(train_cuda.tolist()):\n",
    "        t_topk = influential(data_cuda, torch.tensor([t], device='cuda'), k=3, topk=100)\n",
    "        train_topk[t][:] = t_topk[0]\n",
    "        train_topk_scores[t][:] = t_topk[1]\n",
    "    torch.save([train_topk, train_topk_scores], pt_name)\n",
    "\n",
    "train_topk, train_topk_scores = train_topk.cuda(), train_topk_scores.cuda()"
   ]
  },
  {
   "cell_type": "code",
   "execution_count": 19,
   "metadata": {},
   "outputs": [],
   "source": [
    "import tqdm\n",
    "from pyinstrument import Profiler\n",
    "import torch.nn.functional as F\n",
    "\n",
    "# val_dataloader = NeighborLoader(\n",
    "#     data, num_neighbors=fanout, shuffle=False,\n",
    "#     input_nodes=val_nid, batch_size=batch_size,\n",
    "# )\n",
    "# test_dataloader = NeighborLoader(\n",
    "#     data, num_neighbors=fanout, shuffle=False,\n",
    "#     input_nodes=test_nid, batch_size=batch_size,\n",
    "# )\n",
    "\n",
    "def train(model, optimizer, dataloader, description='train'):\n",
    "    model.train()\n",
    "    # minibatches = tqdm.tqdm(dataloader)\n",
    "    # minibatches.set_description(description)\n",
    "    total_loss = total_correct = total_examples = 0\n",
    "    mfg_sizes = num_nodes = alive_nodes = batch_score = 0\n",
    "    for batch in dataloader:\n",
    "        bsize = batch.batch_size\n",
    "        dev_attrs = [key for key in batch.keys if not key.endswith('_mask')]\n",
    "        batch = batch.to(device, *dev_attrs, non_blocking=True)\n",
    "        optimizer.zero_grad()\n",
    "        y = batch.y[:bsize].long().view(-1)\n",
    "        y_hat = model(batch.x, batch.adj_t)[:bsize]\n",
    "        loss = F.nll_loss(y_hat, y)\n",
    "        loss.backward()\n",
    "        optimizer.step()\n",
    "        # collect stats\n",
    "        total_loss += float(loss) * bsize\n",
    "        batch_correct = int((y_hat.argmax(dim=-1) == y).sum())\n",
    "        total_correct += batch_correct\n",
    "        total_examples += bsize\n",
    "        mfg_sizes += batch.adj_t.nnz()\n",
    "        num_nodes += batch.num_nodes\n",
    "        alive_nodes += batch.alive_nodes\n",
    "        batch_score += batch.score\n",
    "    train_acc = total_correct / total_examples\n",
    "    num_iters = len(dataloader)\n",
    "    # loss, acc, batch_nodes, rem_nodes, rem_edges, batch_score\n",
    "    return total_loss / total_examples, train_acc, \\\n",
    "        num_nodes/num_iters, alive_nodes / num_iters, \\\n",
    "        mfg_sizes / num_iters, batch_score / total_examples\n",
    "\n",
    "@torch.no_grad()\n",
    "def eval_batch(model, dataloader, description='eval'):\n",
    "    model.eval()\n",
    "    minibatches = tqdm.tqdm(dataloader)\n",
    "    total_loss = total_correct = total_examples = 0\n",
    "    for batch in minibatches:\n",
    "        bsize = batch.batch_size\n",
    "        dev_attrs = [key for key in batch.keys if not key.endswith('_mask')]\n",
    "        batch = batch.to(device, *dev_attrs, non_blocking=True)\n",
    "        y = batch.y[:bsize].long().view(-1)\n",
    "        y_hat = model(batch.x, batch.adj_t)[:bsize]\n",
    "        loss = F.nll_loss(y_hat, y)\n",
    "        # collect stats\n",
    "        total_loss += float(loss) * bsize\n",
    "        batch_correct = int((y_hat.argmax(dim=-1) == y).sum())\n",
    "        total_correct += batch_correct\n",
    "        total_examples += bsize\n",
    "    train_acc = total_correct / total_examples\n",
    "    return total_loss / total_examples, train_acc\n",
    "\n",
    "@torch.no_grad()\n",
    "def eval_full(model, data, masks, description='eval'):\n",
    "    model.eval()\n",
    "    y_hat = model(data.x.cuda(), data.adj_t.cuda())\n",
    "    out = []\n",
    "    for mask in masks:\n",
    "        y = data.y[mask].long().view(-1)\n",
    "        loss = float(F.nll_loss(y_hat[mask], y))\n",
    "        acc = int((y_hat[mask].argmax(dim=-1) == y).sum()) / y.shape[0]\n",
    "        out.append((loss, acc))\n",
    "    return out\n"
   ]
  },
  {
   "cell_type": "code",
   "execution_count": 20,
   "metadata": {},
   "outputs": [],
   "source": [
    "import numpy as np\n",
    "from torch_sparse import SparseTensor\n",
    "from torch_geometric.data import Data\n",
    "\n",
    "# dropping strategies\n",
    "\n",
    "# random drop node with prob roughly p\n",
    "def drop_random(batch, p: float) -> Data:\n",
    "    bn = batch.adj_t.sizes()[0]\n",
    "    device = batch.adj_t.device()\n",
    "    node_mask = torch.ones((bn,), dtype=torch.bool, device=device)\n",
    "    n_drop = int((bn - batch.batch_size) * p)\n",
    "    if p < 0.25:\n",
    "        dropped = torch.randint(batch.batch_size, bn, size=(n_drop,), device=device)\n",
    "    else:\n",
    "        dropped = torch.randperm(bn-batch.batch_size)[:n_drop] + batch.batch_size\n",
    "    node_mask[dropped] = False\n",
    "\n",
    "    n = data.num_nodes\n",
    "    n_score: torch.Tensor = torch.zeros(n, device=device)\n",
    "    target_id = batch.n_id[:batch.batch_size]\n",
    "    topk_nids = train_topk[target_id].view(-1)\n",
    "    topk_scores = train_topk_scores[target_id].view(-1)\n",
    "    n_score.scatter_add_(dim=0, index=topk_nids, src=topk_scores)\n",
    "    n_score = n_score[batch.n_id]\n",
    "    batch.n_score = n_score\n",
    "\n",
    "    src, dst, _ = batch.adj_t.coo()\n",
    "    mask = node_mask[src]\n",
    "    mask &= node_mask[dst]\n",
    "    batch.adj_t = SparseTensor(\n",
    "        row=src[mask], col=dst[mask],\n",
    "        sparse_sizes=batch.adj_t.sizes(),\n",
    "        is_sorted=True,\n",
    "    )\n",
    "    batch.node_mask = node_mask\n",
    "    return batch\n",
    "\n",
    "# drop based on train_topk, train_topk_scores\n",
    "def drop_by_influence(batch, p: float):\n",
    "    bn = batch.adj_t.sizes()[0]\n",
    "    device = batch.adj_t.device()\n",
    "    node_mask = torch.zeros((bn,), dtype=torch.bool, device=device) \n",
    "    n_drop = int((bn - batch.batch_size) * p)\n",
    "\n",
    "    # select top-k nodes in batch by score\n",
    "    n = data.num_nodes\n",
    "    n_score: torch.Tensor = torch.zeros(n, device=device)\n",
    "    target_id = batch.n_id[:batch.batch_size]\n",
    "    topk_nids = train_topk[target_id].view(-1)\n",
    "    topk_scores = train_topk_scores[target_id].view(-1)\n",
    "    n_score.scatter_add_(dim=0, index=topk_nids, src=topk_scores)\n",
    "    n_score = n_score[batch.n_id]\n",
    "    batch.n_score = n_score\n",
    "    node_mask[n_score.topk(bn-n_drop).indices] = True\n",
    "\n",
    "    src, dst, _ = batch.adj_t.coo()\n",
    "    mask = node_mask[dst]\n",
    "    mask &= node_mask[src]\n",
    "    batch.adj_t = SparseTensor(\n",
    "        row=src[mask], col=dst[mask],\n",
    "        sparse_sizes=batch.adj_t.sizes(),\n",
    "        is_sorted=True,\n",
    "    )\n",
    "    batch.node_mask = node_mask\n",
    "    return batch\n",
    "\n",
    "def drop_hop(batch, p: float, hop=1) -> Data:\n",
    "    '''\n",
    "    only drop nodes that are not immediate neighbors of target nodes in the mfg\n",
    "    '''\n",
    "    def hop_bound(hop_num):\n",
    "        src, dst, _ = batch.adj_t.coo()\n",
    "        hop_i = 0\n",
    "        node_bound = batch.batch_size\n",
    "        while hop_i < hop_num:\n",
    "            edge_bound = (src < node_bound).sum().item()\n",
    "            node_bound = dst[:edge_bound].max().item() + 1\n",
    "            hop_i += 1\n",
    "        return node_bound\n",
    "\n",
    "    bn = batch.adj_t.sizes()[0]\n",
    "    device = batch.adj_t.device()\n",
    "    node_mask = torch.ones((bn,), dtype=torch.bool, device=device) \n",
    "    n_drop = int((bn - batch.batch_size) * p)\n",
    "\n",
    "    n_close = hop_bound(hop)\n",
    "    if n_drop < bn - n_close:\n",
    "        dropped = torch.randperm(bn-n_close)[:n_drop] + n_close\n",
    "        node_mask[dropped] = False\n",
    "    else:\n",
    "        node_mask[torch.arange(n_close, bn)] = False\n",
    "        drop_more = n_drop - (bn - n_close)\n",
    "        dropped = torch.randperm(n_close - batch.batch_size)[:drop_more] + batch.batch_size\n",
    "        node_mask[dropped] = False\n",
    "\n",
    "    # select top-k nodes in batch by score\n",
    "    n = data.num_nodes\n",
    "    n_score: torch.Tensor = torch.zeros(n, device=device)\n",
    "    target_id = batch.n_id[:batch.batch_size]\n",
    "    topk_nids = train_topk[target_id].view(-1)\n",
    "    topk_scores = train_topk_scores[target_id].view(-1)\n",
    "    n_score.scatter_add_(dim=0, index=topk_nids, src=topk_scores)\n",
    "    n_score = n_score[batch.n_id]\n",
    "    batch.n_score = n_score\n",
    "\n",
    "    src, dst, _ = batch.adj_t.coo()\n",
    "    mask = node_mask[dst]\n",
    "    mask &= node_mask[src]\n",
    "    batch.adj_t = SparseTensor(\n",
    "        row=src[mask], col=dst[mask],\n",
    "        sparse_sizes=batch.adj_t.sizes(),\n",
    "        is_sorted=True,\n",
    "    )\n",
    "    batch.node_mask = node_mask\n",
    "    return batch\n",
    "\n",
    "def transform_fn(batch, drop_fn, k=3):\n",
    "    batch = drop_fn(batch)\n",
    "    batch.score = batch.n_score[batch.node_mask].sum().item()\n",
    "    batch.alive_nodes = int(batch.node_mask.sum())\n",
    "    return batch\n"
   ]
  },
  {
   "cell_type": "code",
   "execution_count": 21,
   "metadata": {},
   "outputs": [],
   "source": [
    "# from torch_geometric.utils import degree\n",
    "# from functools import lru_cache\n",
    "\n",
    "# data_degrees = degree(data.adj_t.coo()[0], data.num_nodes, dtype=torch.int32)\n",
    "# @lru_cache\n",
    "# def topk_degree(topk):\n",
    "#     return torch.topk(data_degrees, int(topk * data.num_nodes)).values[-1]\n",
    "# def drop_minor(batch, p: float, topk=0.01) -> Data:\n",
    "#     '''\n",
    "#     only drop nodes that are not important, i.e. of low degree\n",
    "#     '''\n",
    "#     if p == 0:\n",
    "#         batch.drop_nodes = 0\n",
    "#         return batch\n",
    "#     num_nodes = batch.adj_t.sizes()[0]\n",
    "#     node_mask = torch.ones((num_nodes,), dtype=torch.bool)\n",
    "#     drop_nodes = torch.from_numpy(np.random.choice(\n",
    "#         torch.arange(batch.batch_size, num_nodes).numpy(),\n",
    "#         size=int((num_nodes - batch.batch_size) * p),\n",
    "#         replace=False\n",
    "#     ))\n",
    "#     node_mask[drop_nodes] = False\n",
    "#     topk_cutout = topk_degree(topk)\n",
    "#     node_mask |= (data_degrees[batch.NID.long()] >= topk_cutout)\n",
    "#     src, dst, _ = batch.adj_t.coo()\n",
    "#     mask = torch.gather(input=node_mask, dim=0, index=src)\n",
    "#     mask = mask & torch.gather(input=node_mask, dim=0, index=dst)\n",
    "#     batch.adj_t = SparseTensor(\n",
    "#         row=src[mask], col=dst[mask],\n",
    "#         sparse_sizes=batch.adj_t.sizes(),\n",
    "#         is_sorted=True\n",
    "#     )\n",
    "#     batch.node_mask = node_mask\n",
    "#     return batch\n",
    "\n",
    "# def compute_score(batch):\n",
    "#     '''\n",
    "#     compute the importance score of each node in the current batch\n",
    "#     '''\n",
    "#     num_nodes = batch.num_nodes\n",
    "#     e_t = torch.zeros((num_nodes,), dtype=torch.float)\n",
    "#     e_t[:batch.batch_size] = 1\n",
    "#     deg = degree(batch.adj_t.coo()[0], batch.num_nodes)\n",
    "#     deg[deg==0] = 1\n",
    "#     adj = batch.adj_t.t()\n",
    "#     scores = [e_t]\n",
    "#     for _ in range(3):\n",
    "#         pi = scores[-1] / deg\n",
    "#         scores.append(adj.spmm(pi.view(num_nodes, 1)).view(-1))\n",
    "#     per_node = sum(scores[1:])\n",
    "#     return per_node / per_node.sum()\n",
    "\n",
    "# def transform_fn(batch, drop_fn):\n",
    "#     score = compute_score(batch)\n",
    "#     batch = drop_fn(batch)\n",
    "#     batch.quality_score = score[batch.node_mask].sum().item()\n",
    "#     batch.alive_nodes = int(batch.node_mask.sum())\n",
    "#     return batch"
   ]
  },
  {
   "cell_type": "code",
   "execution_count": 22,
   "metadata": {},
   "outputs": [],
   "source": [
    "def train_with_drop(data, drop_p, fn=drop_random, print_once=False):\n",
    "    model = pyg_models.SAGE(data.x.shape[1], num_hidden, num_classes, num_layers)\n",
    "    model = model.to(device)\n",
    "    optimizer = torch.optim.Adam(model.parameters(), lr=1e-3)\n",
    "    drop_fn = lambda batch: fn(batch, drop_p)\n",
    "    transform = lambda batch: transform_fn(batch, drop_fn)\n",
    "    dataloader = NeighborLoader(\n",
    "        data, num_neighbors=fanout, shuffle=True,\n",
    "        input_nodes=train_nid, batch_size=batch_size,\n",
    "        transform=transform,\n",
    "        # num_workers=torch.get_num_threads()-2,\n",
    "        # persistent_workers=True\n",
    "    )\n",
    "\n",
    "    logger = Logger(get_info() | {'drop_p': drop_p, \"method\": fn.__name__})\n",
    "    print(logger.info)\n",
    "    for run in range(n_runs):\n",
    "        logger.set_run(run)\n",
    "        model.reset_parameters()\n",
    "        best_val = final_test = 0\n",
    "        best_epoch = 0\n",
    "        pbar = tqdm.tqdm(range(n_epochs))\n",
    "        description = '{:.4f}|{:.4f}|{:.4f}'\n",
    "        pbar.set_description(f\"Run {run}\")\n",
    "        pbar.set_postfix({'acc': description.format(0, best_val, 0)})\n",
    "        for epoch in pbar:\n",
    "            # if epoch < 2:\n",
    "            #     profiler = Profiler()\n",
    "            #     profiler.start()\n",
    "            train_loss, train_acc, *info = train(model, optimizer, dataloader, description=f\"Epoch {epoch}\")\n",
    "            if print_once:\n",
    "                # batch_nodes, rem_nodes, rem_edges, batch_score\n",
    "                print(info)\n",
    "                print_once = False\n",
    "            logger.add(epoch, data={'train': {'acc': train_acc, 'loss': train_loss, 'extra': info}})\n",
    "            val, test = eval_full(model, data, [val_nid, test_nid])\n",
    "            logger.add(epoch, data={\n",
    "                'val': {'loss': val[0], 'acc': val[1]},\n",
    "                'test': {'loss': test[0], 'acc': test[1]},\n",
    "            })\n",
    "            if val[1] > best_val:\n",
    "                best_val, final_test = val[1], test[1]\n",
    "                best_epoch = epoch\n",
    "            pbar.set_postfix({'acc': description.format(train_acc, best_val, final_test)})\n",
    "            # if epoch < 2:\n",
    "            #     profiler.stop()\n",
    "            #     profiler.print()\n",
    "        pbar.close()\n",
    "        logger.add(epoch, data={'best-epoch': best_epoch})\n",
    "    # explicitly shutdown workers when persistent_workers is True\n",
    "    del dataloader._iterator\n",
    "    return logger"
   ]
  },
  {
   "cell_type": "code",
   "execution_count": 23,
   "metadata": {},
   "outputs": [
    {
     "name": "stdout",
     "output_type": "stream",
     "text": [
      "{'dataset': 'ogbn-arxiv', 'num_layers': 3, 'num_hidden': 128, 'fanout': [-1, -1, -1], 'batch_size': 4096, 'n_epochs': 50, 'n_runs': 5, 'drop_p': 0.98, 'method': 'drop_random'}\n"
     ]
    },
    {
     "name": "stderr",
     "output_type": "stream",
     "text": [
      "Run 0:   2%|▏         | 1/50 [00:02<02:21,  2.88s/it, acc=0.1707|0.2939|0.2650]"
     ]
    },
    {
     "name": "stdout",
     "output_type": "stream",
     "text": [
      "[157696.8260869565, 7029.391304347826, 4512.086956521739, 0.35867885115976633]\n"
     ]
    },
    {
     "name": "stderr",
     "output_type": "stream",
     "text": [
      "Run 0: 100%|██████████| 50/50 [01:38<00:00,  1.97s/it, acc=0.5181|0.6502|0.6429]\n",
      "Run 1: 100%|██████████| 50/50 [01:37<00:00,  1.95s/it, acc=0.5155|0.6477|0.6441]\n",
      "Run 2: 100%|██████████| 50/50 [01:39<00:00,  1.98s/it, acc=0.5143|0.6448|0.6427]\n",
      "Run 3: 100%|██████████| 50/50 [01:38<00:00,  1.96s/it, acc=0.5173|0.6481|0.6436]\n",
      "Run 4: 100%|██████████| 50/50 [01:38<00:00,  1.97s/it, acc=0.5129|0.6452|0.6428]\n"
     ]
    },
    {
     "name": "stdout",
     "output_type": "stream",
     "text": [
      "{'dataset': 'ogbn-arxiv', 'num_layers': 3, 'num_hidden': 128, 'fanout': [-1, -1, -1], 'batch_size': 4096, 'n_epochs': 50, 'n_runs': 5, 'drop_p': 0.95, 'method': 'drop_random'}\n"
     ]
    },
    {
     "name": "stderr",
     "output_type": "stream",
     "text": [
      "Run 0:   2%|▏         | 1/50 [00:02<01:41,  2.08s/it, acc=0.1687|0.1325|0.1105]"
     ]
    },
    {
     "name": "stdout",
     "output_type": "stream",
     "text": [
      "[157704.39130434784, 11642.08695652174, 12076.173913043478, 0.37751673491217863]\n"
     ]
    },
    {
     "name": "stderr",
     "output_type": "stream",
     "text": [
      "Run 0: 100%|██████████| 50/50 [01:41<00:00,  2.03s/it, acc=0.5300|0.6549|0.6500]\n",
      "Run 1: 100%|██████████| 50/50 [01:41<00:00,  2.03s/it, acc=0.5295|0.6558|0.6517]\n",
      "Run 2: 100%|██████████| 50/50 [01:34<00:00,  1.89s/it, acc=0.5293|0.6567|0.6515]\n",
      "Run 3: 100%|██████████| 50/50 [01:34<00:00,  1.89s/it, acc=0.5311|0.6569|0.6521]\n",
      "Run 4: 100%|██████████| 50/50 [01:35<00:00,  1.91s/it, acc=0.5305|0.6572|0.6534]\n"
     ]
    },
    {
     "name": "stdout",
     "output_type": "stream",
     "text": [
      "{'dataset': 'ogbn-arxiv', 'num_layers': 3, 'num_hidden': 128, 'fanout': [-1, -1, -1], 'batch_size': 4096, 'n_epochs': 50, 'n_runs': 5, 'drop_p': 0.9, 'method': 'drop_random'}\n"
     ]
    },
    {
     "name": "stderr",
     "output_type": "stream",
     "text": [
      "Run 0:   2%|▏         | 1/50 [00:01<01:32,  1.89s/it, acc=0.1516|0.2760|0.2517]"
     ]
    },
    {
     "name": "stdout",
     "output_type": "stream",
     "text": [
      "[157781.5652173913, 19337.130434782608, 33705.69565217391, 0.407160726599612]\n"
     ]
    },
    {
     "name": "stderr",
     "output_type": "stream",
     "text": [
      "Run 0: 100%|██████████| 50/50 [01:33<00:00,  1.87s/it, acc=0.5528|0.6670|0.6648]\n",
      "Run 1: 100%|██████████| 50/50 [01:34<00:00,  1.90s/it, acc=0.5477|0.6663|0.6619]\n",
      "Run 2: 100%|██████████| 50/50 [01:35<00:00,  1.90s/it, acc=0.5426|0.6650|0.6614]\n",
      "Run 3: 100%|██████████| 50/50 [01:35<00:00,  1.90s/it, acc=0.5454|0.6672|0.6631]\n",
      "Run 4: 100%|██████████| 50/50 [01:35<00:00,  1.91s/it, acc=0.5460|0.6636|0.6577]\n"
     ]
    },
    {
     "name": "stdout",
     "output_type": "stream",
     "text": [
      "{'dataset': 'ogbn-arxiv', 'num_layers': 3, 'num_hidden': 128, 'fanout': [-1, -1, -1], 'batch_size': 4096, 'n_epochs': 50, 'n_runs': 5, 'drop_p': 0.8, 'method': 'drop_random'}\n"
     ]
    },
    {
     "name": "stderr",
     "output_type": "stream",
     "text": [
      "Run 0:   2%|▏         | 1/50 [00:01<01:30,  1.85s/it, acc=0.1702|0.1407|0.1193]"
     ]
    },
    {
     "name": "stdout",
     "output_type": "stream",
     "text": [
      "[157624.95652173914, 34688.608695652176, 108736.95652173914, 0.468850608912346]\n"
     ]
    },
    {
     "name": "stderr",
     "output_type": "stream",
     "text": [
      "Run 0: 100%|██████████| 50/50 [01:31<00:00,  1.84s/it, acc=0.5783|0.6761|0.6712]\n",
      "Run 1: 100%|██████████| 50/50 [01:31<00:00,  1.83s/it, acc=0.5733|0.6775|0.6700]\n",
      "Run 2: 100%|██████████| 50/50 [01:31<00:00,  1.83s/it, acc=0.5750|0.6772|0.6672]\n",
      "Run 3: 100%|██████████| 50/50 [01:31<00:00,  1.82s/it, acc=0.5731|0.6768|0.6702]\n",
      "Run 4: 100%|██████████| 50/50 [01:31<00:00,  1.83s/it, acc=0.5725|0.6767|0.6741]\n"
     ]
    },
    {
     "name": "stdout",
     "output_type": "stream",
     "text": [
      "{'dataset': 'ogbn-arxiv', 'num_layers': 3, 'num_hidden': 128, 'fanout': [-1, -1, -1], 'batch_size': 4096, 'n_epochs': 50, 'n_runs': 5, 'drop_p': 0.7, 'method': 'drop_random'}\n"
     ]
    },
    {
     "name": "stderr",
     "output_type": "stream",
     "text": [
      "Run 0:   2%|▏         | 1/50 [00:01<01:35,  1.94s/it, acc=0.1621|0.2801|0.2543]"
     ]
    },
    {
     "name": "stdout",
     "output_type": "stream",
     "text": [
      "[157722.34782608695, 50084.95652173913, 224702.60869565216, 0.5283597567239251]\n"
     ]
    },
    {
     "name": "stderr",
     "output_type": "stream",
     "text": [
      "Run 0: 100%|██████████| 50/50 [01:37<00:00,  1.94s/it, acc=0.5982|0.6855|0.6788]\n",
      "Run 1: 100%|██████████| 50/50 [01:37<00:00,  1.94s/it, acc=0.5933|0.6828|0.6756]\n",
      "Run 2: 100%|██████████| 50/50 [01:37<00:00,  1.94s/it, acc=0.5950|0.6854|0.6778]\n",
      "Run 3: 100%|██████████| 50/50 [01:37<00:00,  1.95s/it, acc=0.5942|0.6805|0.6779]\n",
      "Run 4: 100%|██████████| 50/50 [01:37<00:00,  1.95s/it, acc=0.5952|0.6847|0.6789]\n"
     ]
    },
    {
     "name": "stdout",
     "output_type": "stream",
     "text": [
      "{'dataset': 'ogbn-arxiv', 'num_layers': 3, 'num_hidden': 128, 'fanout': [-1, -1, -1], 'batch_size': 4096, 'n_epochs': 50, 'n_runs': 5, 'drop_p': 0.5, 'method': 'drop_random'}\n"
     ]
    },
    {
     "name": "stderr",
     "output_type": "stream",
     "text": [
      "Run 0:   2%|▏         | 1/50 [00:01<01:36,  1.97s/it, acc=0.1525|0.1986|0.1771]"
     ]
    },
    {
     "name": "stdout",
     "output_type": "stream",
     "text": [
      "[157718.8260869565, 80836.65217391304, 579297.9130434783, 0.6493054957485314]\n"
     ]
    },
    {
     "name": "stderr",
     "output_type": "stream",
     "text": [
      "Run 0: 100%|██████████| 50/50 [01:37<00:00,  1.95s/it, acc=0.6329|0.6916|0.6835]\n",
      "Run 1: 100%|██████████| 50/50 [01:37<00:00,  1.95s/it, acc=0.6279|0.6914|0.6827]\n",
      "Run 2: 100%|██████████| 50/50 [01:39<00:00,  1.99s/it, acc=0.6290|0.6900|0.6838]\n",
      "Run 3: 100%|██████████| 50/50 [01:39<00:00,  2.00s/it, acc=0.6265|0.6896|0.6773]\n",
      "Run 4: 100%|██████████| 50/50 [01:37<00:00,  1.96s/it, acc=0.6306|0.6909|0.6853]\n"
     ]
    },
    {
     "name": "stdout",
     "output_type": "stream",
     "text": [
      "{'dataset': 'ogbn-arxiv', 'num_layers': 3, 'num_hidden': 128, 'fanout': [-1, -1, -1], 'batch_size': 4096, 'n_epochs': 50, 'n_runs': 5, 'drop_p': 0, 'method': 'drop_random'}\n"
     ]
    },
    {
     "name": "stderr",
     "output_type": "stream",
     "text": [
      "Run 0:   2%|▏         | 1/50 [00:02<01:40,  2.06s/it, acc=0.1745|0.2898|0.2615]"
     ]
    },
    {
     "name": "stdout",
     "output_type": "stream",
     "text": [
      "[157685.65217391305, 157685.65217391305, 2202193.9565217393, 0.9525515315486569]\n"
     ]
    },
    {
     "name": "stderr",
     "output_type": "stream",
     "text": [
      "Run 0: 100%|██████████| 50/50 [01:40<00:00,  2.02s/it, acc=0.6909|0.7006|0.6919]\n",
      "Run 1: 100%|██████████| 50/50 [01:39<00:00,  1.99s/it, acc=0.6862|0.6962|0.6902]\n",
      "Run 2: 100%|██████████| 50/50 [01:39<00:00,  1.99s/it, acc=0.6868|0.7026|0.6953]\n",
      "Run 3: 100%|██████████| 50/50 [01:39<00:00,  1.99s/it, acc=0.6871|0.7024|0.6936]\n",
      "Run 4: 100%|██████████| 50/50 [01:39<00:00,  1.99s/it, acc=0.6872|0.6995|0.6892]\n"
     ]
    }
   ],
   "source": [
    "ps = [0.98, 0.95, 0.9, 0.8, 0.7, 0.5, 0]\n",
    "n_runs = 5\n",
    "n_epochs = 50\n",
    "loggers = [train_with_drop(data, drop_p=p, fn=drop_random, print_once=True) for p in ps]\n",
    "with open(f\"{name}_drop_random.pkl\", \"wb\") as fp:\n",
    "    pickle.dump(loggers, fp)"
   ]
  },
  {
   "cell_type": "code",
   "execution_count": 24,
   "metadata": {},
   "outputs": [
    {
     "name": "stdout",
     "output_type": "stream",
     "text": [
      "{'dataset': 'ogbn-arxiv', 'num_layers': 3, 'num_hidden': 128, 'fanout': [-1, -1, -1], 'batch_size': 4096, 'n_epochs': 50, 'n_runs': 5, 'drop_p': 0.98, 'method': 'drop_by_influence'}\n"
     ]
    },
    {
     "name": "stderr",
     "output_type": "stream",
     "text": [
      "Run 0:   2%|▏         | 1/50 [00:01<01:29,  1.83s/it, acc=0.1762|0.2880|0.2612]"
     ]
    },
    {
     "name": "stdout",
     "output_type": "stream",
     "text": [
      "[157710.39130434784, 7029.565217391304, 24835.565217391304, 0.5842630537340573]\n"
     ]
    },
    {
     "name": "stderr",
     "output_type": "stream",
     "text": [
      "Run 0: 100%|██████████| 50/50 [01:30<00:00,  1.81s/it, acc=0.6021|0.6804|0.6729]\n",
      "Run 1: 100%|██████████| 50/50 [01:30<00:00,  1.81s/it, acc=0.5998|0.6802|0.6717]\n",
      "Run 2: 100%|██████████| 50/50 [01:30<00:00,  1.81s/it, acc=0.5973|0.6786|0.6715]\n",
      "Run 3: 100%|██████████| 50/50 [01:30<00:00,  1.81s/it, acc=0.5983|0.6783|0.6723]\n",
      "Run 4: 100%|██████████| 50/50 [01:30<00:00,  1.81s/it, acc=0.5979|0.6791|0.6694]\n"
     ]
    },
    {
     "name": "stdout",
     "output_type": "stream",
     "text": [
      "{'dataset': 'ogbn-arxiv', 'num_layers': 3, 'num_hidden': 128, 'fanout': [-1, -1, -1], 'batch_size': 4096, 'n_epochs': 50, 'n_runs': 5, 'drop_p': 0.95, 'method': 'drop_by_influence'}\n"
     ]
    },
    {
     "name": "stderr",
     "output_type": "stream",
     "text": [
      "Run 0:   2%|▏         | 1/50 [00:01<01:27,  1.79s/it, acc=0.1825|0.2506|0.2295]"
     ]
    },
    {
     "name": "stdout",
     "output_type": "stream",
     "text": [
      "[157691.95652173914, 11641.391304347826, 63687.217391304344, 0.7111601597614627]\n"
     ]
    },
    {
     "name": "stderr",
     "output_type": "stream",
     "text": [
      "Run 0: 100%|██████████| 50/50 [01:29<00:00,  1.79s/it, acc=0.6492|0.6936|0.6816]\n",
      "Run 1: 100%|██████████| 50/50 [01:29<00:00,  1.80s/it, acc=0.6473|0.6917|0.6802]\n",
      "Run 2: 100%|██████████| 50/50 [01:29<00:00,  1.79s/it, acc=0.6455|0.6916|0.6792]\n",
      "Run 3: 100%|██████████| 50/50 [01:27<00:00,  1.75s/it, acc=0.6456|0.6925|0.6786]\n",
      "Run 4: 100%|██████████| 50/50 [01:27<00:00,  1.75s/it, acc=0.6436|0.6916|0.6820]\n"
     ]
    },
    {
     "name": "stdout",
     "output_type": "stream",
     "text": [
      "{'dataset': 'ogbn-arxiv', 'num_layers': 3, 'num_hidden': 128, 'fanout': [-1, -1, -1], 'batch_size': 4096, 'n_epochs': 50, 'n_runs': 5, 'drop_p': 0.9, 'method': 'drop_by_influence'}\n"
     ]
    },
    {
     "name": "stderr",
     "output_type": "stream",
     "text": [
      "Run 0:   2%|▏         | 1/50 [00:01<01:28,  1.81s/it, acc=0.1896|0.2973|0.2678]"
     ]
    },
    {
     "name": "stdout",
     "output_type": "stream",
     "text": [
      "[157712.34782608695, 19330.260869565216, 153583.65217391305, 0.8155419965902515]\n"
     ]
    },
    {
     "name": "stderr",
     "output_type": "stream",
     "text": [
      "Run 0: 100%|██████████| 50/50 [01:28<00:00,  1.78s/it, acc=0.6745|0.6973|0.6865]\n",
      "Run 1: 100%|██████████| 50/50 [01:27<00:00,  1.75s/it, acc=0.6701|0.6955|0.6829]\n",
      "Run 2: 100%|██████████| 50/50 [01:27<00:00,  1.75s/it, acc=0.6699|0.6968|0.6900]\n",
      "Run 3: 100%|██████████| 50/50 [01:27<00:00,  1.75s/it, acc=0.6711|0.6971|0.6867]\n",
      "Run 4: 100%|██████████| 50/50 [01:27<00:00,  1.75s/it, acc=0.6707|0.6979|0.6886]\n"
     ]
    },
    {
     "name": "stdout",
     "output_type": "stream",
     "text": [
      "{'dataset': 'ogbn-arxiv', 'num_layers': 3, 'num_hidden': 128, 'fanout': [-1, -1, -1], 'batch_size': 4096, 'n_epochs': 50, 'n_runs': 5, 'drop_p': 0.8, 'method': 'drop_by_influence'}\n"
     ]
    },
    {
     "name": "stderr",
     "output_type": "stream",
     "text": [
      "Run 0:   2%|▏         | 1/50 [00:01<01:28,  1.81s/it, acc=0.1723|0.2894|0.2617]"
     ]
    },
    {
     "name": "stdout",
     "output_type": "stream",
     "text": [
      "[157737.08695652173, 34710.913043478264, 398671.04347826086, 0.897594413355053]\n"
     ]
    },
    {
     "name": "stderr",
     "output_type": "stream",
     "text": [
      "Run 0: 100%|██████████| 50/50 [01:30<00:00,  1.80s/it, acc=0.6851|0.6988|0.6908]\n",
      "Run 1: 100%|██████████| 50/50 [01:29<00:00,  1.80s/it, acc=0.6801|0.6992|0.6899]\n",
      "Run 2: 100%|██████████| 50/50 [01:30<00:00,  1.80s/it, acc=0.6807|0.6973|0.6899]\n",
      "Run 3: 100%|██████████| 50/50 [01:29<00:00,  1.80s/it, acc=0.6823|0.6987|0.6891]\n",
      "Run 4: 100%|██████████| 50/50 [01:28<00:00,  1.78s/it, acc=0.6813|0.6993|0.6900]\n"
     ]
    },
    {
     "name": "stdout",
     "output_type": "stream",
     "text": [
      "{'dataset': 'ogbn-arxiv', 'num_layers': 3, 'num_hidden': 128, 'fanout': [-1, -1, -1], 'batch_size': 4096, 'n_epochs': 50, 'n_runs': 5, 'drop_p': 0.7, 'method': 'drop_by_influence'}\n"
     ]
    },
    {
     "name": "stderr",
     "output_type": "stream",
     "text": [
      "Run 0:   2%|▏         | 1/50 [00:01<01:30,  1.84s/it, acc=0.1681|0.2661|0.2426]"
     ]
    },
    {
     "name": "stdout",
     "output_type": "stream",
     "text": [
      "[157726.73913043478, 50086.217391304344, 661153.4782608695, 0.9286599125630731]\n"
     ]
    },
    {
     "name": "stderr",
     "output_type": "stream",
     "text": [
      "Run 0: 100%|██████████| 50/50 [01:31<00:00,  1.83s/it, acc=0.6895|0.7006|0.6941]\n",
      "Run 1: 100%|██████████| 50/50 [01:31<00:00,  1.83s/it, acc=0.6860|0.6985|0.6934]\n",
      "Run 2: 100%|██████████| 50/50 [01:31<00:00,  1.83s/it, acc=0.6834|0.6994|0.6919]\n",
      "Run 3: 100%|██████████| 50/50 [01:31<00:00,  1.83s/it, acc=0.6862|0.6994|0.6881]\n",
      "Run 4: 100%|██████████| 50/50 [01:28<00:00,  1.77s/it, acc=0.6859|0.7004|0.6903]\n"
     ]
    },
    {
     "name": "stdout",
     "output_type": "stream",
     "text": [
      "{'dataset': 'ogbn-arxiv', 'num_layers': 3, 'num_hidden': 128, 'fanout': [-1, -1, -1], 'batch_size': 4096, 'n_epochs': 50, 'n_runs': 5, 'drop_p': 0.5, 'method': 'drop_by_influence'}\n"
     ]
    },
    {
     "name": "stderr",
     "output_type": "stream",
     "text": [
      "Run 0:   2%|▏         | 1/50 [00:01<01:29,  1.83s/it, acc=0.1785|0.2788|0.2538]"
     ]
    },
    {
     "name": "stdout",
     "output_type": "stream",
     "text": [
      "[157703.95652173914, 80829.21739130435, 1175832.9130434783, 0.9495800252919819]\n"
     ]
    },
    {
     "name": "stderr",
     "output_type": "stream",
     "text": [
      "Run 0: 100%|██████████| 50/50 [01:30<00:00,  1.82s/it, acc=0.6888|0.7006|0.6893]\n",
      "Run 1: 100%|██████████| 50/50 [01:30<00:00,  1.82s/it, acc=0.6870|0.6989|0.6882]\n",
      "Run 2: 100%|██████████| 50/50 [01:31<00:00,  1.82s/it, acc=0.6855|0.6980|0.6910]\n",
      "Run 3: 100%|██████████| 50/50 [01:31<00:00,  1.82s/it, acc=0.6880|0.6984|0.6919]\n",
      "Run 4: 100%|██████████| 50/50 [01:31<00:00,  1.82s/it, acc=0.6874|0.6989|0.6904]\n"
     ]
    },
    {
     "name": "stdout",
     "output_type": "stream",
     "text": [
      "{'dataset': 'ogbn-arxiv', 'num_layers': 3, 'num_hidden': 128, 'fanout': [-1, -1, -1], 'batch_size': 4096, 'n_epochs': 50, 'n_runs': 5, 'drop_p': 0, 'method': 'drop_by_influence'}\n"
     ]
    },
    {
     "name": "stderr",
     "output_type": "stream",
     "text": [
      "Run 0:   2%|▏         | 1/50 [00:01<01:36,  1.97s/it, acc=0.1836|0.2283|0.2062]"
     ]
    },
    {
     "name": "stdout",
     "output_type": "stream",
     "text": [
      "[157715.1739130435, 157715.1739130435, 2202825.6086956523, 0.952551536246715]\n"
     ]
    },
    {
     "name": "stderr",
     "output_type": "stream",
     "text": [
      "Run 0: 100%|██████████| 50/50 [01:36<00:00,  1.94s/it, acc=0.6918|0.7009|0.6935]\n",
      "Run 1: 100%|██████████| 50/50 [01:36<00:00,  1.93s/it, acc=0.6873|0.6994|0.6902]\n",
      "Run 2: 100%|██████████| 50/50 [01:36<00:00,  1.93s/it, acc=0.6895|0.6988|0.6914]\n",
      "Run 3: 100%|██████████| 50/50 [01:36<00:00,  1.93s/it, acc=0.6884|0.6997|0.6897]\n",
      "Run 4: 100%|██████████| 50/50 [01:36<00:00,  1.93s/it, acc=0.6874|0.7005|0.6938]\n"
     ]
    }
   ],
   "source": [
    "ps = [0.98, 0.95, 0.9, 0.8, 0.7, 0.5, 0]\n",
    "n_runs = 5\n",
    "n_epochs = 50\n",
    "loggers = [train_with_drop(data, drop_p=p, fn=drop_by_influence, print_once=True) for p in ps]\n",
    "with open(f\"{name}_drop_infl.pkl\", \"wb\") as fp:\n",
    "    pickle.dump(loggers, fp)"
   ]
  },
  {
   "cell_type": "code",
   "execution_count": 25,
   "metadata": {},
   "outputs": [
    {
     "name": "stdout",
     "output_type": "stream",
     "text": [
      "{'dataset': 'ogbn-arxiv', 'num_layers': 3, 'num_hidden': 128, 'fanout': [-1, -1, -1], 'batch_size': 4096, 'n_epochs': 50, 'n_runs': 5, 'drop_p': 0.98, 'method': 'drop_hop'}\n"
     ]
    },
    {
     "name": "stderr",
     "output_type": "stream",
     "text": [
      "Run 0:   2%|▏         | 1/50 [00:01<01:28,  1.80s/it, acc=0.1588|0.2756|0.2500]"
     ]
    },
    {
     "name": "stdout",
     "output_type": "stream",
     "text": [
      "[157724.13043478262, 7029.826086956522, 14401.91304347826, 0.3881824299739151]\n"
     ]
    },
    {
     "name": "stderr",
     "output_type": "stream",
     "text": [
      "Run 0: 100%|██████████| 50/50 [01:29<00:00,  1.79s/it, acc=0.5420|0.6626|0.6538]\n",
      "Run 1: 100%|██████████| 50/50 [01:29<00:00,  1.79s/it, acc=0.5371|0.6616|0.6564]\n",
      "Run 2: 100%|██████████| 50/50 [01:29<00:00,  1.79s/it, acc=0.5364|0.6591|0.6571]\n",
      "Run 3: 100%|██████████| 50/50 [01:29<00:00,  1.79s/it, acc=0.5399|0.6615|0.6571]\n",
      "Run 4: 100%|██████████| 50/50 [01:29<00:00,  1.80s/it, acc=0.5370|0.6600|0.6538]\n"
     ]
    },
    {
     "name": "stdout",
     "output_type": "stream",
     "text": [
      "{'dataset': 'ogbn-arxiv', 'num_layers': 3, 'num_hidden': 128, 'fanout': [-1, -1, -1], 'batch_size': 4096, 'n_epochs': 50, 'n_runs': 5, 'drop_p': 0.95, 'method': 'drop_hop'}\n"
     ]
    },
    {
     "name": "stderr",
     "output_type": "stream",
     "text": [
      "Run 0:   2%|▏         | 1/50 [00:01<01:29,  1.84s/it, acc=0.1577|0.2966|0.2672]"
     ]
    },
    {
     "name": "stdout",
     "output_type": "stream",
     "text": [
      "[157716.13043478262, 11642.521739130434, 49101.30434782609, 0.4498529650126009]\n"
     ]
    },
    {
     "name": "stderr",
     "output_type": "stream",
     "text": [
      "Run 0: 100%|██████████| 50/50 [01:30<00:00,  1.81s/it, acc=0.5706|0.6751|0.6664]\n",
      "Run 1: 100%|██████████| 50/50 [01:30<00:00,  1.81s/it, acc=0.5700|0.6767|0.6690]\n",
      "Run 2: 100%|██████████| 50/50 [01:31<00:00,  1.83s/it, acc=0.5714|0.6749|0.6679]\n",
      "Run 3: 100%|██████████| 50/50 [01:31<00:00,  1.84s/it, acc=0.5706|0.6753|0.6693]\n",
      "Run 4: 100%|██████████| 50/50 [01:32<00:00,  1.85s/it, acc=0.5680|0.6720|0.6636]\n"
     ]
    },
    {
     "name": "stdout",
     "output_type": "stream",
     "text": [
      "{'dataset': 'ogbn-arxiv', 'num_layers': 3, 'num_hidden': 128, 'fanout': [-1, -1, -1], 'batch_size': 4096, 'n_epochs': 50, 'n_runs': 5, 'drop_p': 0.9, 'method': 'drop_hop'}\n"
     ]
    },
    {
     "name": "stderr",
     "output_type": "stream",
     "text": [
      "Run 0:   2%|▏         | 1/50 [00:01<01:30,  1.85s/it, acc=0.1784|0.1724|0.1491]"
     ]
    },
    {
     "name": "stdout",
     "output_type": "stream",
     "text": [
      "[157735.30434782608, 19332.695652173912, 147316.86956521738, 0.5527931107924282]\n"
     ]
    },
    {
     "name": "stderr",
     "output_type": "stream",
     "text": [
      "Run 0: 100%|██████████| 50/50 [01:33<00:00,  1.87s/it, acc=0.6084|0.6850|0.6776]\n",
      "Run 1: 100%|██████████| 50/50 [01:33<00:00,  1.87s/it, acc=0.6029|0.6855|0.6730]\n",
      "Run 2: 100%|██████████| 50/50 [01:33<00:00,  1.87s/it, acc=0.6054|0.6868|0.6793]\n",
      "Run 3: 100%|██████████| 50/50 [01:33<00:00,  1.88s/it, acc=0.6052|0.6859|0.6805]\n",
      "Run 4: 100%|██████████| 50/50 [01:33<00:00,  1.88s/it, acc=0.6025|0.6855|0.6800]\n"
     ]
    },
    {
     "name": "stdout",
     "output_type": "stream",
     "text": [
      "{'dataset': 'ogbn-arxiv', 'num_layers': 3, 'num_hidden': 128, 'fanout': [-1, -1, -1], 'batch_size': 4096, 'n_epochs': 50, 'n_runs': 5, 'drop_p': 0.8, 'method': 'drop_hop'}\n"
     ]
    },
    {
     "name": "stderr",
     "output_type": "stream",
     "text": [
      "Run 0:   2%|▏         | 1/50 [00:01<01:34,  1.93s/it, acc=0.1627|0.2544|0.2305]"
     ]
    },
    {
     "name": "stdout",
     "output_type": "stream",
     "text": [
      "[157676.04347826086, 34698.86956521739, 479940.04347826086, 0.7533845668998307]\n"
     ]
    },
    {
     "name": "stderr",
     "output_type": "stream",
     "text": [
      "Run 0: 100%|██████████| 50/50 [01:35<00:00,  1.91s/it, acc=0.6528|0.6978|0.6914]\n",
      "Run 1: 100%|██████████| 50/50 [01:35<00:00,  1.92s/it, acc=0.6509|0.6970|0.6899]\n",
      "Run 2: 100%|██████████| 50/50 [01:35<00:00,  1.91s/it, acc=0.6484|0.6946|0.6895]\n",
      "Run 3: 100%|██████████| 50/50 [01:35<00:00,  1.91s/it, acc=0.6495|0.6954|0.6902]\n",
      "Run 4: 100%|██████████| 50/50 [01:35<00:00,  1.92s/it, acc=0.6507|0.6944|0.6873]\n"
     ]
    },
    {
     "name": "stdout",
     "output_type": "stream",
     "text": [
      "{'dataset': 'ogbn-arxiv', 'num_layers': 3, 'num_hidden': 128, 'fanout': [-1, -1, -1], 'batch_size': 4096, 'n_epochs': 50, 'n_runs': 5, 'drop_p': 0.7, 'method': 'drop_hop'}\n"
     ]
    },
    {
     "name": "stderr",
     "output_type": "stream",
     "text": [
      "Run 0:   2%|▏         | 1/50 [00:01<01:33,  1.91s/it, acc=0.1724|0.2897|0.2620]"
     ]
    },
    {
     "name": "stdout",
     "output_type": "stream",
     "text": [
      "[157713.0, 50082.13043478261, 826235.7826086957, 0.8750487859767081]\n"
     ]
    },
    {
     "name": "stderr",
     "output_type": "stream",
     "text": [
      "Run 0: 100%|██████████| 50/50 [01:35<00:00,  1.92s/it, acc=0.6771|0.6979|0.6891]\n",
      "Run 1: 100%|██████████| 50/50 [01:35<00:00,  1.91s/it, acc=0.6720|0.6946|0.6836]\n",
      "Run 2: 100%|██████████| 50/50 [01:35<00:00,  1.92s/it, acc=0.6738|0.6981|0.6895]\n",
      "Run 3: 100%|██████████| 50/50 [01:35<00:00,  1.92s/it, acc=0.6715|0.6973|0.6897]\n",
      "Run 4: 100%|██████████| 50/50 [01:35<00:00,  1.92s/it, acc=0.6721|0.6985|0.6901]\n"
     ]
    },
    {
     "name": "stdout",
     "output_type": "stream",
     "text": [
      "{'dataset': 'ogbn-arxiv', 'num_layers': 3, 'num_hidden': 128, 'fanout': [-1, -1, -1], 'batch_size': 4096, 'n_epochs': 50, 'n_runs': 5, 'drop_p': 0.5, 'method': 'drop_hop'}\n"
     ]
    },
    {
     "name": "stderr",
     "output_type": "stream",
     "text": [
      "Run 0:   2%|▏         | 1/50 [00:01<01:34,  1.93s/it, acc=0.1699|0.1155|0.0921]"
     ]
    },
    {
     "name": "stdout",
     "output_type": "stream",
     "text": [
      "[157731.26086956522, 80842.86956521739, 1130663.8695652173, 0.8973375369659312]\n"
     ]
    },
    {
     "name": "stderr",
     "output_type": "stream",
     "text": [
      "Run 0: 100%|██████████| 50/50 [01:37<00:00,  1.94s/it, acc=0.6808|0.6985|0.6880]\n",
      "Run 1: 100%|██████████| 50/50 [01:37<00:00,  1.95s/it, acc=0.6782|0.6977|0.6881]\n",
      "Run 2: 100%|██████████| 50/50 [01:37<00:00,  1.95s/it, acc=0.6786|0.6985|0.6848]\n",
      "Run 3: 100%|██████████| 50/50 [01:37<00:00,  1.94s/it, acc=0.6796|0.6972|0.6928]\n",
      "Run 4: 100%|██████████| 50/50 [01:37<00:00,  1.95s/it, acc=0.6782|0.6991|0.6907]\n"
     ]
    },
    {
     "name": "stdout",
     "output_type": "stream",
     "text": [
      "{'dataset': 'ogbn-arxiv', 'num_layers': 3, 'num_hidden': 128, 'fanout': [-1, -1, -1], 'batch_size': 4096, 'n_epochs': 50, 'n_runs': 5, 'drop_p': 0, 'method': 'drop_hop'}\n"
     ]
    },
    {
     "name": "stderr",
     "output_type": "stream",
     "text": [
      "Run 0:   2%|▏         | 1/50 [00:02<01:39,  2.03s/it, acc=0.1878|0.2549|0.2309]"
     ]
    },
    {
     "name": "stdout",
     "output_type": "stream",
     "text": [
      "[157675.30434782608, 157675.30434782608, 2201625.6086956523, 0.9525515523543424]\n"
     ]
    },
    {
     "name": "stderr",
     "output_type": "stream",
     "text": [
      "Run 0: 100%|██████████| 50/50 [01:41<00:00,  2.03s/it, acc=0.6918|0.6998|0.6902]\n",
      "Run 1: 100%|██████████| 50/50 [01:41<00:00,  2.03s/it, acc=0.6870|0.6997|0.6895]\n",
      "Run 2: 100%|██████████| 50/50 [01:41<00:00,  2.02s/it, acc=0.6850|0.6989|0.6909]\n",
      "Run 3: 100%|██████████| 50/50 [01:40<00:00,  2.01s/it, acc=0.6852|0.6972|0.6892]\n",
      "Run 4: 100%|██████████| 50/50 [01:41<00:00,  2.02s/it, acc=0.6886|0.7006|0.6966]\n"
     ]
    }
   ],
   "source": [
    "ps = [0.98, 0.95, 0.9, 0.8, 0.7, 0.5, 0]\n",
    "n_runs = 5\n",
    "n_epochs = 50\n",
    "loggers = [train_with_drop(data, drop_p=p, fn=drop_hop, print_once=True) for p in ps]\n",
    "with open(f\"{name}_drop_hop.pkl\", \"wb\") as fp:\n",
    "    pickle.dump(loggers, fp)"
   ]
  },
  {
   "cell_type": "code",
   "execution_count": 27,
   "metadata": {},
   "outputs": [
    {
     "name": "stdout",
     "output_type": "stream",
     "text": [
      "{'dataset': 'ogbn-arxiv', 'num_layers': 3, 'num_hidden': 128, 'fanout': [-1, -1, -1], 'batch_size': 4096, 'n_epochs': 50, 'n_runs': 1, 'drop_p': 0.99, 'method': 'drop_by_influence'}\n"
     ]
    },
    {
     "name": "stderr",
     "output_type": "stream",
     "text": [
      "Run 0:   2%|▏         | 1/50 [00:02<01:39,  2.02s/it, acc=0.1595|0.0763|0.0586]"
     ]
    },
    {
     "name": "stdout",
     "output_type": "stream",
     "text": [
      "[157658.78260869565, 5491.478260869565, 17218.956521739132, 0.38877456179629]\n"
     ]
    },
    {
     "name": "stderr",
     "output_type": "stream",
     "text": [
      "Run 0: 100%|██████████| 50/50 [01:36<00:00,  1.93s/it, acc=0.5635|0.6720|0.6639]\n"
     ]
    }
   ],
   "source": [
    "# ps = [0.98, 0.95, 0.9, 0.8, 0.7, 0.5, 0]\n",
    "# n_runs = 5\n",
    "# n_epochs = 50\n",
    "ps = [0.99]\n",
    "n_runs = 1\n",
    "n_epochs = 50\n",
    "loggers = [train_with_drop(data, drop_p=p, fn=drop_by_influence, print_once=True) for p in ps]"
   ]
  },
  {
   "cell_type": "code",
   "execution_count": 18,
   "metadata": {},
   "outputs": [
    {
     "name": "stdout",
     "output_type": "stream",
     "text": [
      "{'dataset': 'ogbn-arxiv', 'num_layers': 3, 'num_hidden': 128, 'fanout': [-1, -1, -1], 'batch_size': 4096, 'n_epochs': 50, 'n_runs': 1, 'drop_p': 0.98, 'method': 'drop_random'}\n"
     ]
    },
    {
     "name": "stderr",
     "output_type": "stream",
     "text": [
      "Run 0:   2%|▏         | 1/50 [00:02<01:40,  2.06s/it, acc=0.1632|0.2763|0.2516]"
     ]
    },
    {
     "name": "stdout",
     "output_type": "stream",
     "text": [
      "[157801.34782608695, 7031.434782608696, 4472.913043478261, 0.22407932700753871]\n"
     ]
    },
    {
     "name": "stderr",
     "output_type": "stream",
     "text": [
      "Run 0:  12%|█▏        | 6/50 [00:12<01:31,  2.08s/it, acc=0.3938|0.5488|0.5459]\n"
     ]
    },
    {
     "ename": "KeyboardInterrupt",
     "evalue": "",
     "output_type": "error",
     "traceback": [
      "\u001b[0;31m---------------------------------------------------------------------------\u001b[0m",
      "\u001b[0;31mKeyboardInterrupt\u001b[0m                         Traceback (most recent call last)",
      "\u001b[1;32m/home/tianhaoh/Proj/GNNoS/notebooks/mfg_drop.ipynb Cell 13\u001b[0m in \u001b[0;36m<cell line: 4>\u001b[0;34m()\u001b[0m\n\u001b[1;32m      <a href='vscode-notebook-cell://ssh-remote%2Bhome/home/tianhaoh/Proj/GNNoS/notebooks/mfg_drop.ipynb#X35sdnNjb2RlLXJlbW90ZQ%3D%3D?line=1'>2</a>\u001b[0m n_runs \u001b[39m=\u001b[39m \u001b[39m1\u001b[39m\n\u001b[1;32m      <a href='vscode-notebook-cell://ssh-remote%2Bhome/home/tianhaoh/Proj/GNNoS/notebooks/mfg_drop.ipynb#X35sdnNjb2RlLXJlbW90ZQ%3D%3D?line=2'>3</a>\u001b[0m n_epochs \u001b[39m=\u001b[39m \u001b[39m50\u001b[39m\n\u001b[0;32m----> <a href='vscode-notebook-cell://ssh-remote%2Bhome/home/tianhaoh/Proj/GNNoS/notebooks/mfg_drop.ipynb#X35sdnNjb2RlLXJlbW90ZQ%3D%3D?line=3'>4</a>\u001b[0m loggers \u001b[39m=\u001b[39m [train_with_drop(data, drop_p\u001b[39m=\u001b[39mp, fn\u001b[39m=\u001b[39mdrop_random, print_once\u001b[39m=\u001b[39m\u001b[39mTrue\u001b[39;00m) \u001b[39mfor\u001b[39;00m p \u001b[39min\u001b[39;00m ps]\n",
      "\u001b[1;32m/home/tianhaoh/Proj/GNNoS/notebooks/mfg_drop.ipynb Cell 13\u001b[0m in \u001b[0;36m<listcomp>\u001b[0;34m(.0)\u001b[0m\n\u001b[1;32m      <a href='vscode-notebook-cell://ssh-remote%2Bhome/home/tianhaoh/Proj/GNNoS/notebooks/mfg_drop.ipynb#X35sdnNjb2RlLXJlbW90ZQ%3D%3D?line=1'>2</a>\u001b[0m n_runs \u001b[39m=\u001b[39m \u001b[39m1\u001b[39m\n\u001b[1;32m      <a href='vscode-notebook-cell://ssh-remote%2Bhome/home/tianhaoh/Proj/GNNoS/notebooks/mfg_drop.ipynb#X35sdnNjb2RlLXJlbW90ZQ%3D%3D?line=2'>3</a>\u001b[0m n_epochs \u001b[39m=\u001b[39m \u001b[39m50\u001b[39m\n\u001b[0;32m----> <a href='vscode-notebook-cell://ssh-remote%2Bhome/home/tianhaoh/Proj/GNNoS/notebooks/mfg_drop.ipynb#X35sdnNjb2RlLXJlbW90ZQ%3D%3D?line=3'>4</a>\u001b[0m loggers \u001b[39m=\u001b[39m [train_with_drop(data, drop_p\u001b[39m=\u001b[39;49mp, fn\u001b[39m=\u001b[39;49mdrop_random, print_once\u001b[39m=\u001b[39;49m\u001b[39mTrue\u001b[39;49;00m) \u001b[39mfor\u001b[39;00m p \u001b[39min\u001b[39;00m ps]\n",
      "\u001b[1;32m/home/tianhaoh/Proj/GNNoS/notebooks/mfg_drop.ipynb Cell 13\u001b[0m in \u001b[0;36mtrain_with_drop\u001b[0;34m(data, drop_p, fn, print_once)\u001b[0m\n\u001b[1;32m     <a href='vscode-notebook-cell://ssh-remote%2Bhome/home/tianhaoh/Proj/GNNoS/notebooks/mfg_drop.ipynb#X35sdnNjb2RlLXJlbW90ZQ%3D%3D?line=24'>25</a>\u001b[0m pbar\u001b[39m.\u001b[39mset_postfix({\u001b[39m'\u001b[39m\u001b[39macc\u001b[39m\u001b[39m'\u001b[39m: description\u001b[39m.\u001b[39mformat(\u001b[39m0\u001b[39m, best_val, \u001b[39m0\u001b[39m)})\n\u001b[1;32m     <a href='vscode-notebook-cell://ssh-remote%2Bhome/home/tianhaoh/Proj/GNNoS/notebooks/mfg_drop.ipynb#X35sdnNjb2RlLXJlbW90ZQ%3D%3D?line=25'>26</a>\u001b[0m \u001b[39mfor\u001b[39;00m epoch \u001b[39min\u001b[39;00m pbar:\n\u001b[1;32m     <a href='vscode-notebook-cell://ssh-remote%2Bhome/home/tianhaoh/Proj/GNNoS/notebooks/mfg_drop.ipynb#X35sdnNjb2RlLXJlbW90ZQ%3D%3D?line=26'>27</a>\u001b[0m     \u001b[39m# if epoch < 2:\u001b[39;00m\n\u001b[1;32m     <a href='vscode-notebook-cell://ssh-remote%2Bhome/home/tianhaoh/Proj/GNNoS/notebooks/mfg_drop.ipynb#X35sdnNjb2RlLXJlbW90ZQ%3D%3D?line=27'>28</a>\u001b[0m     \u001b[39m#     profiler = Profiler()\u001b[39;00m\n\u001b[1;32m     <a href='vscode-notebook-cell://ssh-remote%2Bhome/home/tianhaoh/Proj/GNNoS/notebooks/mfg_drop.ipynb#X35sdnNjb2RlLXJlbW90ZQ%3D%3D?line=28'>29</a>\u001b[0m     \u001b[39m#     profiler.start()\u001b[39;00m\n\u001b[0;32m---> <a href='vscode-notebook-cell://ssh-remote%2Bhome/home/tianhaoh/Proj/GNNoS/notebooks/mfg_drop.ipynb#X35sdnNjb2RlLXJlbW90ZQ%3D%3D?line=29'>30</a>\u001b[0m     train_loss, train_acc, \u001b[39m*\u001b[39minfo \u001b[39m=\u001b[39m train(model, optimizer, dataloader, description\u001b[39m=\u001b[39;49m\u001b[39mf\u001b[39;49m\u001b[39m\"\u001b[39;49m\u001b[39mEpoch \u001b[39;49m\u001b[39m{\u001b[39;49;00mepoch\u001b[39m}\u001b[39;49;00m\u001b[39m\"\u001b[39;49m)\n\u001b[1;32m     <a href='vscode-notebook-cell://ssh-remote%2Bhome/home/tianhaoh/Proj/GNNoS/notebooks/mfg_drop.ipynb#X35sdnNjb2RlLXJlbW90ZQ%3D%3D?line=30'>31</a>\u001b[0m     \u001b[39mif\u001b[39;00m print_once:\n\u001b[1;32m     <a href='vscode-notebook-cell://ssh-remote%2Bhome/home/tianhaoh/Proj/GNNoS/notebooks/mfg_drop.ipynb#X35sdnNjb2RlLXJlbW90ZQ%3D%3D?line=31'>32</a>\u001b[0m         \u001b[39m# batch_nodes, rem_nodes, rem_edges, batch_score\u001b[39;00m\n\u001b[1;32m     <a href='vscode-notebook-cell://ssh-remote%2Bhome/home/tianhaoh/Proj/GNNoS/notebooks/mfg_drop.ipynb#X35sdnNjb2RlLXJlbW90ZQ%3D%3D?line=32'>33</a>\u001b[0m         \u001b[39mprint\u001b[39m(info)\n",
      "\u001b[1;32m/home/tianhaoh/Proj/GNNoS/notebooks/mfg_drop.ipynb Cell 13\u001b[0m in \u001b[0;36mtrain\u001b[0;34m(model, optimizer, dataloader, description)\u001b[0m\n\u001b[1;32m     <a href='vscode-notebook-cell://ssh-remote%2Bhome/home/tianhaoh/Proj/GNNoS/notebooks/mfg_drop.ipynb#X35sdnNjb2RlLXJlbW90ZQ%3D%3D?line=17'>18</a>\u001b[0m total_loss \u001b[39m=\u001b[39m total_correct \u001b[39m=\u001b[39m total_examples \u001b[39m=\u001b[39m \u001b[39m0\u001b[39m\n\u001b[1;32m     <a href='vscode-notebook-cell://ssh-remote%2Bhome/home/tianhaoh/Proj/GNNoS/notebooks/mfg_drop.ipynb#X35sdnNjb2RlLXJlbW90ZQ%3D%3D?line=18'>19</a>\u001b[0m mfg_sizes \u001b[39m=\u001b[39m num_nodes \u001b[39m=\u001b[39m alive_nodes \u001b[39m=\u001b[39m batch_score \u001b[39m=\u001b[39m \u001b[39m0\u001b[39m\n\u001b[0;32m---> <a href='vscode-notebook-cell://ssh-remote%2Bhome/home/tianhaoh/Proj/GNNoS/notebooks/mfg_drop.ipynb#X35sdnNjb2RlLXJlbW90ZQ%3D%3D?line=19'>20</a>\u001b[0m \u001b[39mfor\u001b[39;00m batch \u001b[39min\u001b[39;00m dataloader:\n\u001b[1;32m     <a href='vscode-notebook-cell://ssh-remote%2Bhome/home/tianhaoh/Proj/GNNoS/notebooks/mfg_drop.ipynb#X35sdnNjb2RlLXJlbW90ZQ%3D%3D?line=20'>21</a>\u001b[0m     bsize \u001b[39m=\u001b[39m batch\u001b[39m.\u001b[39mbatch_size\n\u001b[1;32m     <a href='vscode-notebook-cell://ssh-remote%2Bhome/home/tianhaoh/Proj/GNNoS/notebooks/mfg_drop.ipynb#X35sdnNjb2RlLXJlbW90ZQ%3D%3D?line=21'>22</a>\u001b[0m     dev_attrs \u001b[39m=\u001b[39m [key \u001b[39mfor\u001b[39;00m key \u001b[39min\u001b[39;00m batch\u001b[39m.\u001b[39mkeys \u001b[39mif\u001b[39;00m \u001b[39mnot\u001b[39;00m key\u001b[39m.\u001b[39mendswith(\u001b[39m'\u001b[39m\u001b[39m_mask\u001b[39m\u001b[39m'\u001b[39m)]\n",
      "File \u001b[0;32m~/.local/lib/python3.9/site-packages/torch_geometric/loader/base.py:36\u001b[0m, in \u001b[0;36mDataLoaderIterator.__next__\u001b[0;34m(self)\u001b[0m\n\u001b[1;32m     35\u001b[0m \u001b[39mdef\u001b[39;00m \u001b[39m__next__\u001b[39m(\u001b[39mself\u001b[39m) \u001b[39m-\u001b[39m\u001b[39m>\u001b[39m Any:\n\u001b[0;32m---> 36\u001b[0m     \u001b[39mreturn\u001b[39;00m \u001b[39mself\u001b[39m\u001b[39m.\u001b[39mtransform_fn(\u001b[39mnext\u001b[39;49m(\u001b[39mself\u001b[39;49m\u001b[39m.\u001b[39;49miterator))\n",
      "File \u001b[0;32m~/.local/lib/python3.9/site-packages/torch/utils/data/dataloader.py:633\u001b[0m, in \u001b[0;36m_BaseDataLoaderIter.__next__\u001b[0;34m(self)\u001b[0m\n\u001b[1;32m    630\u001b[0m \u001b[39mif\u001b[39;00m \u001b[39mself\u001b[39m\u001b[39m.\u001b[39m_sampler_iter \u001b[39mis\u001b[39;00m \u001b[39mNone\u001b[39;00m:\n\u001b[1;32m    631\u001b[0m     \u001b[39m# TODO(https://github.com/pytorch/pytorch/issues/76750)\u001b[39;00m\n\u001b[1;32m    632\u001b[0m     \u001b[39mself\u001b[39m\u001b[39m.\u001b[39m_reset()  \u001b[39m# type: ignore[call-arg]\u001b[39;00m\n\u001b[0;32m--> 633\u001b[0m data \u001b[39m=\u001b[39m \u001b[39mself\u001b[39;49m\u001b[39m.\u001b[39;49m_next_data()\n\u001b[1;32m    634\u001b[0m \u001b[39mself\u001b[39m\u001b[39m.\u001b[39m_num_yielded \u001b[39m+\u001b[39m\u001b[39m=\u001b[39m \u001b[39m1\u001b[39m\n\u001b[1;32m    635\u001b[0m \u001b[39mif\u001b[39;00m \u001b[39mself\u001b[39m\u001b[39m.\u001b[39m_dataset_kind \u001b[39m==\u001b[39m _DatasetKind\u001b[39m.\u001b[39mIterable \u001b[39mand\u001b[39;00m \\\n\u001b[1;32m    636\u001b[0m         \u001b[39mself\u001b[39m\u001b[39m.\u001b[39m_IterableDataset_len_called \u001b[39mis\u001b[39;00m \u001b[39mnot\u001b[39;00m \u001b[39mNone\u001b[39;00m \u001b[39mand\u001b[39;00m \\\n\u001b[1;32m    637\u001b[0m         \u001b[39mself\u001b[39m\u001b[39m.\u001b[39m_num_yielded \u001b[39m>\u001b[39m \u001b[39mself\u001b[39m\u001b[39m.\u001b[39m_IterableDataset_len_called:\n",
      "File \u001b[0;32m~/.local/lib/python3.9/site-packages/torch/utils/data/dataloader.py:677\u001b[0m, in \u001b[0;36m_SingleProcessDataLoaderIter._next_data\u001b[0;34m(self)\u001b[0m\n\u001b[1;32m    675\u001b[0m \u001b[39mdef\u001b[39;00m \u001b[39m_next_data\u001b[39m(\u001b[39mself\u001b[39m):\n\u001b[1;32m    676\u001b[0m     index \u001b[39m=\u001b[39m \u001b[39mself\u001b[39m\u001b[39m.\u001b[39m_next_index()  \u001b[39m# may raise StopIteration\u001b[39;00m\n\u001b[0;32m--> 677\u001b[0m     data \u001b[39m=\u001b[39m \u001b[39mself\u001b[39;49m\u001b[39m.\u001b[39;49m_dataset_fetcher\u001b[39m.\u001b[39;49mfetch(index)  \u001b[39m# may raise StopIteration\u001b[39;00m\n\u001b[1;32m    678\u001b[0m     \u001b[39mif\u001b[39;00m \u001b[39mself\u001b[39m\u001b[39m.\u001b[39m_pin_memory:\n\u001b[1;32m    679\u001b[0m         data \u001b[39m=\u001b[39m _utils\u001b[39m.\u001b[39mpin_memory\u001b[39m.\u001b[39mpin_memory(data, \u001b[39mself\u001b[39m\u001b[39m.\u001b[39m_pin_memory_device)\n",
      "File \u001b[0;32m~/.local/lib/python3.9/site-packages/torch/utils/data/_utils/fetch.py:54\u001b[0m, in \u001b[0;36m_MapDatasetFetcher.fetch\u001b[0;34m(self, possibly_batched_index)\u001b[0m\n\u001b[1;32m     52\u001b[0m \u001b[39melse\u001b[39;00m:\n\u001b[1;32m     53\u001b[0m     data \u001b[39m=\u001b[39m \u001b[39mself\u001b[39m\u001b[39m.\u001b[39mdataset[possibly_batched_index]\n\u001b[0;32m---> 54\u001b[0m \u001b[39mreturn\u001b[39;00m \u001b[39mself\u001b[39;49m\u001b[39m.\u001b[39;49mcollate_fn(data)\n",
      "File \u001b[0;32m~/.local/lib/python3.9/site-packages/torch_geometric/loader/node_loader.py:117\u001b[0m, in \u001b[0;36mNodeLoader.collate_fn\u001b[0;34m(self, index)\u001b[0m\n\u001b[1;32m    114\u001b[0m \u001b[39mr\u001b[39m\u001b[39m\"\"\"Samples a subgraph from a batch of input nodes.\"\"\"\u001b[39;00m\n\u001b[1;32m    115\u001b[0m input_data: NodeSamplerInput \u001b[39m=\u001b[39m \u001b[39mself\u001b[39m\u001b[39m.\u001b[39minput_data[index]\n\u001b[0;32m--> 117\u001b[0m out \u001b[39m=\u001b[39m \u001b[39mself\u001b[39;49m\u001b[39m.\u001b[39;49mnode_sampler\u001b[39m.\u001b[39;49msample_from_nodes(input_data)\n\u001b[1;32m    119\u001b[0m \u001b[39mif\u001b[39;00m \u001b[39mself\u001b[39m\u001b[39m.\u001b[39mfilter_per_worker:  \u001b[39m# Execute `filter_fn` in the worker process\u001b[39;00m\n\u001b[1;32m    120\u001b[0m     out \u001b[39m=\u001b[39m \u001b[39mself\u001b[39m\u001b[39m.\u001b[39mfilter_fn(out)\n",
      "File \u001b[0;32m~/.local/lib/python3.9/site-packages/torch_geometric/sampler/neighbor_sampler.py:174\u001b[0m, in \u001b[0;36mNeighborSampler.sample_from_nodes\u001b[0;34m(self, inputs)\u001b[0m\n\u001b[1;32m    170\u001b[0m \u001b[39mdef\u001b[39;00m \u001b[39msample_from_nodes\u001b[39m(\n\u001b[1;32m    171\u001b[0m     \u001b[39mself\u001b[39m,\n\u001b[1;32m    172\u001b[0m     inputs: NodeSamplerInput,\n\u001b[1;32m    173\u001b[0m ) \u001b[39m-\u001b[39m\u001b[39m>\u001b[39m Union[SamplerOutput, HeteroSamplerOutput]:\n\u001b[0;32m--> 174\u001b[0m     \u001b[39mreturn\u001b[39;00m node_sample(inputs, \u001b[39mself\u001b[39;49m\u001b[39m.\u001b[39;49m_sample)\n",
      "File \u001b[0;32m~/.local/lib/python3.9/site-packages/torch_geometric/sampler/neighbor_sampler.py:358\u001b[0m, in \u001b[0;36mnode_sample\u001b[0;34m(inputs, sample_fn)\u001b[0m\n\u001b[1;32m    355\u001b[0m     seed \u001b[39m=\u001b[39m inputs\u001b[39m.\u001b[39mnode\n\u001b[1;32m    356\u001b[0m     seed_time \u001b[39m=\u001b[39m inputs\u001b[39m.\u001b[39mtime\n\u001b[0;32m--> 358\u001b[0m out \u001b[39m=\u001b[39m sample_fn(seed, seed_time)\n\u001b[1;32m    359\u001b[0m out\u001b[39m.\u001b[39mmetadata \u001b[39m=\u001b[39m (inputs\u001b[39m.\u001b[39minput_id, inputs\u001b[39m.\u001b[39mtime)\n\u001b[1;32m    361\u001b[0m \u001b[39mreturn\u001b[39;00m out\n",
      "File \u001b[0;32m~/.local/lib/python3.9/site-packages/torch_geometric/sampler/neighbor_sampler.py:282\u001b[0m, in \u001b[0;36mNeighborSampler._sample\u001b[0;34m(self, seed, seed_time, **kwargs)\u001b[0m\n\u001b[1;32m    278\u001b[0m \u001b[39melse\u001b[39;00m:  \u001b[39m# Homogeneous sampling:\u001b[39;00m\n\u001b[1;32m    279\u001b[0m     \u001b[39mif\u001b[39;00m torch_geometric\u001b[39m.\u001b[39mtyping\u001b[39m.\u001b[39mWITH_PYG_LIB:\n\u001b[1;32m    280\u001b[0m         \u001b[39m# TODO (matthias) `return_edge_id` if edge features present\u001b[39;00m\n\u001b[1;32m    281\u001b[0m         \u001b[39m# TODO (matthias) Ideally, `seed` inherits dtype from `colptr`\u001b[39;00m\n\u001b[0;32m--> 282\u001b[0m         out \u001b[39m=\u001b[39m torch\u001b[39m.\u001b[39;49mops\u001b[39m.\u001b[39;49mpyg\u001b[39m.\u001b[39;49mneighbor_sample(\n\u001b[1;32m    283\u001b[0m             \u001b[39mself\u001b[39;49m\u001b[39m.\u001b[39;49mcolptr,\n\u001b[1;32m    284\u001b[0m             \u001b[39mself\u001b[39;49m\u001b[39m.\u001b[39;49mrow,\n\u001b[1;32m    285\u001b[0m             seed\u001b[39m.\u001b[39;49mto(\u001b[39mself\u001b[39;49m\u001b[39m.\u001b[39;49mcolptr\u001b[39m.\u001b[39;49mdtype),  \u001b[39m# seed\u001b[39;49;00m\n\u001b[1;32m    286\u001b[0m             \u001b[39mself\u001b[39;49m\u001b[39m.\u001b[39;49mnum_neighbors\u001b[39m.\u001b[39;49mget_mapped_values(),\n\u001b[1;32m    287\u001b[0m             \u001b[39mself\u001b[39;49m\u001b[39m.\u001b[39;49mnode_time,\n\u001b[1;32m    288\u001b[0m             seed_time,\n\u001b[1;32m    289\u001b[0m             \u001b[39mTrue\u001b[39;49;00m,  \u001b[39m# csc\u001b[39;49;00m\n\u001b[1;32m    290\u001b[0m             \u001b[39mself\u001b[39;49m\u001b[39m.\u001b[39;49mreplace,\n\u001b[1;32m    291\u001b[0m             \u001b[39mself\u001b[39;49m\u001b[39m.\u001b[39;49mdirected,\n\u001b[1;32m    292\u001b[0m             \u001b[39mself\u001b[39;49m\u001b[39m.\u001b[39;49mdisjoint,\n\u001b[1;32m    293\u001b[0m             \u001b[39mself\u001b[39;49m\u001b[39m.\u001b[39;49mtemporal_strategy,\n\u001b[1;32m    294\u001b[0m             \u001b[39mTrue\u001b[39;49;00m,  \u001b[39m# return_edge_id\u001b[39;49;00m\n\u001b[1;32m    295\u001b[0m         )\n\u001b[1;32m    296\u001b[0m         row, col, node, edge, batch \u001b[39m=\u001b[39m out[:\u001b[39m4\u001b[39m] \u001b[39m+\u001b[39m (\u001b[39mNone\u001b[39;00m, )\n\u001b[1;32m    298\u001b[0m         \u001b[39m# `pyg-lib>0.1.0` returns sampled number of nodes/edges:\u001b[39;00m\n",
      "File \u001b[0;32m~/.local/lib/python3.9/site-packages/torch/_ops.py:502\u001b[0m, in \u001b[0;36mOpOverloadPacket.__call__\u001b[0;34m(self, *args, **kwargs)\u001b[0m\n\u001b[1;32m    497\u001b[0m \u001b[39mdef\u001b[39;00m \u001b[39m__call__\u001b[39m(\u001b[39mself\u001b[39m, \u001b[39m*\u001b[39margs, \u001b[39m*\u001b[39m\u001b[39m*\u001b[39mkwargs):\n\u001b[1;32m    498\u001b[0m     \u001b[39m# overloading __call__ to ensure torch.ops.foo.bar()\u001b[39;00m\n\u001b[1;32m    499\u001b[0m     \u001b[39m# is still callable from JIT\u001b[39;00m\n\u001b[1;32m    500\u001b[0m     \u001b[39m# We save the function ptr as the `op` attribute on\u001b[39;00m\n\u001b[1;32m    501\u001b[0m     \u001b[39m# OpOverloadPacket to access it here.\u001b[39;00m\n\u001b[0;32m--> 502\u001b[0m     \u001b[39mreturn\u001b[39;00m \u001b[39mself\u001b[39;49m\u001b[39m.\u001b[39;49m_op(\u001b[39m*\u001b[39;49margs, \u001b[39m*\u001b[39;49m\u001b[39m*\u001b[39;49mkwargs \u001b[39mor\u001b[39;49;00m {})\n",
      "\u001b[0;31mKeyboardInterrupt\u001b[0m: "
     ]
    }
   ],
   "source": [
    "ps = [0.95]\n",
    "n_runs = 1\n",
    "n_epochs = 50\n",
    "loggers = [train_with_drop(data, drop_p=p, fn=drop_random, print_once=True) for p in ps]"
   ]
  },
  {
   "cell_type": "code",
   "execution_count": 29,
   "metadata": {},
   "outputs": [],
   "source": [
    "def stdmean(logger: Logger, *labels, summarize=None):\n",
    "    '''\n",
    "    compute the stdmean of logged data with the given labels across all runs\n",
    "    customized by the `summarize` fn\n",
    "    '''\n",
    "    if summarize is None:\n",
    "        summarize = lambda x: x\n",
    "    series_dict = {}\n",
    "    for run in logger:\n",
    "        run_dict = logger.get_data(run, *labels)\n",
    "        summary_dict = summarize(run_dict)\n",
    "        for new_label in summary_dict:\n",
    "            if new_label not in series_dict:\n",
    "                series_dict[new_label] = []\n",
    "            series_dict[new_label].append(summary_dict[new_label])\n",
    "    stdmean_dict = {}\n",
    "    for label in series_dict:\n",
    "        t = torch.tensor(series_dict[label])\n",
    "        stdmean_dict[label] = [t.mean().item(), t.std().item()]\n",
    "    return stdmean_dict\n",
    "\n",
    "def stdmean_acc(logger: Logger):\n",
    "    def get_acc(val_test):\n",
    "        val_acc = 100 * torch.tensor(val_test['val/acc'])\n",
    "        valid = val_acc.max().item()\n",
    "        test = 100 * val_test['test/acc'][val_acc.argmax()]\n",
    "        return {'val/acc' : valid, 'test/acc': test}\n",
    "    return stdmean(logger, 'val/acc', 'test/acc', summarize=get_acc)\n",
    "\n",
    "import pickle\n",
    "loggers = {}\n",
    "with open(f'{name}_drop_random.pkl', 'rb') as fp:\n",
    "    loggers['random'] = pickle.load(fp)\n",
    "with open(f'{name}_drop_infl.pkl', 'rb') as fp:\n",
    "    loggers['influence'] = pickle.load(fp)\n",
    "with open(f'{name}_drop_hop.pkl', 'rb') as fp:\n",
    "    loggers['neighbor'] = pickle.load(fp)\n",
    "\n",
    "\n",
    "def extract_train_info(train_extra):\n",
    "    ext_list = list(zip(*train_extra['train/extra']))\n",
    "    # batch_nodes, rem_nodes, rem_edges, batch_score\n",
    "    return {\n",
    "        # 'batch_nodes': ext_list[0],\n",
    "        'rem_nodes': ext_list[1],\n",
    "        'rem_edges': ext_list[2],\n",
    "        'coverage': ext_list[3],\n",
    "    }\n",
    "\n",
    "proc_data = {}\n",
    "for method, loggers in loggers.items():\n",
    "    proc_data[method] = {\n",
    "        k: [] for k in\n",
    "        ('p', 'train/acc', 'val/acc', 'test/acc', 'rem_nodes', 'rem_edges', 'coverage')\n",
    "    }\n",
    "    m_data = proc_data[method]\n",
    "    for logger in loggers:\n",
    "        info = logger.info.copy()\n",
    "        m_data['p'].append(info['drop_p'])\n",
    "        acc = stdmean_acc(logger)\n",
    "        for k in acc:\n",
    "            m_data[k].append(acc[k])\n",
    "        train_acc = stdmean(logger, 'train/acc',\n",
    "            summarize=lambda x: {k: 100*max(v) for k, v in x.items()})\n",
    "        for k in train_acc:\n",
    "            m_data[k].append(train_acc[k])\n",
    "        train_stat = stdmean(logger, 'train/extra', summarize=extract_train_info)\n",
    "        for k in train_stat:\n",
    "            m_data[k].append(train_stat[k])\n"
   ]
  },
  {
   "cell_type": "code",
   "execution_count": null,
   "metadata": {},
   "outputs": [],
   "source": [
    "import matplotlib.pyplot as plt\n",
    "\n",
    "for _, method in enumerate(proc_data):\n",
    "    m_data = proc_data[method]\n",
    "    fig, axs = plt.subplots(1, 3, figsize=(18, 5), sharey=True)\n",
    "    plt.suptitle(f\"Dropping nodes by {method.upper()}\")\n",
    "    plt.ylim([55, 75])\n",
    "    for i, xlabel in enumerate(['p', 'rem_nodes', 'coverage']):\n",
    "        for k in ('train/acc', 'val/acc', 'test/acc'):\n",
    "            if isinstance(m_data[xlabel][0], list) or isinstance(m_data[xlabel][0], list):\n",
    "                xs = list(zip(*m_data[xlabel]))[0]\n",
    "            else:\n",
    "                xs = m_data[xlabel]\n",
    "            mean, std = [torch.tensor(a) for a in zip(*m_data[k])]\n",
    "            axs[i].plot(xs, mean, marker='o', label=k.split('/')[0])\n",
    "            axs[i].fill_between(xs, mean-std, mean+std, alpha=0.5, interpolate=True)\n",
    "            axs[i].legend()\n",
    "plt.show()"
   ]
  },
  {
   "cell_type": "code",
   "execution_count": 32,
   "metadata": {},
   "outputs": [
    {
     "data": {
      "image/png": "[encoded data removed]",
      "text/plain": [
       "<Figure size 864x360 with 2 Axes>"
      ]
     },
     "metadata": {
      "needs_background": "light"
     },
     "output_type": "display_data"
    },
    {
     "data": {
      "image/png": "[encoded data removed]",
      "text/plain": [
       "<Figure size 864x360 with 2 Axes>"
      ]
     },
     "metadata": {
      "needs_background": "light"
     },
     "output_type": "display_data"
    }
   ],
   "source": [
    "import matplotlib.pyplot as plt\n",
    "for metric, ylim in (('val/acc', None), ('test/acc', None)):\n",
    "    # data = proc_data[method]\n",
    "    fig, axs = plt.subplots(1, 2, figsize=(12, 5), sharey=True)\n",
    "    plt.suptitle(f\"arxiv-standard ({metric})\", fontsize=20)\n",
    "    if ylim is not None:\n",
    "        plt.ylim(ylim)\n",
    "    for i, xlabel in enumerate(['rem_nodes', 'coverage']):\n",
    "        # for k in ('train/acc', 'val/acc', 'test/acc'):\n",
    "        for k in proc_data:\n",
    "            k_data = proc_data[k]\n",
    "            if isinstance(k_data[xlabel][0], list) or isinstance(k_data[xlabel][0], list):\n",
    "                xs = list(zip(*k_data[xlabel]))[0]\n",
    "            else:\n",
    "                xs = k_data[xlabel]\n",
    "            mean, std = [torch.tensor(a) for a in zip(*k_data[metric])]\n",
    "\n",
    "            if xs[0] > xs[1]:\n",
    "                xs = list(reversed(xs))\n",
    "                mean = reversed(mean)\n",
    "                std = reversed(std)\n",
    "            xs, mean, std = xs[1:], mean[1:], std[1:]\n",
    "\n",
    "            axs[i].plot(xs, mean, marker='o', label=k.split('/')[0])\n",
    "            axs[i].fill_between(xs, mean-std, mean+std, alpha=0.1, interpolate=True)\n",
    "            axs[i].set_xlabel(xlabel, fontsize=16)\n",
    "            axs[i].autoscale(enable=True, axis='x', tight=True)\n",
    "            axs[i].tick_params(axis='y', which='major', labelsize=14)\n",
    "            axs[i].tick_params(axis='x', which='major', rotation=30, labelsize=14)\n",
    "            if i == 0:\n",
    "                axs[i].set_ylabel('accuracy', fontsize=16)\n",
    "    axs[i].legend(fontsize=16)\n",
    "    \n",
    "    if 'train' not in metric:\n",
    "        plt.savefig(f\"{name}_drop_{metric.replace('/', '_')}.pdf\", dpi=160, bbox_inches='tight')\n",
    "plt.show()"
   ]
  },
  {
   "cell_type": "code",
   "execution_count": 7,
   "metadata": {},
   "outputs": [],
   "source": [
    "iterator = iter(NeighborLoader(\n",
    "    data, num_neighbors=[-1]*3, shuffle=False,\n",
    "    input_nodes=train_nid, batch_size=batch_size,\n",
    "    num_workers=0\n",
    "))\n",
    "batch = next(iterator)"
   ]
  },
  {
   "cell_type": "code",
   "execution_count": 31,
   "metadata": {},
   "outputs": [
    {
     "name": "stdout",
     "output_type": "stream",
     "text": [
      "Data(num_nodes=144436, x=[144436, 128], node_year=[144436, 1], y=[144436, 1], adj_t=[144436, 144436, nnz=2047267], NID=[144436], input_id=[1024], batch_size=1024)\n",
      "num_layers=2\n",
      "3417/4096=83.42%; 1101/1863\n",
      "num_layers=3\n",
      "3423/4096=83.57%; 1502/2865\n",
      "num_layers=4\n",
      "3218/4096=78.56%; 1732/3688\n",
      "num_layers=5\n",
      "3185/4096=77.76%; 2008/4512\n",
      "num_layers=6\n",
      "3103/4096=75.76%; 2205/5226\n",
      "num_layers=7\n",
      "3066/4096=74.85%; 2420/5922\n"
     ]
    }
   ],
   "source": [
    "num_nodes = batch.num_nodes\n",
    "e_t = torch.zeros((num_nodes,), dtype=torch.float)\n",
    "e_t[:batch.batch_size] = 1\n",
    "print(batch)\n",
    "deg = degree(batch.adj_t.coo()[0], batch.num_nodes)\n",
    "deg[deg==0] = 1\n",
    "adj = batch.adj_t.t()\n",
    "\n",
    "for num_layers in range(2, 8):\n",
    "    scores = [e_t]\n",
    "    for k in range(num_layers):\n",
    "        pi = scores[-1] / deg\n",
    "        scores.append(adj.spmm(pi.view(num_nodes, 1)).view(-1))\n",
    "\n",
    "    per_node = sum(scores[1:])\n",
    "    per_node[:batch.batch_size] = 0\n",
    "    topk = torch.topk(per_node, k=batch.batch_size*4)\n",
    "    nid = torch.sort(topk.indices).values\n",
    "    topk_sum = topk.values.sum().item()\n",
    "    all_sum = per_node.sum().item()\n",
    "\n",
    "    src, dst, _ = batch.adj_t.coo()\n",
    "    hop1 = dst[src<batch.batch_size]\n",
    "    hop1_max = dst[src==batch.batch_size-1].max().item()\n",
    "    assert hop1.max().item() == hop1_max\n",
    "    topk = nid.shape[0]\n",
    "    in_hop1 = (nid <= hop1_max).sum().item()\n",
    "    print(f\"num_layers={num_layers}\")\n",
    "    print(f\"{in_hop1}/{topk}={in_hop1/topk*100:.2f}%; {topk_sum:.0f}/{all_sum:.0f}\")"
   ]
  },
  {
   "cell_type": "code",
   "execution_count": 47,
   "metadata": {},
   "outputs": [],
   "source": [
    "dataloader = iter(NeighborLoader(\n",
    "    data, num_neighbors=[-1,-1], shuffle=False,\n",
    "    input_nodes=train_nid, batch_size=batch_size,\n",
    "    num_workers=0\n",
    "))\n",
    "# next(dataloader)\n",
    "batch = next(dataloader)"
   ]
  },
  {
   "cell_type": "code",
   "execution_count": 21,
   "metadata": {},
   "outputs": [
    {
     "data": {
      "text/plain": [
       "'drop_random'"
      ]
     },
     "execution_count": 21,
     "metadata": {},
     "output_type": "execute_result"
    }
   ],
   "source": [
    "drop_random.__name__"
   ]
  }
 ],
 "metadata": {
  "kernelspec": {
   "display_name": "Python 3 (ipykernel)",
   "language": "python",
   "name": "python3"
  },
  "language_info": {
   "codemirror_mode": {
    "name": "ipython",
    "version": 3
   },
   "file_extension": ".py",
   "mimetype": "text/x-python",
   "name": "python",
   "nbconvert_exporter": "python",
   "pygments_lexer": "ipython3",
   "version": "3.9.2"
  },
  "varInspector": {
   "cols": {
    "lenName": 16,
    "lenType": 16,
    "lenVar": 40
   },
   "kernels_config": {
    "python": {
     "delete_cmd_postfix": "",
     "delete_cmd_prefix": "del ",
     "library": "var_list.py",
     "varRefreshCmd": "print(var_dic_list())"
    },
    "r": {
     "delete_cmd_postfix": ") ",
     "delete_cmd_prefix": "rm(",
     "library": "var_list.r",
     "varRefreshCmd": "cat(var_dic_list()) "
    }
   },
   "types_to_exclude": [
    "module",
    "function",
    "builtin_function_or_method",
    "instance",
    "_Feature"
   ],
   "window_display": false
  },
  "vscode": {
   "interpreter": {
    "hash": "916dbcbb3f70747c44a77c7bcd40155683ae19c65e1c03b4aa3499c5328201f1"
   }
  }
 },
 "nbformat": 4,
 "nbformat_minor": 4
}
