{
 "cells": [
  {
   "cell_type": "code",
   "execution_count": 2,
   "metadata": {},
   "outputs": [
    {
     "name": "stdout",
     "output_type": "stream",
     "text": [
      "['/work2/08723/tianhaoh/shared/GNNoS', '/work2/08723/tianhaoh/shared/GNNoS/notebooks', '', '/opt/apps/intel19/impi19_0/python3/3.7.0/lib/python3.7/site-packages', '/work2/08723/tianhaoh/frontera/miniconda3/envs/gnn/lib/python39.zip', '/work2/08723/tianhaoh/frontera/miniconda3/envs/gnn/lib/python3.9', '/work2/08723/tianhaoh/frontera/miniconda3/envs/gnn/lib/python3.9/lib-dynload', '/work2/08723/tianhaoh/frontera/miniconda3/envs/gnn/lib/python3.9/site-packages']\n"
     ]
    }
   ],
   "source": [
    "import os, os.path as osp\n",
    "import random\n",
    "import sys\n",
    "sys.path.insert(0, osp.abspath(osp.pardir))\n",
    "print(sys.path)\n",
    "import numpy as np\n",
    "import matplotlib.pyplot as plt\n",
    "import torch, dgl"
   ]
  },
  {
   "cell_type": "code",
   "execution_count": 3,
   "metadata": {},
   "outputs": [],
   "source": [
    "import dgl.function as fn\n",
    "\n",
    "class NodePartitioner(object):\n",
    "    def __init__(self, name):\n",
    "        self.name = name\n",
    "\n",
    "    def partition(self, g, psize):\n",
    "        raise NotImplementedError\n",
    "\n",
    "class RandomNodePartitioner(NodePartitioner):\n",
    "    def __init__(self):\n",
    "        super().__init__('rand')\n",
    "\n",
    "    def partition(self, g, psize):\n",
    "        return torch.randint(psize, (g.num_ndoes(),))\n",
    "\n",
    "class MetisNodePartitioner(NodePartitioner):\n",
    "    def __init__(self, name='metis'):\n",
    "        super().__init__(name)\n",
    "\n",
    "    def partition(self, g, psize, mask=None, objtype='cut'):\n",
    "        return dgl.metis_partition_assignment(g, psize, mask, objtype=objtype)\n",
    "\n",
    "class MetisMinCutBalanced(MetisNodePartitioner):\n",
    "    def __init__(self):\n",
    "        super().__init__(name='metis-cut')\n",
    "\n",
    "    def partition(self, g, psize):\n",
    "        return super().partition(g, psize, g.ndata['train_mask'].int(), objtype='cut')\n",
    "    \n",
    "class MetisMinVolBalanced(MetisNodePartitioner):\n",
    "    def __init__(self):\n",
    "        super().__init__(name='metis-vol')\n",
    "\n",
    "    def partition(self, g, psize):\n",
    "        return super().partition(g, psize, g.ndata['train_mask'].int(), objtype='vol')\n",
    "\n",
    "def partition_from(ids, assigns, psize):\n",
    "    '''\n",
    "    return ids of each part in a list given the assignments\n",
    "    '''\n",
    "    assert ids.shape == assigns.shape\n",
    "    _, idx = torch.sort(assigns)\n",
    "    shuffled = ids[idx]\n",
    "\n",
    "    # compute partition sizes\n",
    "    group_sizes = torch.histc(assigns.float(), bins=psize, min=0, max=psize).long()\n",
    "    group_offs = torch.cumsum(group_sizes, dim=0)\n",
    "    groups = [shuffled[:group_offs[0]]]\n",
    "    for i in range(1, len(group_offs)):\n",
    "        groups.append(shuffled[group_offs[i-1]:group_offs[i]])\n",
    "\n",
    "    return groups\n",
    "\n",
    "def edge_cuts_from(g, assigns, psize):\n",
    "    '''\n",
    "    return #edge cuts between pairs of partitions\n",
    "    u -[e]-> v: id(e) = id(u) * psize + id(v)\n",
    "    '''\n",
    "    assert g.num_nodes() == assigns.shape[0]\n",
    "    with g.local_scope():\n",
    "        g.ndata['vp'] = assigns.float()\n",
    "        g.ndata['vp_p'] = g.ndata['vp'] * psize\n",
    "        g.apply_edges(fn.u_add_v('vp', 'vp_p', 'ep'))\n",
    "        edge_part_sizes = torch.histc(g.edata['ep'], bins=psize*psize, min=0, max=psize*psize)\n",
    "        return edge_part_sizes.reshape((psize,psize))\n",
    "\n",
    "def train_edge_cuts_from(g, assigns, psize):\n",
    "    '''\n",
    "    return #edge cuts between pairs of partitions\n",
    "    u -[e]-> v: id(e) = id(u) * psize + id(v)\n",
    "    '''\n",
    "    assert g.num_nodes() == assigns.shape[0]\n",
    "    train_mask = g.ndata['train_mask']\n",
    "    with g.local_scope():\n",
    "        g.ndata['t_p'] = -1 * torch.ones(g.num_nodes())\n",
    "        g.ndata['t_p'][train_mask] = assigns[train_mask].float()\n",
    "        g.ndata['t_p'] = g.ndata['t_p'] * psize\n",
    "        g.ndata['nt_p'] = assigns.float()\n",
    "        g.apply_edges(fn.u_add_v('t_p', 'nt_p', 'e_p'))\n",
    "        edge_part_sizes = torch.histc(g.edata['e_p'], bins=psize*psize, min=0, max=psize*psize)\n",
    "        return edge_part_sizes.reshape((psize,psize))\n",
    "\n",
    "def lazy_rw(g, roots, steps, alpha=0.85):\n",
    "    '''\n",
    "    perform lazy random walk from roots for some steps, with prob=alpha to move forward\n",
    "    return a probability distribution of the random walk ended at certain nodes\n",
    "    '''\n",
    "    with g.local_scope():\n",
    "        g.ndata['rw_p'] = torch.zeros(g.num_nodes(), dtype=torch.float)\n",
    "        g.ndata['rw_p'][roots] = 1\n",
    "        deg = g.in_degrees()\n",
    "        for i in range(steps):\n",
    "            g.ndata['msg'] = g.ndata['rw_p'] * alpha / deg\n",
    "            g.update_all(fn.copy_u('msg', 'm'), fn.sum('m', 'rw_next'))\n",
    "            g.ndata['rw_p'] = g.ndata['rw_p'] * (1-alpha) + g.ndata['rw_next']\n",
    "        return g.ndata['rw_p'] / g.ndata['rw_p'].sum()\n",
    "\n",
    "# ClusterIter without random permutation of partitions - for profling purposes\n",
    "class ClusterIter(object):\n",
    "    '''\n",
    "    The partition sampler given a DGLGraph and partition number.\n",
    "    The metis/other partitioners is used as the graph partition backend.\n",
    "    The sampler returns a subgraph induced by a batch of clusters\n",
    "    '''\n",
    "    def __init__(self, dataset, g, psize, bsize, hsize, partitioner=RandomNodePartitioner(),\n",
    "            sample_helpers=False, sample_topk=False, rw=False, ext_deg=False, popular_ratio=0):\n",
    "        self.g = g\n",
    "        self.psize = psize\n",
    "        self.bsize = bsize\n",
    "        self.hsize = hsize\n",
    "        self.sample_topk = sample_topk\n",
    "        self.sample_helpers = sample_helpers\n",
    "\n",
    "        cache_folder = os.path.join(os.environ['DATASETS'], \"partition\",\n",
    "                dataset, partitioner.name)\n",
    "        os.makedirs(cache_folder, exist_ok=True)\n",
    "        cache_file = f'{cache_folder}/p{psize}.pt'\n",
    "\n",
    "        nids = g.nodes()\n",
    "        train_nids = nids[g.ndata['train_mask']]\n",
    "        if os.path.exists(cache_file):\n",
    "            self.assigns = torch.load(cache_file)\n",
    "        else:\n",
    "            self.assigns = partitioner.partition(g, psize)\n",
    "            torch.save(self.assigns, cache_file)\n",
    "        nontrain_mask = ~g.ndata['train_mask']\n",
    "        self.parts = partition_from(nids[nontrain_mask], self.assigns[nontrain_mask], psize)\n",
    "        train_assigns = self.assigns[train_nids]\n",
    "        self.train_parts = partition_from(train_nids, train_assigns, psize)\n",
    "        self.train_nids = train_nids\n",
    "\n",
    "        # print(\"Computing partition sampling weights...\")\n",
    "        # self.cuts = train_edge_cuts_from(g, self.assigns, psize)\n",
    "\n",
    "        self.max = int((self.psize) // self.bsize)\n",
    "        # disable shuffling for stat purposes\n",
    "        self.train_pids = torch.arange(self.psize)\n",
    "\n",
    "        self.node_budget = int(popular_ratio * g.num_nodes())\n",
    "        if ext_deg:\n",
    "            print(\"node prob based on external degrees\")\n",
    "            assigns = self.assigns / (psize // bsize)\n",
    "            self.node_prob = self.__compute_ext_deg__(assigns)\n",
    "        elif rw:\n",
    "            steps, alpha=3, 0.85\n",
    "            print(f\"node prob based on lazy rw[{(steps, alpha)}]\")\n",
    "            self.node_prob = lazy_rw(self.g, self.train_nids, steps=steps, alpha=alpha)\n",
    "        else:\n",
    "            print(f\"node prob based on degrees\")\n",
    "            self.node_prob = self.g.in_degrees().float().clamp(min=1)\n",
    "        self.node_prob = self.node_prob / self.node_prob.sum()\n",
    "        self.node_cache_parts = self.__get_pst_cache__()\n",
    "\n",
    "    def __compute_ext_deg__(self, assigns):\n",
    "        '''\n",
    "        compute ext-deg(v)=deg(v)-deg_p(v), where p is the partition v belongs to\n",
    "        '''\n",
    "        with g.local_scope():\n",
    "            g.ndata['pid'] = assigns.float()\n",
    "            g.apply_edges(fn.u_sub_v('pid', 'pid', 'diff'))\n",
    "            g.edata['diff'] = (g.edata['diff'] == 0).float()\n",
    "            g.update_all(fn.copy_e('diff', 'm'), fn.sum('m', 'd_i'))\n",
    "            return g.in_degrees() - g.ndata['d_i']\n",
    "    \n",
    "    def __get_pst_cache__(self):\n",
    "        if self.sample_topk:\n",
    "            node_cache = torch.from_numpy(\n",
    "                     np.random.choice(np.arange(self.g.num_nodes(), dtype=np.int64),\n",
    "                         size=self.node_budget, p=self.node_prob.numpy(), replace=False)\n",
    "                     )\n",
    "        else:\n",
    "            node_cache = torch.topk(self.node_prob, self.node_budget).indices\n",
    "        # print(\"node cache degrees:\", self.g.in_degrees(node_cache).sum().item())\n",
    "        return partition_from(node_cache, self.assigns[node_cache], self.psize)\n",
    "\n",
    "    '''\n",
    "    def precalc(self, g):\n",
    "        norm = self.get_norm(g)\n",
    "        g.ndata['norm'] = norm\n",
    "        features = g.ndata['feat']\n",
    "        with torch.no_grad():\n",
    "            g.update_all(fn.copy_src(src='feat', out='m'),\n",
    "                         fn.sum(msg='m', out='feat'),\n",
    "                         None)\n",
    "            pre_feats = g.ndata['feat'] * norm\n",
    "            # use graphsage embedding aggregation style\n",
    "            g.ndata['feat'] = torch.cat([features, pre_feats], dim=1)\n",
    "\n",
    "    # use one side normalization\n",
    "    def get_norm(self, g):\n",
    "        norm = 1. / g.in_degrees().float().unsqueeze(1)\n",
    "        norm[torch.isinf(norm)] = 0\n",
    "        norm = norm.to(self.g.ndata['feat'].device)\n",
    "        return norm\n",
    "    '''\n",
    "\n",
    "    def __len__(self):\n",
    "        return self.max\n",
    "\n",
    "    def __iter__(self):\n",
    "        self.n = 0\n",
    "        return self\n",
    "\n",
    "    def __next__(self):\n",
    "        if self.n < self.max:\n",
    "            sample_pids = self.train_pids[self.n*self.bsize : (self.n+1)*self.bsize]\n",
    "            train_nids = torch.cat([self.train_parts[pid] for pid in sample_pids])\n",
    "            # we use fixed helpers policy\n",
    "            helper_nids = torch.cat([self.parts[i] for i in sample_pids])\n",
    "            cache_parts = [self.node_cache_parts[i] for i in range(self.psize) if i not in sample_pids]\n",
    "            cache_nids = torch.cat(cache_parts)\n",
    "            nids = torch.cat([train_nids, helper_nids, cache_nids])\n",
    "            # print(len(train_nids), len(helper_nids), len(cache_nids))\n",
    "            # XXX: check cache_nids don't duplicate with other nodes\n",
    "            assert len(torch.unique(nids)) == len(nids)\n",
    "\n",
    "            subgraph = dgl.node_subgraph(self.g, nids)\n",
    "            sg_num_nodes = subgraph.num_nodes()\n",
    "            sg_train_nids = torch.arange(train_nids.shape[0])\n",
    "            sg_cache_nids = torch.arange(sg_num_nodes-len(cache_nids), sg_num_nodes)\n",
    "            # XXX: verify all sg_train_nids has train_mask\n",
    "            assert (subgraph.ndata['train_mask'][sg_train_nids] == True).all().item()\n",
    "            subgraph.ndata['train_mask'][:] = False\n",
    "            subgraph.ndata['train_mask'][sg_train_nids] = True\n",
    "            subgraph.ndata['cache_mask'] = torch.BoolTensor(sg_num_nodes)\n",
    "            subgraph.ndata['cache_mask'][:] = False\n",
    "            subgraph.ndata['cache_mask'][sg_cache_nids] = True\n",
    "            self.n += 1\n",
    "            return subgraph\n",
    "        else:\n",
    "            # self.train_pids = torch.randperm(self.psize)\n",
    "            self.node_cache_parts = self.__get_pst_cache__()\n",
    "            raise StopIteration\n"
   ]
  },
  {
   "cell_type": "code",
   "execution_count": 7,
   "metadata": {},
   "outputs": [],
   "source": [
    "def get_degree_dist(subgraph, graph):\n",
    "    '''\n",
    "    get degree distributions for nodes in the subgraph\n",
    "    and in the original graph g\n",
    "    '''\n",
    "    train_mask = subgraph.ndata['train_mask']\n",
    "    cache_mask = subgraph.ndata['cache_mask']\n",
    "    noncache_mask = ~cache_mask\n",
    "    sg_nodes = subgraph.nodes()\n",
    "    sg_train_nodes = sg_nodes[train_mask]\n",
    "    sg_cache_nodes = sg_nodes[cache_mask]\n",
    "    sg_0c_nodes = sg_nodes[noncache_mask]\n",
    "    \n",
    "    sg_nid_groups = [sg_nodes, sg_train_nodes, sg_0c_nodes, sg_cache_nodes]\n",
    "    g_nid_groups = [ subgraph.ndata[dgl.NID][group] for group in sg_nid_groups ]\n",
    "    sg_dist_groups = [subgraph.in_degrees(group) for group in sg_nid_groups]\n",
    "    g_dist_groups = [graph.in_degrees(group) for group in g_nid_groups]\n",
    "    \n",
    "    series = ['all', 'train', 'dyn', 'pst']\n",
    "    entries = ['sg_nid', 'nid', 'sg_dist', 'dist']\n",
    "    data_series = list(zip(sg_nid_groups, g_nid_groups, sg_dist_groups, g_dist_groups))\n",
    "    data_series = [dict(zip(entries, data)) for data in data_series]\n",
    "    data_series = dict(zip(series, data_series))\n",
    "    \n",
    "    # sanity check: sg_dist <= global dist\n",
    "    for k in ['all', 'train', 'dyn']:\n",
    "        sg_dist = data_series[k]['sg_dist']\n",
    "        dist = data_series[k]['dist']\n",
    "        assert (sg_dist <= dist).all().item() is True\n",
    "    \n",
    "    return data_series\n",
    "\n",
    "def degree_diff(metis_c0_iter, metis_c1_iter, rand_c0_iter, rand_c1_iter, iters, fanout, ntype='dyn'):\n",
    "    mlist = []\n",
    "    rlist = []\n",
    "    \n",
    "    for i in range(len(metis_c0_iter)):\n",
    "        if i not in iters:\n",
    "            next(metis_c0_iter)\n",
    "            next(metis_c1_iter)\n",
    "            next(rand_c0_iter)\n",
    "            next(rand_c1_iter)\n",
    "            continue\n",
    "        \n",
    "        ###### metis partitioning ###### \n",
    "        sg_c0, sg_c1 = next(metis_c0_iter), next(metis_c1_iter)\n",
    "        dist_c0 = get_degree_dist(sg_c0, g)\n",
    "        dist_c1 = get_degree_dist(sg_c1, g)\n",
    "        # make sure they contain the same dynamic cache nodes\n",
    "        assert (dist_c0['dyn']['dist'] == dist_c1['dyn']['dist']).all().item() is True\n",
    "\n",
    "        c0_below = dist_c0[ntype]['sg_dist'] < fanout\n",
    "        c0_above = dist_c0[ntype]['sg_dist'] >= fanout\n",
    "        c1_below = dist_c1[ntype]['sg_dist'] < fanout\n",
    "        c1_above = dist_c1[ntype]['sg_dist'] >= fanout\n",
    "        dist_g = dist_c0[ntype]['dist']\n",
    "        g_below = dist_g < fanout\n",
    "        g_above = dist_g >= fanout\n",
    "\n",
    "        # Part1: always above\n",
    "        p1 = (c0_above & c1_above & g_above).int().sum().item()\n",
    "        # Part2: c0 below, c1, g above\n",
    "        p2 = (c0_below & c1_above & g_above).int().sum().item()\n",
    "        # Part3: c0 below, c1 below, g above\n",
    "        p3 = (c0_below & c1_below & g_above).int().sum().item()\n",
    "        # Part4: all below\n",
    "        p4 = (c0_below & c1_below & g_below).int().sum().item()\n",
    "        # Part5: c0 above, c1 below, g above, only >0 for pst cache nodes\n",
    "        p5 = (c0_above & c1_below & g_above).int().sum().item()\n",
    "\n",
    "        # also compute deg sum\n",
    "        deg_sum_c0 = dist_c0[ntype]['sg_dist'].sum().item()\n",
    "        deg_sum_c1 = dist_c1[ntype]['sg_dist'].sum().item()\n",
    "        \n",
    "        mlist.append([p1, p2, p3, p4, p5, deg_sum_c0, deg_sum_c1])\n",
    "        # print('Metis:', mlist[-1])\n",
    "\n",
    "        ###### random partitioning ###### \n",
    "        sg_c0, sg_c1 = next(rand_c0_iter), next(rand_c1_iter)\n",
    "        dist_c0 = get_degree_dist(sg_c0, g)\n",
    "        dist_c1 = get_degree_dist(sg_c1, g)\n",
    "        # make sure they contain the same dynamic cache nodes\n",
    "        assert (dist_c0['dyn']['dist'] == dist_c1['dyn']['dist']).all().item() is True\n",
    "\n",
    "        c0_below = dist_c0[ntype]['sg_dist'] < fanout\n",
    "        c0_above = dist_c0[ntype]['sg_dist'] >= fanout\n",
    "        c1_below = dist_c1[ntype]['sg_dist'] < fanout\n",
    "        c1_above = dist_c1[ntype]['sg_dist'] >= fanout\n",
    "        dist_g = dist_c0[ntype]['dist']\n",
    "        g_below = dist_g < fanout\n",
    "        g_above = dist_g >= fanout\n",
    "\n",
    "        # Part1: always above\n",
    "        p1 = (c0_above & c1_above & g_above).int().sum().item()\n",
    "        # Part2: c0 below, c1, g above\n",
    "        p2 = (c0_below & c1_above & g_above).int().sum().item()\n",
    "        # Part3: c0 below, c1 below, g above\n",
    "        p3 = (c0_below & c1_below & g_above).int().sum().item()\n",
    "        # Part4: all below\n",
    "        p4 = (c0_below & c1_below & g_below).int().sum().item()\n",
    "        # Part5: c0 above, c1 below, g above, only >0 for pst cache nodes\n",
    "        p5 = (c0_above & c1_below & g_above).int().sum().item()\n",
    "        \n",
    "        # also compute deg sum\n",
    "        deg_sum_c0 = dist_c0[ntype]['sg_dist'].sum().item()\n",
    "        deg_sum_c1 = dist_c1[ntype]['sg_dist'].sum().item()\n",
    "\n",
    "        rlist.append([p1, p2, p3, p4, p5, deg_sum_c0, deg_sum_c1])\n",
    "        # print('Random:', rlist[-1])\n",
    "\n",
    "    return [sum(ps) for ps in zip(*mlist)], [sum(ps) for ps in zip(*rlist)]\n",
    "\n",
    "def pie_chart(ax, counts, dataset, psize, bsize, part, pratio):\n",
    "    ax."
   ]
  },
  {
   "cell_type": "code",
   "execution_count": 12,
   "metadata": {},
   "outputs": [
    {
     "name": "stdout",
     "output_type": "stream",
     "text": [
      "Graph(num_nodes=111059956, num_edges=3228124712,\n",
      "      ndata_schemes={'label': Scheme(shape=(1,), dtype=torch.float32), 'train_mask': Scheme(shape=(), dtype=torch.bool), 'test_mask': Scheme(shape=(), dtype=torch.bool), 'valid_mask': Scheme(shape=(), dtype=torch.bool)}\n",
      "      edata_schemes={})\n"
     ]
    }
   ],
   "source": [
    "import graphloader\n",
    "dataset='ogbn-papers100M'\n",
    "dataset_dir = osp.join(os.environ['DATASETS'], 'baseline')\n",
    "graphdata = graphloader.GraphLoader(name=dataset, root=dataset_dir, mmap=False)\n",
    "g = graphdata.graph\n",
    "print(g)"
   ]
  },
  {
   "cell_type": "code",
   "execution_count": null,
   "metadata": {},
   "outputs": [],
   "source": [
    "psize=16384\n",
    "bsize=1024\n",
    "pratio=0.01\n",
    "fanout = 10\n",
    "iters = range(3)\n",
    "# iters = torch.randint(psize//bsize, (3,))\n",
    "\n",
    "# create cluster dataloaders with Metis min-cut\n",
    "metis_c0_iter = ClusterIter(dataset, g, psize=psize, bsize=bsize, hsize=bsize,\n",
    "                            partitioner=MetisNodePartitioner(), popular_ratio=0).__iter__()\n",
    "metis_c1_iter = ClusterIter(dataset, g, psize=psize, bsize=bsize, hsize=bsize,\n",
    "                            partitioner=MetisNodePartitioner(), popular_ratio=pratio).__iter__()\n",
    "rand_c0_iter = ClusterIter(dataset, g, psize=psize, bsize=bsize, hsize=bsize,\n",
    "                           partitioner=RandomNodePartitioner(), popular_ratio=0).__iter__()\n",
    "rand_c1_iter = ClusterIter(dataset, g, psize=psize, bsize=bsize, hsize=bsize,\n",
    "                           partitioner=RandomNodePartitioner(), popular_ratio=pratio).__iter__()\n",
    "\n",
    "degree_diff(metis_c0_iter, metis_c1_iter, rand_c0_iter, rand_c1_iter, iters=iters, fanout=fanout, ntype='dyn')"
   ]
  },
  {
   "cell_type": "code",
   "execution_count": 9,
   "metadata": {},
   "outputs": [
    {
     "name": "stdout",
     "output_type": "stream",
     "text": [
      "node prob based on external degrees\n",
      "node prob based on external degrees\n",
      "node prob based on external degrees\n",
      "node prob based on external degrees\n"
     ]
    },
    {
     "data": {
      "text/plain": [
       "([28845, 16100, 17701, 106697, 0, 1065302, 1431340],\n",
       " [375, 18365, 43906, 106697, 0, 72260, 552566])"
      ]
     },
     "execution_count": 9,
     "metadata": {},
     "output_type": "execute_result"
    }
   ],
   "source": [
    "# create cluster dataloaders with Metis min-cut, use external degree metric\n",
    "metis_c0_iter = ClusterIter(dataset, g, psize=psize, bsize=bsize, hsize=bsize, ext_deg=True,\n",
    "                            partitioner=MetisNodePartitioner(), popular_ratio=0).__iter__()\n",
    "metis_c1_iter = ClusterIter(dataset, g, psize=psize, bsize=bsize, hsize=bsize, ext_deg=True,\n",
    "                            partitioner=MetisNodePartitioner(), popular_ratio=pratio).__iter__()\n",
    "rand_c1_iter = ClusterIter(dataset, g, psize=psize, bsize=bsize, hsize=bsize, ext_deg=True,\n",
    "                           partitioner=RandomNodePartitioner(), popular_ratio=pratio).__iter__()\n",
    "rand_c0_iter = ClusterIter(dataset, g, psize=psize, bsize=bsize, hsize=bsize, ext_deg=True,\n",
    "                           partitioner=RandomNodePartitioner(), popular_ratio=0).__iter__()\n",
    "\n",
    "degree_diff(metis_c0_iter, metis_c1_iter, rand_c0_iter, rand_c1_iter, iters=iters, fanout=fanout, ntype='dyn')"
   ]
  },
  {
   "cell_type": "code",
   "execution_count": null,
   "metadata": {},
   "outputs": [],
   "source": [
    "# create cluster dataloaders with Metis min-vol\n",
    "metis_c0_iter = ClusterIter(dataset, g, psize=psize, bsize=bsize, hsize=bsize,\n",
    "                            partitioner=MetisMinVolBalanced(), popular_ratio=0).__iter__()\n",
    "metis_c1_iter = ClusterIter(dataset, g, psize=psize, bsize=bsize, hsize=bsize,\n",
    "                            partitioner=MetisMinVolBalanced(), popular_ratio=pratio).__iter__()\n",
    "rand_c1_iter = ClusterIter(dataset, g, psize=psize, bsize=bsize, hsize=bsize,\n",
    "                           partitioner=RandomNodePartitioner(), popular_ratio=pratio).__iter__()\n",
    "rand_c0_iter = ClusterIter(dataset, g, psize=psize, bsize=bsize, hsize=bsize,\n",
    "                           partitioner=RandomNodePartitioner(), popular_ratio=0).__iter__()\n",
    "\n",
    "degree_diff(metis_c0_iter, metis_c1_iter, rand_c0_iter, rand_c1_iter, iters=iters, fanout=fanout, ntype='dyn')"
   ]
  },
  {
   "cell_type": "code",
   "execution_count": 11,
   "metadata": {},
   "outputs": [
    {
     "name": "stdout",
     "output_type": "stream",
     "text": [
      "node prob based on external degrees\n",
      "node prob based on external degrees\n",
      "node prob based on external degrees\n",
      "node prob based on external degrees\n"
     ]
    },
    {
     "data": {
      "text/plain": [
       "([34508, 13536, 14602, 106697, 0, 1222300, 1558627],\n",
       " [375, 18365, 43906, 106697, 0, 72260, 552566])"
      ]
     },
     "execution_count": 11,
     "metadata": {},
     "output_type": "execute_result"
    }
   ],
   "source": [
    "# create cluster dataloaders with Metis min-vol, use external degree metric\n",
    "metis_c0_iter = ClusterIter(dataset, g, psize=psize, bsize=bsize, hsize=bsize, ext_deg=True,\n",
    "                            partitioner=MetisMinVolBalanced(), popular_ratio=0).__iter__()\n",
    "metis_c1_iter = ClusterIter(dataset, g, psize=psize, bsize=bsize, hsize=bsize, ext_deg=True,\n",
    "                            partitioner=MetisMinVolBalanced(), popular_ratio=pratio).__iter__()\n",
    "rand_c1_iter = ClusterIter(dataset, g, psize=psize, bsize=bsize, hsize=bsize, ext_deg=True,\n",
    "                           partitioner=RandomNodePartitioner(), popular_ratio=pratio).__iter__()\n",
    "rand_c0_iter = ClusterIter(dataset, g, psize=psize, bsize=bsize, hsize=bsize, ext_deg=True,\n",
    "                           partitioner=RandomNodePartitioner(), popular_ratio=0).__iter__()\n",
    "\n",
    "degree_diff(metis_c0_iter, metis_c1_iter, rand_c0_iter, rand_c1_iter, iters=iters, fanout=fanout, ntype='dyn')"
   ]
  },
  {
   "cell_type": "code",
   "execution_count": 63,
   "metadata": {},
   "outputs": [
    {
     "name": "stdout",
     "output_type": "stream",
     "text": [
      "node prob based on lazy rw[(3, 0.85)]\n",
      "node prob based on lazy rw[(3, 0.85)]\n",
      "node prob based on lazy rw[(3, 0.85)]\n",
      "node prob based on lazy rw[(3, 0.85)]\n"
     ]
    },
    {
     "data": {
      "text/plain": [
       "([25755, 13198, 23693, 106697, 0], [135, 8624, 53887, 106697, 0])"
      ]
     },
     "execution_count": 63,
     "metadata": {},
     "output_type": "execute_result"
    }
   ],
   "source": [
    "# create cluster dataloaders, use rw probability to sample pst cache\n",
    "metis_c0_iter = ClusterIter(dataset, g, psize=psize, bsize=bsize, hsize=bsize, rw=True,\n",
    "                            partitioner=MetisBalancedPartitioner(), popular_ratio=0).__iter__()\n",
    "metis_c1_iter = ClusterIter(dataset, g, psize=psize, bsize=bsize, hsize=bsize, rw=True,\n",
    "                            partitioner=MetisBalancedPartitioner(), popular_ratio=pratio).__iter__()\n",
    "rand_c1_iter = ClusterIter(dataset, g, psize=psize, bsize=bsize, hsize=bsize, rw=True,\n",
    "                           partitioner=RandomNodePartitioner(), popular_ratio=pratio).__iter__()\n",
    "rand_c0_iter = ClusterIter(dataset, g, psize=psize, bsize=bsize, hsize=bsize, rw=True,\n",
    "                           partitioner=RandomNodePartitioner(), popular_ratio=0).__iter__()\n",
    "\n",
    "degree_diff(metis_c0_iter, metis_c1_iter, rand_c0_iter, rand_c1_iter, iters=iters, fanout=fanout, ntype='dyn')"
   ]
  },
  {
   "cell_type": "code",
   "execution_count": 114,
   "metadata": {},
   "outputs": [
    {
     "data": {
      "image/png": "[encoded data removed]",
      "text/plain": [
       "<Figure size 864x360 with 2 Axes>"
      ]
     },
     "metadata": {
      "needs_background": "light"
     },
     "output_type": "display_data"
    }
   ],
   "source": [
    "plt.rcParams['figure.figsize'] = [12, 5]\n",
    "plt.figure()\n",
    "ax = plt.subplot(121)\n",
    "ax.set_title(\"Degree of train nodes\")\n",
    "ax.plot(dist_c0[1][3], color='gray')\n",
    "ax.plot(dist_c1[1][2], color='r')\n",
    "ax.plot(dist_c0[1][2], color='green')\n",
    "\n",
    "ax = plt.subplot(122)\n",
    "ax.set_title(\"Degree of all nodes (excluding p-cache)\")\n",
    "ax.plot(dist_c0[2][3], color='gray')\n",
    "ax.plot(dist_c1[2][2], color='r')\n",
    "ax.plot(dist_c0[2][2], color='green')\n",
    "plt.show()"
   ]
  },
  {
   "cell_type": "code",
   "execution_count": 61,
   "metadata": {},
   "outputs": [
    {
     "data": {
      "text/plain": [
       "(tensor(44346), tensor(451436))"
      ]
     },
     "execution_count": 61,
     "metadata": {},
     "output_type": "execute_result"
    }
   ],
   "source": [
    "def intra_inter_degrees(g, node_set):\n",
    "    deg_sum = g.in_degrees(node_set).sum()\n",
    "    sg = g.subgraph(node_set)\n",
    "    intra_deg = sg.in_degrees().sum()\n",
    "    return intra_deg, deg_sum - intra_deg\n",
    "\n",
    "intra_inter_degrees(metis_c1_iter.g, torch.cat(metis_c1_iter.node_cache_parts))"
   ]
  },
  {
   "cell_type": "code",
   "execution_count": 34,
   "metadata": {},
   "outputs": [
    {
     "data": {
      "text/plain": [
       "<Figure size 432x288 with 0 Axes>"
      ]
     },
     "metadata": {},
     "output_type": "display_data"
    },
    {
     "data": {
      "image/png": "[encoded data removed]",
      "text/plain": [
       "<Figure size 432x288 with 1 Axes>"
      ]
     },
     "metadata": {
      "needs_background": "light"
     },
     "output_type": "display_data"
    }
   ],
   "source": [
    "plt.figure()\n",
    "_, metis_sg_c1, g_dist = degree_dist(metis_c1_iter, g)\n",
    "_, metis_sg_c0, _ = degree_dist(metis_c0_iter, g)\n",
    "_, rand_sg_c1, _ = degree_dist(rand_c1_iter, g)\n",
    "_, rand_sg_c0, _ = degree_dist(rand_c0_iter, g)\n",
    "plt.figure()\n",
    "\n",
    "g_sorted, _ = torch.sort(metis_g_dist, descending=True)\n",
    "metis_c1_sorted, _ = torch.sort(metis_sg_c1, descending=True)\n",
    "metis_c0_sorted, _ = torch.sort(metis_sg_c0, descending=True)\n",
    "rand_c1_sorted, _ = torch.sort(rand_sg_c1, descending=True)\n",
    "rand_c0_sorted, _ = torch.sort(rand_sg_c0, descending=True)\n",
    "plt.plot(g_sorted, color='black')\n",
    "plt.plot(metis_c1_sorted, color='red')\n",
    "plt.plot(metis_c0_sorted, color='orange')\n",
    "plt.plot(rand_c1_sorted, color='blue')\n",
    "plt.plot(rand_c0_sorted, color='green')\n",
    "plt.ylim([0, 50])\n",
    "plt.show()"
   ]
  },
  {
   "cell_type": "code",
   "execution_count": 6,
   "metadata": {
    "scrolled": true
   },
   "outputs": [
    {
     "name": "stdout",
     "output_type": "stream",
     "text": [
      "Seed nodes to start sampling with:\n",
      "tensor([1300887, 2099796, 2418273, 1632254, 1366510, 1241817, 1395205, 1757922,\n",
      "         344507, 2110793, 2446189, 1886552, 1636847,  544967,  475622,  442955,\n",
      "        1457436, 2046614, 1496639,  157365,  941564, 1344644, 2125957, 2128770,\n",
      "        1856015,  626054,  103844, 1597071, 1000066, 2376133,  925419,  627206])\n"
     ]
    }
   ],
   "source": [
    "seeds = torch.randint(g.num_nodes(), (32,))\n",
    "print(\"Seed nodes to start sampling with:\")\n",
    "print(seeds)"
   ]
  },
  {
   "cell_type": "code",
   "execution_count": null,
   "metadata": {},
   "outputs": [],
   "source": []
  }
 ],
 "metadata": {
  "kernelspec": {
   "display_name": "gnn",
   "language": "python",
   "name": "gnn"
  },
  "language_info": {
   "codemirror_mode": {
    "name": "ipython",
    "version": 3
   },
   "file_extension": ".py",
   "mimetype": "text/x-python",
   "name": "python",
   "nbconvert_exporter": "python",
   "pygments_lexer": "ipython3",
   "version": "3.9.12"
  }
 },
 "nbformat": 4,
 "nbformat_minor": 5
}
